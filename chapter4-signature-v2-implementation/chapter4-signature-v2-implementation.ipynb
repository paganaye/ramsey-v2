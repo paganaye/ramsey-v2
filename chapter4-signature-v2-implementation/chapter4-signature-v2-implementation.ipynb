{
 "cells": [
  {
   "cell_type": "markdown",
   "id": "ae858aa9",
   "metadata": {},
   "source": [
    "# 4 Signature v2 Implementation\n",
    "\n",
    "# 4.1 Introduction\n",
    "\n",
    "In Chapter 3 we devised a signature v2 algorithm.\n",
    "\n",
    "In this chapter we implement it and use it."
   ]
  },
  {
   "cell_type": "markdown",
   "id": "8fa702d8",
   "metadata": {},
   "source": [
    "# 4.2 The source\n",
    "\n",
    "Attached to this document you can find two files\n",
    "- graph_signature_v2.py : The entire implementation of the signature v2 algorithm\n",
    "- utils.py : A few optional utility function used for illustrating this notebook.\n"
   ]
  },
  {
   "cell_type": "markdown",
   "id": "f99b9216",
   "metadata": {},
   "source": [
    "## 4.3 The NodeSignature class\n",
    "\n",
    "this class is #todo\n",
    "\n",
    "### 4.3.1 Check NodeSignature Comparer Inequality\n",
    "\n",
    "Verifies compare_signatures correctly orders distinct signatures based on all priority rules."
   ]
  },
  {
   "cell_type": "code",
   "execution_count": 8,
   "id": "c8291ab1",
   "metadata": {},
   "outputs": [
    {
     "name": "stdout",
     "output_type": "stream",
     "text": [
      "✅ .1 {neighbour_count:4} is shown before {neighbour_count:3}\n",
      "✅ .2 {final_index:3} is shown before {final_index:4}\n",
      "✅ .3 {loop_length:3} is shown before {loop_length:4}\n",
      "✅ .4 {resolution_step:1} is shown before {resolution_step:2}\n",
      "✅ .5 {inner neighbour_count:2} is shown before {inner neighbour_count:1}\n"
     ]
    }
   ],
   "source": [
    "from graph_signature_v2 import NodeSignature, compare_signatures\n",
    "from utils import check\n",
    "\n",
    "check(\n",
    "    \"\"\".1 {neighbour_count:4} is shown before {neighbour_count:3}\"\"\",\n",
    "    compare_signatures(\n",
    "        NodeSignature(label=\"A\", neighbour_count=4),\n",
    "        NodeSignature(label=\"B\", neighbour_count=3),\n",
    "    )\n",
    "    < 0,\n",
    ")\n",
    "\n",
    "check(\n",
    "    \"\"\".2 {final_index:3} is shown before {final_index:4}\"\"\",\n",
    "    compare_signatures(\n",
    "        NodeSignature(label=\"A\", final_index=3, neighbour_count=1),\n",
    "        NodeSignature(label=\"B\", final_index=4, neighbour_count=1),\n",
    "    )\n",
    "    < 0,\n",
    ")\n",
    "\n",
    "check(\n",
    "    \"\"\".3 {loop_length:3} is shown before {loop_length:4}\"\"\",\n",
    "    compare_signatures(\n",
    "        NodeSignature(label=\"A\", loop_length=3, neighbour_count=1),\n",
    "        NodeSignature(label=\"B\", loop_length=4, neighbour_count=1),\n",
    "    )\n",
    "    < 0,\n",
    ")\n",
    "\n",
    "check(\n",
    "    \"\"\".4 {resolution_step:1} is shown before {resolution_step:2}\"\"\",\n",
    "    compare_signatures(\n",
    "        NodeSignature(label=\"A\", final_index=0,\n",
    "                      neighbour_count=1, resolution_step=1),\n",
    "        NodeSignature(label=\"B\", final_index=0,\n",
    "                      neighbour_count=1, resolution_step=2),\n",
    "    )\n",
    "    < 0,\n",
    ")\n",
    "\n",
    "check(\n",
    "    \"\"\".5 {inner neighbour_count:2} is shown before {inner neighbour_count:1}\"\"\",\n",
    "    compare_signatures(\n",
    "        NodeSignature(\n",
    "            label=\"A\",\n",
    "            neighbour_count=1,\n",
    "            neighbours=[NodeSignature(neighbour_count=2, label=\"?\")],\n",
    "        ),\n",
    "        NodeSignature(\n",
    "            label=\"B\",\n",
    "            neighbour_count=1,\n",
    "            neighbours=[NodeSignature(neighbour_count=1, label=\"?\")],\n",
    "        ),\n",
    "    )\n",
    "    < 0,\n",
    ")"
   ]
  },
  {
   "cell_type": "markdown",
   "id": "7a2fe211",
   "metadata": {},
   "source": [
    "### 4.3.2 Check NodeSignature Comparer Equality\n",
    "\n",
    "Verifies compare_signatures returns zero for signatures considered identical by all priority rules."
   ]
  },
  {
   "cell_type": "code",
   "execution_count": 9,
   "id": "ba2ac40c",
   "metadata": {},
   "outputs": [
    {
     "name": "stdout",
     "output_type": "stream",
     "text": [
      "✅ .1 {neighbour_count:4} is equal to {neighbour_count:4}\n",
      "✅ .2 {final_index:3} is equal to {final_index:3}\n",
      "✅ .3 {loop_length:3} is equal to {loop_length:3}\n",
      "✅ .4 {resolution_step:1} is equal to {resolution_step:1}\n",
      "✅ .5 {inner neighbour_count:2} is equal to {inner neighbour_count:2}\n"
     ]
    }
   ],
   "source": [
    "check(\n",
    "    \"\"\".1 {neighbour_count:4} is equal to {neighbour_count:4}\"\"\",\n",
    "    compare_signatures(\n",
    "        NodeSignature(label=\"A\", neighbour_count=4),\n",
    "        NodeSignature(label=\"B\", neighbour_count=4),\n",
    "    )\n",
    "    == 0,\n",
    ")\n",
    "\n",
    "check(\n",
    "    \"\"\".2 {final_index:3} is equal to {final_index:3}\"\"\",\n",
    "    compare_signatures(\n",
    "        NodeSignature(label=\"A\", final_index=3, neighbour_count=1),\n",
    "        NodeSignature(label=\"B\", final_index=3, neighbour_count=1),\n",
    "    )\n",
    "    == 0,\n",
    ")\n",
    "\n",
    "check(\n",
    "    \"\"\".3 {loop_length:3} is equal to {loop_length:3}\"\"\",\n",
    "    compare_signatures(\n",
    "        NodeSignature(label=\"A\", loop_length=3, neighbour_count=1),\n",
    "        NodeSignature(label=\"B\", loop_length=3, neighbour_count=1),\n",
    "    )\n",
    "    == 0,\n",
    ")\n",
    "\n",
    "check(\n",
    "    \"\"\".4 {resolution_step:1} is equal to {resolution_step:1}\"\"\",\n",
    "    compare_signatures(\n",
    "        NodeSignature(label=\"A\", final_index=0,\n",
    "                      neighbour_count=1, resolution_step=1),\n",
    "        NodeSignature(label=\"B\", final_index=0,\n",
    "                      neighbour_count=1, resolution_step=1),\n",
    "    )\n",
    "    == 0,\n",
    ")\n",
    "\n",
    "check(\n",
    "    \"\"\".5 {inner neighbour_count:2} is equal to {inner neighbour_count:2}\"\"\",\n",
    "    compare_signatures(\n",
    "        NodeSignature(\n",
    "            label=\"A\",\n",
    "            neighbour_count=1,\n",
    "            neighbours=[NodeSignature(neighbour_count=2, label=\"?\")],\n",
    "        ),\n",
    "        NodeSignature(\n",
    "            label=\"B\",\n",
    "            neighbour_count=1,\n",
    "            neighbours=[NodeSignature(neighbour_count=2, label=\"?\")],\n",
    "        ),\n",
    "    )\n",
    "    == 0,\n",
    ")"
   ]
  },
  {
   "cell_type": "markdown",
   "id": "fecd1118",
   "metadata": {},
   "source": [
    "#### 4.3.3 Check Complex Priority Fallback"
   ]
  },
  {
   "cell_type": "code",
   "execution_count": 10,
   "id": "bae9e35c",
   "metadata": {},
   "outputs": [
    {
     "name": "stdout",
     "output_type": "stream",
     "text": [
      "✅ .1 Falls back to resolution_step when neighbour_count is equal\n",
      "✅ .2 Falls back to loop_length when neighbour_count and resolution_step are equal\n",
      "✅ .3 Falls back to final_index when neighbour_count,resolution_step and loop_length are equal\n",
      "✅ .4 Returns 0 for deeply identical complex signatures\n",
      "✅ .5 Compares deep signatures\n"
     ]
    }
   ],
   "source": [
    "check(\n",
    "    \".1 Falls back to resolution_step when neighbour_count is equal\", compare_signatures(\n",
    "        NodeSignature(label=\"A\", neighbour_count=3, resolution_step=2),\n",
    "        NodeSignature(label=\"B\", neighbour_count=3, resolution_step=5),\n",
    "    )\n",
    "    < 0,  # Should be true because 2 < 5\n",
    ")\n",
    "\n",
    "check(\n",
    "    \".2 Falls back to loop_length when neighbour_count and resolution_step are equal\",\n",
    "    compare_signatures(\n",
    "        NodeSignature(label=\"A\", neighbour_count=3,\n",
    "                      resolution_step=2, loop_length=2),\n",
    "        NodeSignature(label=\"B\", neighbour_count=3,\n",
    "                      resolution_step=2, loop_length=5),\n",
    "    )\n",
    "    < 0,  # Should be true because 2 < 5\n",
    ")\n",
    "\n",
    "\n",
    "check(\n",
    "    \".3 Falls back to final_index when neighbour_count,resolution_step and loop_length are equal\",\n",
    "    compare_signatures(\n",
    "        NodeSignature(\n",
    "            label=\"A\", neighbour_count=3, resolution_step=2, loop_length=2, final_index=2\n",
    "        ),\n",
    "        NodeSignature(\n",
    "            label=\"B\", neighbour_count=3, resolution_step=2, loop_length=2, final_index=5\n",
    "        ),\n",
    "    )\n",
    "    < 0,  # Should be true because 2 < 5\n",
    ")\n",
    "\n",
    "# Let's build two complex but identical signatures for a deep equality check.\n",
    "sig_a = NodeSignature(\n",
    "    label=\"A\",\n",
    "    neighbour_count=2,\n",
    "    resolution_step=3,\n",
    "    loop_length=None,  # Explicitly same\n",
    "    final_index=5,\n",
    "    neighbours=[\n",
    "        NodeSignature(neighbour_count=4, label=\"?\"),\n",
    "        NodeSignature(neighbour_count=3, label=\"?\", final_index=10),\n",
    "    ],\n",
    ")\n",
    "\n",
    "sig_b = NodeSignature(\n",
    "    label=\"B\",\n",
    "    neighbour_count=2,  # Identical\n",
    "    resolution_step=3,  # Identical\n",
    "    loop_length=None,  # Identical\n",
    "    final_index=5,  # Identical\n",
    "    neighbours=[\n",
    "        # Identical inner signature 1\n",
    "        NodeSignature(neighbour_count=4, label=\"?\"),\n",
    "        NodeSignature(\n",
    "            neighbour_count=3, label=\"?\", final_index=10\n",
    "        ),  # Identical inner signature 2\n",
    "    ],\n",
    ")\n",
    "\n",
    "check(\n",
    "    \".4 Returns 0 for deeply identical complex signatures\",\n",
    "    compare_signatures(sig_a, sig_b) == 0,\n",
    ")\n",
    "\n",
    "sig_c = NodeSignature(\n",
    "    label=\"B\",\n",
    "    neighbour_count=2,  # Identical\n",
    "    resolution_step=3,  # Identical\n",
    "    loop_length=None,  # Identical\n",
    "    final_index=5,  # Identical\n",
    "    neighbours=[\n",
    "        NodeSignature(neighbour_count=4, label=\"?\"),  # Identical\n",
    "        NodeSignature(neighbour_count=3, label=\"?\", final_index=11),  # Different\n",
    "    ],\n",
    ")\n",
    "\n",
    "check(\n",
    "    \".5 Compares deep signatures\",\n",
    "    # inner final_index 10 < inner final_index 11\n",
    "    compare_signatures(sig_a, sig_c) < 0,\n",
    ")"
   ]
  },
  {
   "cell_type": "markdown",
   "id": "bcd97255",
   "metadata": {},
   "source": [
    "## 4.4 GraphSignatures class\n",
    "\n",
    "GraphSignatures is todo\n",
    "\n",
    "### 4.4.1 check GraphSignatures constructor with a complex Graph\n",
    "\n",
    "Verifies that the constructor correctly initializes the signatures map from a more complex graph that will be reused in subsequent tests."
   ]
  },
  {
   "cell_type": "code",
   "execution_count": 11,
   "id": "cde18171",
   "metadata": {},
   "outputs": [
    {
     "name": "stdout",
     "output_type": "stream",
     "text": [
      "--- 2.1 Check GraphSignatures constructor with complex graph ---\n",
      "✅ .1 The number of signatures should match the number of nodes (6)\n",
      "✅ .2 Node 'B' signature is correctly initialized with neighbour_count=4\n",
      "✅ .3 Node 'D' signature is correctly initialized with neighbour_count=2\n",
      "✅ .4 Initially, signatures of structurally ambiguous nodes ('D', 'E', 'F') are equal\n"
     ]
    }
   ],
   "source": [
    "import networkx as nx\n",
    "from graph_signature_v2 import GraphSignatures, compare_signatures\n",
    "\n",
    "# Create the complex graph for our tests\n",
    "complex_graph = nx.Graph()\n",
    "edges = [\n",
    "    (\"A\", \"B\"), (\"A\", \"C\"), (\"A\", \"D\"),\n",
    "    (\"B\", \"D\"), (\"B\", \"E\"), (\"B\", \"F\"),\n",
    "    (\"E\", \"F\")\n",
    "]\n",
    "complex_graph.add_edges_from(edges)\n",
    "\n",
    "# Instantiate the GraphSignatures object\n",
    "g_sigs_complex = GraphSignatures(graph=complex_graph)\n",
    "\n",
    "# Perform checks\n",
    "print(\"--- 2.1 Check GraphSignatures constructor with complex graph ---\")\n",
    "\n",
    "check(\n",
    "    \".1 The number of signatures should match the number of nodes (6)\",\n",
    "    len(g_sigs_complex.signatures_map) == 6\n",
    ")\n",
    "\n",
    "# Check a unique node 'B' (degree 4)\n",
    "node_b_sig = g_sigs_complex.signatures_map.get(\"B\")\n",
    "check(\n",
    "    \".2 Node 'B' signature is correctly initialized with neighbour_count=4\",\n",
    "    node_b_sig is not None and node_b_sig.neighbour_count == 4\n",
    ")\n",
    "\n",
    "# Check an ambiguous node 'D' (degree 2)\n",
    "node_d_sig = g_sigs_complex.signatures_map.get(\"D\")\n",
    "check(\n",
    "    \".3 Node 'D' signature is correctly initialized with neighbour_count=2\",\n",
    "    node_d_sig is not None and node_d_sig.neighbour_count == 2\n",
    ")\n",
    "\n",
    "# Crucial check: verify that the initially ambiguous nodes have equal signatures\n",
    "node_e_sig = g_sigs_complex.signatures_map.get(\"E\")\n",
    "node_f_sig = g_sigs_complex.signatures_map.get(\"F\")\n",
    "check(\n",
    "    \".4 Initially, signatures of structurally ambiguous nodes ('D', 'E', 'F') are equal\",\n",
    "    compare_signatures(node_d_sig, node_e_sig) == 0 and\n",
    "    compare_signatures(node_d_sig, node_f_sig) == 0\n",
    ")"
   ]
  },
  {
   "cell_type": "markdown",
   "id": "2fa6c698",
   "metadata": {},
   "source": [
    "## 4.5 Main algorithm\n",
    "\n",
    "### 4.5.1 Check the first `process_pass` on the complex graph\n",
    "\n",
    "\n",
    "Verifies that `process_pass` correctly finalizes all nodes that are unique\n",
    "by their degree in the first pass, while leaving ambiguous nodes unresolved.\n",
    "\n",
    "| Node | Neighbour count | Neighbours |\n",
    "| :--- | :-------------- | :--------- |\n",
    "| A    | 3               | B C D      |\n",
    "| B    | 4               | A D E F    |\n",
    "| C    | 1               | A          |\n",
    "| D    | 2               | A B        |\n",
    "| E    | 2               | B F        |\n",
    "| F    | 2               | B E        |\n",
    "\n",
    "![ch4-graph1.png](images/ch4-graph1.png)\n"
   ]
  },
  {
   "cell_type": "markdown",
   "id": "9006cf09",
   "metadata": {},
   "source": [
    "### 4.5.2 Pass 1"
   ]
  },
  {
   "cell_type": "code",
   "execution_count": 12,
   "id": "f3cb7065",
   "metadata": {},
   "outputs": [
    {
     "name": "stdout",
     "output_type": "stream",
     "text": [
      "--- 2.2 Check first process_pass on complex graph ---\n",
      "✅ .1 process_pass should report that progress was made\n",
      "✅ .2 Node 'B' (nc=4) should be finalized\n",
      "✅ .3 Node 'A' (nc=3) should be finalized\n",
      "✅ .4 Node 'C' (nc=1) should be finalized\n",
      "✅ .5 Node 'D' (nc=2) should NOT be finalized\n",
      "✅ .6 Node 'E' (nc=2) should NOT be finalized\n",
      "✅ .7 Node 'F' (nc=2) should NOT be finalized\n",
      "✅ .8 Node 'B' has correct final_index\n",
      "✅ .9 Node 'A' has correct final_index\n",
      "✅ .10 Node 'C' has correct final_index\n"
     ]
    },
    {
     "data": {
      "image/png": "[encoded data removed]",
      "text/plain": [
       "<Figure size 1000x600 with 1 Axes>"
      ]
     },
     "metadata": {},
     "output_type": "display_data"
    }
   ],
   "source": [
    "from utils import make_figure\n",
    "\n",
    "# Re-creating the setup to keep the test cell independent\n",
    "\n",
    "g_sigs_2_2 = GraphSignatures(graph=complex_graph)\n",
    "\n",
    "# Run the first pass\n",
    "made_progress = g_sigs_2_2.process_pass(pass_number=1)\n",
    "\n",
    "# --- Perform checks ---\n",
    "print(\"--- 2.2 Check first process_pass on complex graph ---\")\n",
    "\n",
    "check(\n",
    "    \".1 process_pass should report that progress was made\",\n",
    "    made_progress == True\n",
    ")\n",
    "\n",
    "# Get all signatures after the pass\n",
    "sigs = g_sigs_2_2.signatures_map\n",
    "node_a_sig = sigs.get(\"A\")\n",
    "node_b_sig = sigs.get(\"B\")\n",
    "node_c_sig = sigs.get(\"C\")\n",
    "node_d_sig = sigs.get(\"D\")\n",
    "node_e_sig = sigs.get(\"E\")\n",
    "node_f_sig = sigs.get(\"F\")\n",
    "\n",
    "# Check the unique nodes that should now be finalized\n",
    "check(\".2 Node 'B' (nc=4) should be finalized\", node_b_sig.is_finalized())\n",
    "check(\".3 Node 'A' (nc=3) should be finalized\", node_a_sig.is_finalized())\n",
    "check(\".4 Node 'C' (nc=1) should be finalized\", node_c_sig.is_finalized())\n",
    "\n",
    "# Check the ambiguous group that should NOT be finalized\n",
    "check(\".5 Node 'D' (nc=2) should NOT be finalized\",\n",
    "      not node_d_sig.is_finalized())\n",
    "check(\".6 Node 'E' (nc=2) should NOT be finalized\",\n",
    "      not node_e_sig.is_finalized())\n",
    "check(\".7 Node 'F' (nc=2) should NOT be finalized\",\n",
    "      not node_f_sig.is_finalized())\n",
    "\n",
    "# Optional: Check the final_index values based on descending neighbour_count sort\n",
    "# B (nc=4) -> index 0\n",
    "# A (nc=3) -> index 1\n",
    "# D,E,F (nc=2) -> indices 2,3,4\n",
    "# C (nc=1) -> index 5\n",
    "check(\".8 Node 'B' has correct final_index\", node_b_sig.final_index == 0)\n",
    "check(\".9 Node 'A' has correct final_index\", node_a_sig.final_index == 1)\n",
    "check(\".10 Node 'C' has correct final_index\", node_c_sig.final_index == 5)\n",
    "\n",
    "make_figure(g_sigs_2_2, \"G1 after pass 1\")"
   ]
  },
  {
   "cell_type": "markdown",
   "id": "7bd141c1",
   "metadata": {},
   "source": [
    "### 4.5.3 Pass 2"
   ]
  },
  {
   "cell_type": "code",
   "execution_count": 13,
   "id": "14a9343c",
   "metadata": {},
   "outputs": [
    {
     "name": "stdout",
     "output_type": "stream",
     "text": [
      "made_progress True\n"
     ]
    },
    {
     "data": {
      "image/png": "[encoded data removed]",
      "text/plain": [
       "<Figure size 1000x600 with 1 Axes>"
      ]
     },
     "metadata": {},
     "output_type": "display_data"
    }
   ],
   "source": [
    "g_sigs_2_2.expand_ambiguous_nodes(pass_number=2)\n",
    "made_progress = g_sigs_2_2.process_pass(pass_number=2)\n",
    "print(\"made_progress\", made_progress)\n",
    "\n",
    "make_figure(g_sigs_2_2, \"G1 after pass 2\")"
   ]
  },
  {
   "cell_type": "markdown",
   "id": "a4c04b88",
   "metadata": {},
   "source": [
    "### 4.5.4 Pass 3"
   ]
  },
  {
   "cell_type": "code",
   "execution_count": 14,
   "id": "aed4d068",
   "metadata": {},
   "outputs": [
    {
     "name": "stdout",
     "output_type": "stream",
     "text": [
      "made_progress False\n"
     ]
    }
   ],
   "source": [
    "g_sigs_2_2.expand_ambiguous_nodes(pass_number=3)\n",
    "made_progress = g_sigs_2_2.process_pass(pass_number=3)\n",
    "print(\"made_progress\", made_progress)\n"
   ]
  }
 ],
 "metadata": {
  "kernelspec": {
   "display_name": "3.12.0",
   "language": "python",
   "name": "python3"
  },
  "language_info": {
   "codemirror_mode": {
    "name": "ipython",
    "version": 3
   },
   "file_extension": ".py",
   "mimetype": "text/x-python",
   "name": "python",
   "nbconvert_exporter": "python",
   "pygments_lexer": "ipython3",
   "version": "3.12.0"
  }
 },
 "nbformat": 4,
 "nbformat_minor": 5
}
