{
 "cells": [
  {
   "cell_type": "markdown",
   "id": "ae858aa9",
   "metadata": {},
   "source": [
    "# Introduction\n",
    "\n",
    "In Chapter 3 we devised a signature v2 algorithm.\n",
    "\n",
    "In this chapter we implement it and use it."
   ]
  },
  {
   "cell_type": "code",
   "execution_count": 8,
   "id": "b38adde9",
   "metadata": {
    "tags": [
     "util",
     "remove_input",
     "hide-input"
    ]
   },
   "outputs": [],
   "source": [
    "def check(message, condition: bool):\n",
    "    if condition:\n",
    "        print(\"✓ \" + message)\n",
    "    else:\n",
    "        print(\"✗ \" + message)"
   ]
  },
  {
   "cell_type": "markdown",
   "id": "f99b9216",
   "metadata": {},
   "source": [
    "# 1 Check NodeSignature\n",
    "\n",
    "## 1.0 Check Comparer Inequality"
   ]
  },
  {
   "cell_type": "code",
   "execution_count": 11,
   "id": "c8291ab1",
   "metadata": {},
   "outputs": [
    {
     "name": "stdout",
     "output_type": "stream",
     "text": [
      "✓ {neighborCount:4} is shown before {neighborCount:3}\n",
      "✓ {finalIndex:3} is shown before {finalIndex:4}\n",
      "✓ {cycleDistance:3} is shown before {cycleDistance:4}\n",
      "✓ {resolutionStep:1} is shown before {resolutionStep:2}\n",
      "✓ {inner neighborCount:2} is shown before {inner neighborCount:1}\n"
     ]
    }
   ],
   "source": [
    "from graph_signature_v2 import NodeSignature, compare_signatures\n",
    "\n",
    "check(\n",
    "    \"\"\"{neighborCount:4} is shown before {neighborCount:3}\"\"\",\n",
    "    compare_signatures(\n",
    "        NodeSignature(label=\"A\", neighborCount=4),\n",
    "        NodeSignature(label=\"B\", neighborCount=3),\n",
    "    )\n",
    "    < 0,\n",
    ")\n",
    "\n",
    "check(\n",
    "    \"\"\"{finalIndex:3} is shown before {finalIndex:4}\"\"\",\n",
    "    compare_signatures(\n",
    "        NodeSignature(label=\"A\", finalIndex=3, neighborCount=1),\n",
    "        NodeSignature(label=\"B\", finalIndex=4, neighborCount=1),\n",
    "    )\n",
    "    < 0,\n",
    ")\n",
    "\n",
    "check(\n",
    "    \"\"\"{cycleDistance:3} is shown before {cycleDistance:4}\"\"\",\n",
    "    compare_signatures(\n",
    "        NodeSignature(label=\"A\", cycleDistance=3, neighborCount=1),\n",
    "        NodeSignature(label=\"B\", cycleDistance=4, neighborCount=1),\n",
    "    )\n",
    "    < 0,\n",
    ")\n",
    "\n",
    "check(\n",
    "    \"\"\"{resolutionStep:1} is shown before {resolutionStep:2}\"\"\",\n",
    "    compare_signatures(\n",
    "        NodeSignature(label=\"A\", finalIndex=0, neighborCount=1, resolutionStep=1),\n",
    "        NodeSignature(label=\"B\", finalIndex=0, neighborCount=1, resolutionStep=2),\n",
    "    )\n",
    "    < 0,\n",
    ")\n",
    "\n",
    "check(\n",
    "    \"\"\"{inner neighborCount:2} is shown before {inner neighborCount:1}\"\"\",\n",
    "    compare_signatures(\n",
    "        NodeSignature(\n",
    "            label=\"A\", neighborCount=1, neighbors=[NodeSignature(neighborCount=2)]\n",
    "        ),\n",
    "        NodeSignature(\n",
    "            label=\"B\", neighborCount=1, neighbors=[NodeSignature(neighborCount=1)]\n",
    "        ),\n",
    "    )\n",
    "    < 0,\n",
    ")"
   ]
  },
  {
   "cell_type": "markdown",
   "id": "7a2fe211",
   "metadata": {},
   "source": [
    "# 1.1 Check NodeSignature Comparer Equality"
   ]
  },
  {
   "cell_type": "code",
   "execution_count": null,
   "id": "ba2ac40c",
   "metadata": {},
   "outputs": [
    {
     "name": "stdout",
     "output_type": "stream",
     "text": [
      "✓ {neighborCount:4} is equal to {neighborCount:4}\n",
      "✓ {finalIndex:3} is equal to {finalIndex:3}\n",
      "✓ {cycleDistance:3} is equal to {cycleDistance:3}\n",
      "✓ {finishStep:1} is equal to {finishStep:1}\n",
      "✓ {inner neighborCount:2} is equal to {inner neighborCount:2}\n"
     ]
    }
   ],
   "source": [
    "check(\n",
    "    \"\"\"{neighborCount:4} is equal to {neighborCount:4}\"\"\",\n",
    "    compare_signatures(\n",
    "        NodeSignature(label=\"A\", neighborCount=4),\n",
    "        NodeSignature(label=\"B\", neighborCount=4),\n",
    "    )\n",
    "    == 0,\n",
    ")\n",
    "\n",
    "check(\n",
    "    \"\"\"{finalIndex:3} is equal to {finalIndex:3}\"\"\",\n",
    "    compare_signatures(\n",
    "        NodeSignature(label=\"A\", finalIndex=3, neighborCount=1),\n",
    "        NodeSignature(label=\"B\", finalIndex=3, neighborCount=1),\n",
    "    )\n",
    "    == 0,\n",
    ")\n",
    "\n",
    "check(\n",
    "    \"\"\"{cycleDistance:3} is equal to {cycleDistance:3}\"\"\",\n",
    "    compare_signatures(\n",
    "        NodeSignature(label=\"A\", cycleDistance=3, neighborCount=1),\n",
    "        NodeSignature(label=\"B\", cycleDistance=3, neighborCount=1),\n",
    "    )\n",
    "    == 0,\n",
    ")\n",
    "\n",
    "check(\n",
    "    \"\"\"{finishStep:1} is equal to {finishStep:1}\"\"\",\n",
    "    compare_signatures(\n",
    "        NodeSignature(label=\"A\", finalIndex=0, neighborCount=1, finishStep=1),\n",
    "        NodeSignature(label=\"B\", finalIndex=0, neighborCount=1, finishStep=1),\n",
    "    )\n",
    "    == 0,\n",
    ")\n",
    "\n",
    "check(\n",
    "    \"\"\"{inner neighborCount:2} is equal to {inner neighborCount:2}\"\"\",\n",
    "    compare_signatures(\n",
    "        NodeSignature(\n",
    "            label=\"A\", neighborCount=1, neighbors=[NodeSignature(neighborCount=2)]\n",
    "        ),\n",
    "        NodeSignature(\n",
    "            label=\"B\", neighborCount=1, neighbors=[NodeSignature(neighborCount=2)]\n",
    "        ),\n",
    "    )\n",
    "    == 0,\n",
    ")"
   ]
  },
  {
   "cell_type": "markdown",
   "id": "fde8f263",
   "metadata": {},
   "source": [
    "# 2 Check process_signatures_pass\n",
    "\n",
    "## 2.1 Ambiguous Signatures"
   ]
  },
  {
   "cell_type": "code",
   "execution_count": null,
   "id": "dd9d9132",
   "metadata": {},
   "outputs": [
    {
     "name": "stdout",
     "output_type": "stream",
     "text": [
      "--- Test 1: Ambiguous Signatures ---\n",
      "✓ No progress should be made for identical signatures\n",
      "✓ Node 'A' should remain ambiguous (no finalIndex)\n",
      "✓ Node 'B' should remain ambiguous (no finalIndex)\n"
     ]
    }
   ],
   "source": [
    "print(\"--- Test 1: Ambiguous Signatures ---\")\n",
    "\n",
    "# 1. Setup: Two identical signatures\n",
    "initial_signatures = [\n",
    "    NodeSignature(label=\"A\", neighborCount=4),\n",
    "    NodeSignature(label=\"B\", neighborCount=4),\n",
    "]\n",
    "\n",
    "# 2. Execute the function\n",
    "final_signatures, made_progress = process_signatures_pass(initial_signatures, 1)\n",
    "\n",
    "# 3. Check the results\n",
    "check(\"No progress should be made for identical signatures\", not made_progress)\n",
    "\n",
    "# We can also check that no signature was finalized\n",
    "check(\n",
    "    \"Node 'A' should remain ambiguous (no finalIndex)\",\n",
    "    final_signatures[0].finalIndex is None,\n",
    ")\n",
    "check(\n",
    "    \"Node 'B' should remain ambiguous (no finalIndex)\",\n",
    "    final_signatures[1].finalIndex is None,\n",
    ")"
   ]
  },
  {
   "cell_type": "code",
   "execution_count": 12,
   "id": "4a1ee267",
   "metadata": {},
   "outputs": [
    {
     "name": "stdout",
     "output_type": "stream",
     "text": [
      "--- Test 1.1: NodeSignature Simple Initialization (Collapsed State) ---\n",
      "✓ Test 1.1.1: Label should be 'A'\n",
      "✓ Test 1.1.2: neighborCount should be 3\n",
      "✓ Test 1.1.3: finalIndex should be None by default\n",
      "✓ Test 1.1.4: neighbors list should be None or empty by default\n",
      "✓ Test 1.1.5: cycleDistance should be None by default\n",
      "✓ Test 1.1.6: expandedStep should be None by default\n"
     ]
    }
   ],
   "source": [
    "print(\"--- Test 1.1: NodeSignature Simple Initialization (Collapsed State) ---\")\n",
    "\n",
    "# 1. Setup: Define parameters for a simple NodeSignature\n",
    "label_t1_1 = \"A\"\n",
    "neighbor_count_t1_1 = 3\n",
    "\n",
    "# 2. Execute: Create the NodeSignature object\n",
    "sig_t1_1 = NodeSignature(label=label_t1_1, neighborCount=neighbor_count_t1_1)\n",
    "\n",
    "# 3. Check the results: Verify core attributes and default values for optional ones\n",
    "check(\n",
    "    f\"Test 1.1.1: Label should be '{label_t1_1}'\", \n",
    "    sig_t1_1.label == label_t1_1\n",
    ")\n",
    "check(\n",
    "    f\"Test 1.1.2: neighborCount should be {neighbor_count_t1_1}\",\n",
    "    sig_t1_1.neighborCount == neighbor_count_t1_1\n",
    ")\n",
    "check(\n",
    "    \"Test 1.1.3: finalIndex should be None by default\",\n",
    "    sig_t1_1.finalIndex is None\n",
    ")\n",
    "check(\n",
    "    \"Test 1.1.4: neighbors list should be None or empty by default\", # Depending on your class implementation\n",
    "    sig_t1_1.neighbors is None or len(sig_t1_1.neighbors) == 0\n",
    ")\n",
    "check(\n",
    "    \"Test 1.1.5: cycleDistance should be None by default\",\n",
    "    sig_t1_1.cycleDistance is None\n",
    ")\n",
    "check(\n",
    "    \"Test 1.1.6: expandedStep should be None by default\",\n",
    "    sig_t1_1.resolutionStep is None\n",
    ")"
   ]
  }
 ],
 "metadata": {
  "kernelspec": {
   "display_name": "3.12.0",
   "language": "python",
   "name": "python3"
  },
  "language_info": {
   "codemirror_mode": {
    "name": "ipython",
    "version": 3
   },
   "file_extension": ".py",
   "mimetype": "text/x-python",
   "name": "python",
   "nbconvert_exporter": "python",
   "pygments_lexer": "ipython3",
   "version": "3.12.0"
  }
 },
 "nbformat": 4,
 "nbformat_minor": 5
}
