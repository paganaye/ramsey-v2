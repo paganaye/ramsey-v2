{
  "cells": [
    {
      "cell_type": "markdown",
      "metadata": {},
      "source": [
        "# 1 Introduction\n",
        "\n",
        "\n",
        "![figure 1 - Alien ultimatum](images/fig1-alien-ultimatum.jpeg)\n",
        "\n",
        "The legend, as told by the great mathematician Paul Erdős, goes like this: Imagine an alien force, vastly more powerful than us, lands on Earth. They issue an ultimatum: \"You have one Earth year to tell us the exact value of R(5,5). If you succeed, you prove your intellectual worthiness, and we leave you in peace. If you fail, we will obliterate your planet.\"\n",
        "\n",
        "Erdős mused that for R(5,5), humanity might have a fighting chance. He reckoned that if we marshaled all our mathematicians and all the world's computing power, we could probably find the value within that year. The fate of the world would hang in the balance, a direct consequence of a deep question about order and structure in graphs.\n",
        "\n",
        "However, Erdős also added a chilling corollary: \"But suppose,\" he'd say, \"the aliens asked for R(6,6). In that case, our best course of action would be to gather all our weapons and attempt to destroy the aliens.\" This highlights the monumental difficulty of these numbers.\n",
        "\n",
        "This \"Erdős-Alien Scenario\" isn't just a quirky thought experiment; it's a dramatic illustration of the profound challenge and importance that can be vested in a single, elusive number. My quest for R(5,5) might not involve literal planet-destroying aliens (as far as I know!), but the spirit of that challenge – pushing the boundaries of what's knowable against a formidable unknown – is what drives me.\n",
        "\n",
        "Since I don’t have access to all the computing power in the world (or a pending alien threat, thankfully), I’m approaching the problem step by step."
      ]
    },
    {
      "cell_type": "markdown",
      "metadata": {},
      "source": [
        "# What do the aliens mean by R(5,5)\n",
        "\n",
        "To explain what the aliens mean by R(5,5) we are going to first speak about R(3,3).\n",
        "\n",
        "## First R(3,3)\n",
        "\n",
        "If you organize a party and want to figure out the minimum number of guests you need to invite to be absolutely certain that among them, there will be either a group of three people who all know each other, or a group of three people who are all mutual strangers, then how many people do you need to invite?\n",
        "This number is Ramsey number (3,3) its value is famously, is 6.\n",
        "\n",
        "![figure 3 - Ramsey(3,3)](images/fig3-ramsey_3_3.png)\n",
        "\n",
        "Imagine the first scenario: a small gathering of 5 guests (A, B, C, D, E). The first illustration (the K_5 graph on the left) shows one specific way their relationships could be arranged. Think of the red, solid lines as pairs of guests who know each other, and the blue, dashed lines as pairs who are strangers. In this particular setup – where friendships form an outer cycle and stranger relationships form an inner star – if you look closely, you'll find no group of three guests who all know each other (no red triangle), and no group of three guests who are all strangers to one another (no blue triangle). Everyone has some friends and some non-friends within any group of three, but no uniform trio emerges. This picture demonstrates that with only 5 people in the room, you can avoid the situation R(3,3) describes. So, 5 guests are not enough.\n",
        "\n",
        "Now, let's look at the second illustration (the K_6 graph on the right), where we've invited a sixth guest, F, to the party. This picture shows one possible arrangement of friendships and stranger relationships among these 6 people. The key takeaway, which R(3,3)=6 guarantees, is that no matter how these 6 people know or don't know each other, you will always find at least one group of three who are all mutual friends OR one group of three who are all mutual strangers. In our specific drawing, we've highlighted one such group: guests A, B, and C are all connected by thick, red, solid lines, indicating they form a trio of mutual friends. While other guests (D, E, F) and their relationships (the thinner blue, dashed lines in this example) complete the party, this highlighted red triangle shows an instance of the inevitable social structure that emerges with 6 guests. This is why 6 is the 'magic number' for R(3,3).\n"
      ]
    },
    {
      "cell_type": "markdown",
      "metadata": {},
      "source": [
        "## Then R(4,4)\n",
        "\n",
        "Following this idea, R(4,4) tells us the minimum number of guests needed at a party to guarantee that there will always be a group of at least four mutual acquaintances or a group of at least four mutual strangers, a number which is 18.\n",
        "\n",
        "![figure 4 - Ramsey(4,4)](images/fig4-ramsey_4_4.png)"
      ]
    },
    {
      "cell_type": "markdown",
      "metadata": {},
      "source": [
        "## And finally R(5,5)\n",
        "\n",
        "For R(5,5): Similarly, R(5,5), the ultimate focus of our quest, is the minimum number of people you would need in a room to be absolutely certain that there exists a group of at least five who all know each other or a group of at least five who are all mutual strangers; this critical number is currently known to be between 43 and 46."
      ]
    },
    {
      "cell_type": "markdown",
      "metadata": {},
      "source": [
        "\n",
        "# The Challenge of Ramsey Numbers: A Growing Ladder\n",
        "The Challenge of Ramsey Numbers: A Growing Ladder\n",
        "We've briefly touched upon R(3,3), R(4,4), and R(5,5). To truly appreciate the escalating challenge these numbers present, particularly our target R(5,5), let's look at some of the figures that illustrate their growth in complexity. The table below shows key parameters associated with finding these Ramsey numbers. It focuses on the size of the complete graph (K_n) whose edges are 2-colored, where n=R(k,k)−1 is the number of vertices in the largest known graph that serves as a counterexample (i.e., does not contain a monochromatic K_k).\n",
        "\n",
        "| Ramsey Number R(k,k) | Value / Known Range | Vertices in Largest Counterexample Graph ($n=R(k,k)-1$) | Edges in $K_n$ ($n(n-1)/2$) | Possible 2-Colorings of $K_n$ ($2^{\\text{edges}}$) | Non-isomorphic Graphs on $n$ Vertices |\n",
        "| :------------------- | :------------------ | :-------------------------------------------------------- | :-------------------------- | :------------------------------------------------------- | :------------------------------------ |\n",
        "| R(3,3)               | 6                   | 5                                                         | 10                          | $2^{10} = 1,024$                                         | 34                                    |\n",
        "| R(4,4)               | 18                  | 17                                                        | 136                         | $2^{136} \\approx 8.7 \\times 10^{40}$                     | $\\approx 2.46 \\times 10^{23}$         |\n",
        "| R(5,5)               | 43 – 46             | 42 (for current lower bound $R(5,5) \\ge 43$)             | 861                         | $2^{861} \\approx 1.54 \\times 10^{259}$                   | Immense (not precisely calculated)    |\n",
        "\n",
        "Ramsey's problem is straightforward to state, and its solutions, R(k,k), are known for small 'k' where brute-force methods are feasible. However, the computational power required to determine R(k,k) for larger 'k' escalates to an astronomical and almost unbelievable magnitude.\n"
      ]
    },
    {
      "cell_type": "markdown",
      "metadata": {},
      "source": []
    },
    {
      "cell_type": "markdown",
      "metadata": {},
      "source": [
        "# Introduction Conclusion\n",
        "\n",
        "As the numbers in the table starkly demonstrate, brute-force methods hit an insurmountable wall when attempting to calculate larger Ramsey numbers. The sheer scale of the search space renders such approaches utterly impractical. Progress, therefore, doesn't just require more computing power; it hinges on a fundamental paradigm shift. \n",
        "\n",
        "We must move beyond exhaustive computation to cultivate a deeper, more nuanced understanding of the graph structures themselves, along with the principles governing the emergence of order within them.\n",
        "\n",
        "This refined insight is essential for developing the smarter strategies needed to make further headway, especially in our quest for R(5,5), and directly motivates our next step: finding a way to describe, understand and compare these simple graphs."
      ]
    }
  ],
  "metadata": {
    "colab": {
      "provenance": []
    },
    "kernelspec": {
      "display_name": "3.12.0",
      "language": "python",
      "name": "python3"
    },
    "language_info": {
      "codemirror_mode": {
        "name": "ipython",
        "version": 3
      },
      "file_extension": ".py",
      "mimetype": "text/x-python",
      "name": "python",
      "nbconvert_exporter": "python",
      "pygments_lexer": "ipython3",
      "version": "3.12.0"
    }
  },
  "nbformat": 4,
  "nbformat_minor": 0
}
