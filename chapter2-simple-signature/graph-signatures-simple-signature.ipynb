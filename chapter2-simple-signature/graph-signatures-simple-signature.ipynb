{
 "cells": [
  {
   "cell_type": "markdown",
   "id": "ae858aa9",
   "metadata": {},
   "source": [
    "# Introduction\n",
    "\n",
    "So here we decided to learn to know our graphs better.\n",
    "Here I come as a total neophite and I intend to try to make it in my favour by coming with my own ideas and develop them first.\n",
    "Later I will look at what others have done and very hopefully there will be novel ideas in my approach.\n",
    "\n",
    "A first approach would be to get to know the graphs would be to classify them\n"
   ]
  },
  {
   "cell_type": "markdown",
   "id": "79a8bac0",
   "metadata": {},
   "source": [
    "# Definitions\n",
    "\n",
    "This is not a math notebook. Not even a graph theory notebook but we might still need a few definitions\n",
    "\n",
    "| Term        | Definition   |\n",
    "| :---------- | :----------- |\n",
    "| **Graph** | A **graph** is a structure made up of a set of **nodes** (also called vertices) and a set of **edges** that connect pairs of these nodes. Think of it as a way to show relationships or connections between things. |\n",
    "| **Node** | A **node** (or **vertex**) is one of the individual points or entities in a graph. \n",
    "| **Edge** | An **edge** (or link/arc) is a connection between two nodes in a graph. It shows that there's some kind of relationship or link between those two nodes.                                                    |\n",
    "| **Isomorphic (Graphs)** | Two graphs are **isomorphic** if they are structurally identical – they have the same number of nodes, and these nodes are connected in the exact same way. You could relabel the nodes of one to perfectly match the other. |\n",
    "| **Neighbour** | A **neighbour** of a node (let's call it node A) is any other node that is directly connected to node A by an edge. They are also called **adjacent nodes**.                                              |"
   ]
  },
  {
   "cell_type": "markdown",
   "id": "3397c3c1",
   "metadata": {},
   "source": [
    "# Simplest signature possible\n",
    "\n",
    "We are going to sign our graph in the most simplistic way possible so that they lose their individual edges \n",
    "\n",
    "My aim here is to build a simple signature from a graph so that two isomorphic graphs have always the same signature.\n",
    "\n",
    "The opposite is not true. Two graphs with the same signature are not necessarily isomorphic. This will be discussed later at length.\n",
    "\n",
    "![fig1: Simple Graph](images/fig1-simple-graph_G1.png)\n",
    "\n",
    "\n"
   ]
  },
  {
   "cell_type": "markdown",
   "id": "8ae4c142",
   "metadata": {},
   "source": [
    "Here our graph have 6 nodes (labeled A to F).\n",
    "\n",
    "| Edge        | Neigbour count  |\n",
    "| :---------- | :-------------- |\n",
    "| A           | 3               |\n",
    "| B           | 4               |\n",
    "| C           | 1               |\n",
    "| D           | 2               |\n",
    "| E           | 2               |\n",
    "| F           | 2               |"
   ]
  },
  {
   "cell_type": "markdown",
   "id": "1cd9c91c",
   "metadata": {},
   "source": [
    "Our signature is going to simply list the neighbour count in descending order.\n",
    "\n",
    "For this graph we get [4, 3, 2, 2, 2, 1]\n"
   ]
  },
  {
   "cell_type": "markdown",
   "id": "eb9adc2c",
   "metadata": {},
   "source": [
    "If we now look at another graph\n",
    "\n",
    "![fig1: Simple Graph](images/fig1-simple-graph_G2.png)"
   ]
  },
  {
   "cell_type": "markdown",
   "id": "391ae213",
   "metadata": {},
   "source": [
    "Here our graph have 6 nodes (labeled A to F).\n",
    "\n",
    "| Edge        | Neigbour count  |\n",
    "| :---------- | :-------------- |\n",
    "| A           | 2               |\n",
    "| B           | 4               |\n",
    "| C           | 1               |\n",
    "| D           | 3               |\n",
    "| E           | 2               |\n",
    "| F           | 2               |"
   ]
  },
  {
   "cell_type": "markdown",
   "id": "37120a88",
   "metadata": {},
   "source": [
    "This second graph look different from the first one. The node B has only one neighbour while it had 4 neighbours in the previous graph.\n",
    "\n",
    "But intutively we can see that their shape is the same and that they are isomorphic.\n",
    "\n",
    "Given their isomorphic nature, we would expect their graph signatures to be the same.\n",
    "\n",
    "And indeed, the signature for Graph2 comes in at [4, 3, 2, 2, 2, 1], which perfectly matches Graph1's signature.\n",
    "\n",
    "We have achieved a first step toward qualifying our graphs.\n",
    "\n",
    "Our signature algorithm seems to have one of the required properties. \n",
    "It seems produce the same signature when two graphs are isomorphic.\n",
    "\n",
    "We'll now find that "
   ]
  },
  {
   "cell_type": "markdown",
   "id": "3c94be58",
   "metadata": {},
   "source": []
  }
 ],
 "metadata": {
  "language_info": {
   "name": "python"
  }
 },
 "nbformat": 4,
 "nbformat_minor": 5
}
