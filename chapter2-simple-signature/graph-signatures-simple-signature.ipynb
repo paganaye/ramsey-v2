{
 "cells": [
  {
   "cell_type": "markdown",
   "id": "ae858aa9",
   "metadata": {},
   "source": [
    "# Introduction\n",
    "\n",
    "So here we decided to learn to know our graphs better.\n",
    "Here I come as a total neophite and I intend to try to make it in my favour by coming with my own ideas and develop them first.\n",
    "Later I will look at what others have done and very hopefully there will be novel ideas in my approach.\n",
    "\n",
    "A first approach would be to get to know the graphs would be to classify them\n"
   ]
  },
  {
   "cell_type": "markdown",
   "id": "79a8bac0",
   "metadata": {},
   "source": [
    "# Definitions\n",
    "\n",
    "This is not a math notebook. Not even a graph theory notebook but we might still need a few definitions\n",
    "\n",
    "| Term        | Definition   |\n",
    "| :---------- | :----------- |\n",
    "| **Graph** | A **graph** is a structure made up of a set of **nodes** (also called vertices) and a set of **edges** that connect pairs of these nodes. Think of it as a way to show relationships or connections between things. |\n",
    "| **Node** | A **node** (or **vertex**) is one of the individual points or entities in a graph. \n",
    "| **Edge** | An **edge** (or link/arc) is a connection between two nodes in a graph. It shows that there's some kind of relationship or link between those two nodes. |\n",
    "| **Label** | An **label** in this document is just the name we give to a Node. |\n",
    "| **Isomorphic (Graphs)** | Two graphs are **isomorphic** if they are structurally identical – they have the same number of nodes, and these nodes are connected in the exact same way. You could relabel the nodes of one to perfectly match the other. |\n",
    "| **Neighbour** | A **neighbour** of a node (let's call it node A) is any other node that is directly connected to node A by an edge. They are also called **adjacent nodes**. |\n",
    "| **Order** | The **order** of a graph is simply the total number of nodes it has. So, if a graph has 5 nodes, its order is 5. |"
   ]
  },
  {
   "cell_type": "markdown",
   "id": "3397c3c1",
   "metadata": {},
   "source": [
    "# Simplest signature possible\n",
    "\n",
    "We are going to sign our graph in the most simplistic way possible so that they lose their individual labels. \n",
    "\n",
    "My aim here is to build a simple signature from a graph so that two isomorphic graphs have always the same signature.\n",
    "\n",
    "The opposite is not true. Two graphs with the same signature are not necessarily isomorphic. This will be discussed later at length.\n",
    "\n",
    "\n",
    "\n",
    "\n"
   ]
  },
  {
   "cell_type": "markdown",
   "id": "44b06b9a",
   "metadata": {},
   "source": [
    "## Example 1: Graph 1\n",
    "\n",
    "![fig1: Simple Graph](images/simple-graph_G1.png)"
   ]
  },
  {
   "cell_type": "markdown",
   "id": "8ae4c142",
   "metadata": {},
   "source": [
    "Here we drew a graph of order 6. As such he has 6 nodes labeled A to F. Each node has neighbours that we can count.\n",
    "\n",
    "| Node        | Neigbour count  |\n",
    "| :---------- | :-------------- |\n",
    "| A           | 3               |\n",
    "| B           | 4               |\n",
    "| C           | 1               |\n",
    "| D           | 2               |\n",
    "| E           | 2               |\n",
    "| F           | 2               |"
   ]
  },
  {
   "cell_type": "markdown",
   "id": "1cd9c91c",
   "metadata": {},
   "source": [
    "Our signature is going to simply list the neighbour count in descending order.\n",
    "\n",
    "For this graph we get [4, 3, 2, 2, 2, 1]\n"
   ]
  },
  {
   "cell_type": "markdown",
   "id": "eb9adc2c",
   "metadata": {},
   "source": [
    "## Example 2: Graph 2\n",
    "\n",
    "If we now look at another graph\n",
    "\n",
    "![fig2: Simple Graph](images/simple-graph_G2.png)"
   ]
  },
  {
   "cell_type": "markdown",
   "id": "391ae213",
   "metadata": {},
   "source": [
    "Here our graph have 6 nodes (labeled A to F).\n",
    "\n",
    "| Node        | Neigbour count  |\n",
    "| :---------- | :-------------- |\n",
    "| A           | 2               |\n",
    "| B           | 4               |\n",
    "| C           | 1               |\n",
    "| D           | 3               |\n",
    "| E           | 2               |\n",
    "| F           | 2               |"
   ]
  },
  {
   "cell_type": "markdown",
   "id": "37120a88",
   "metadata": {},
   "source": [
    "This second graph look different from the first one. The node B has only one neighbour while it had 4 neighbours in the previous graph.\n",
    "\n",
    "But intutively we can see that their shape is the same and that they are isomorphic.\n",
    "\n",
    "Given their isomorphic nature, we would expect their graph signatures to be the same.\n",
    "\n",
    "And indeed, the signature for Graph2 comes in at [4, 3, 2, 2, 2, 1], which perfectly matches Graph1's signature.\n",
    "\n",
    "We have achieved a first step toward qualifying our graphs.\n",
    "\n",
    "Our signature algorithm seems to have one of the required properties. \n",
    "It seems produce the same signature when two graphs are isomorphic.\n",
    "\n"
   ]
  },
  {
   "cell_type": "markdown",
   "id": "3c94be58",
   "metadata": {},
   "source": [
    "## Example 3: Graph 3\n",
    "\n",
    "![fig1: Simple Graph](images/simple-graph_G3.png)"
   ]
  },
  {
   "cell_type": "markdown",
   "id": "09c5605e",
   "metadata": {},
   "source": [
    "Here our Graph 3 have 6 nodes (labeled A to F).\n",
    "This third graph however is not isomorphic with the first or the second.\n",
    "\n",
    "On this this third graph we have a node with four neighbours that is connected to a node with one neighbour. \n",
    "This is not a trait that was in the previous two graphs.\n",
    "\n",
    "We can say that Graph3 is not isomorphic with Graph 1.\n",
    "\n",
    "However if we calculate the signature\n",
    "\n",
    "| Edge        | Neigbour count  |\n",
    "| :---------- | :-------------- |\n",
    "| A           | 2               |\n",
    "| B           | 1               |\n",
    "| C           | 3               |\n",
    "| D           | 2               |\n",
    "| E           | 2               |\n",
    "| F           | 4               |\n",
    "\n",
    "Our Graph 3 signature here is [4,3,2,2,2,1]\n",
    "This is the same signature than our two graphs.\n",
    "\n",
    "Chat:Based on your observations, we can say that while isomorphic graphs will always have the same signature, graphs that share the same signature are not necessarily isomorphic.\n",
    "\n",
    "Our simple signature (the sorted list of neighbour counts) is a good first step, but it's not enough to definitively prove isomorphism. \n",
    "\n",
    "It's a necessary condition for isomorphism, but not a sufficient one. This means it can help rule out non-isomorphic graphs (if signatures differ, they're not isomorphic), but if they match, further analysis is needed.\n",
    "\n",
    "\n",
    "\n"
   ]
  },
  {
   "cell_type": "markdown",
   "id": "ec52197c",
   "metadata": {},
   "source": []
  },
  {
   "cell_type": "markdown",
   "id": "9374492e",
   "metadata": {},
   "source": [
    "---\n",
    "\n",
    "## Why We Expected This\n",
    "\n",
    "When we first defined our \"simplest signature\" by just listing the sorted neighbour counts, it's retrospectively evident why it couldn't fully distinguish between all non-isomorphic graphs. We were taking a complex structure and reducing each node to a single number – its degree. This is a dramatic reduction in information.\n",
    "\n",
    "Consider a graph of order 5 (meaning with 5 nodes):\n",
    "\n",
    "We know from books that there are 34 distinct (non-isomorphic) simple graphs with 5 nodes.\n",
    "\n",
    "Number of possible signatures (degree sequences): There are 20 distinct and valid (\"graphic\") degree sequences for a graph with 5 nodes.\n",
    "So, we have 34 different graphs but only 20 possible signatures. This numerically confirms what we observed with Examples 1, 2, and 3: several non-isomorphic graphs must necessarily share the same signature, because there are more graphs than unique signatures our method can produce. This is the numerical sketch of proof that our v1 signature isn't sufficient to distinguish all graphs.\n"
   ]
  },
  {
   "cell_type": "markdown",
   "id": "98f197b1",
   "metadata": {},
   "source": [
    "## Going Further\n",
    "\n",
    "Our ultimate aim in this notebook is to discover a **signature algorithm** that meets two key requirements:\n",
    "\n",
    "* **Identical for Identical Graphs:** If two graphs are **structurally the same** (isomorphic), they must always have the identical signature.\n",
    "* **Unique for Different Graphs:** If two graphs are **structurally different** (non-isomorphic), they must always yield distinct signatures.\n",
    "\n",
    "However, we're building this step by step. Instead of simply stating that our first signature (v1) isn't perfect, we're going to measure its capabilities. Our focus is to understand precisely how well it performs and where its limits lie. This deeper insight will then guide our efforts to create even better signatures.\n",
    "\n",
    "\n",
    "## Measuring Signature v1 Performance\n",
    "\n",
    "Let's measure how far our **Signature v1** (the sorted sequence of node degrees) works by looking at **graph order** (the number of nodes):\n",
    "\n",
    "### **Order 1** (1 node):\n",
    "* Number of distinct graphs: 1\n",
    "* Number of distinct signatures: 1 ($[0]$)\n",
    "* Result: **Works perfectly.**\n",
    "\n",
    "### **Order 2** (2 nodes):\n",
    "* Number of distinct graphs: 2\n",
    "* Number of distinct signatures: 2 ($[0,0]$, $[1,1]$)\n",
    "* Result: **Works perfectly.**\n",
    "\n",
    "### **Order 3** (3 nodes):\n",
    "* Number of distinct graphs: 4\n",
    "* Number of distinct signatures: 4 ($[0,0,0]$, $[1,1,0]$, $[2,1,1]$, $[2,2,2]$)\n",
    "* Result: **Works perfectly.**\n",
    "\n",
    "### **Order 4** (4 nodes):\n",
    "* Number of distinct graphs: 11\n",
    "* Number of distinct signatures: 6\n",
    "* Result: **Signature v1 fails here.** Since there are more distinct graphs (11) than unique signatures our method can produce (6), it's guaranteed that at least some **non-isomorphic graphs** will share the same signature.\n",
    "\n",
    "Therefore, we can conclude that **Signature v1** works perfectly for graphs up to **order 3**. "
   ]
  },
  {
   "cell_type": "markdown",
   "id": "2fd54a3f",
   "metadata": {},
   "source": [
    "## Signature v1 is an order 3 signature"
   ]
  }
 ],
 "metadata": {
  "language_info": {
   "name": "python"
  }
 },
 "nbformat": 4,
 "nbformat_minor": 5
}
