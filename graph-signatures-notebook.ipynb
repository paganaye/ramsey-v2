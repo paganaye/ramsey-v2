{
  "cells": [
    {
      "cell_type": "markdown",
      "metadata": {},
      "source": [
        "## Pascal's Graph Signature Research \n",
        "\n",
        "[Chapter 1: Introduction](./chapter1-introduction/chapter1-introduction.ipynb).\n",
        "\n",
        "[Chapter 2: Simple signature](./chapter2-simple-signature/chapter2-simple-signature.ipynb).\n",
        "\n",
        "[Chapter 3: Better signature](./chapter3-better-signature/chapter3-better-signature.ipynb).\n",
        "\n",
        "[Chapter 4: Signature implementation](./chapter4-signature-v2-implementation/chapter4-signature-v2-implementation.ipynb).\n",
        "\n",
        "[Chapter 5: Signature evaluation](./chapter5-signature-v2-evaluation/chapter5-signature-v2-evaluation.ipynb).\n"
      ]
    },
    {
      "cell_type": "markdown",
      "metadata": {},
      "source": []
    }
  ],
  "metadata": {
    "colab": {
      "provenance": []
    },
    "kernelspec": {
      "display_name": "3.12.0",
      "language": "python",
      "name": "python3"
    },
    "language_info": {
      "codemirror_mode": {
        "name": "ipython",
        "version": 3
      },
      "file_extension": ".py",
      "mimetype": "text/x-python",
      "name": "python",
      "nbconvert_exporter": "python",
      "pygments_lexer": "ipython3",
      "version": "3.12.0"
    }
  },
  "nbformat": 4,
  "nbformat_minor": 0
}
