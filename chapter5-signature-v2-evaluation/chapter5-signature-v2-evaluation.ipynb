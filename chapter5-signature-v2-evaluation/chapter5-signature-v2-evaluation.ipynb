{
 "cells": [
  {
   "cell_type": "markdown",
   "id": "ae858aa9",
   "metadata": {},
   "source": [
    "# Chapter 5: Brute-Force Algorithm Validation\n",
    "\n",
    "## Introduction\n",
    "In this chapter, we will subject our signature algorithm to a rigorous validation test. The objective is to verify if it can correctly discriminate between all graph structures for a given order `n` by checking it against established mathematical results.\n",
    "\n",
    "### The Fundamental Hypothesis\n",
    "\n",
    "A canonical signature algorithm is correct if and only if it meets two fundamental conditions:\n",
    "1.  **Consistency**: It must assign the same signature to two graphs that are structurally identical (*isomorphic*).\n",
    "2.  **Uniqueness**: It must assign different signatures to two graphs that are structurally different (*non-isomorphic*).\n",
    "\n",
    "### Testing Methodology\n",
    "\n",
    "Rather than starting with a pre-filtered list of unique graphs, we will adopt a \"brute-force\" approach that tests both conditions simultaneously. This method is more comprehensive as it makes no initial assumptions about the graphs.\n",
    "\n",
    "The process is as follows:\n",
    "1.  For a given order `n`, we determine the number of possible edges, `k = n * (n - 1) / 2`.\n",
    "2.  We generate all **`2^k`** possible labeled graphs. This set contains every possible combination of edges between the `n` vertices.\n",
    "3.  For each of these graphs, we calculate its canonical signature using our algorithm.\n",
    "4.  We use a `set` to count the number of unique signatures obtained at the end of the process.\n",
    "\n",
    "### Validation Criterion\n",
    "\n",
    "The test is considered a **success** if the number of unique signatures we discover is exactly equal to the known number of non-isomorphic graphs for order `n`. This reference value is provided by the **OEIS A000088** sequence (On-Line Encyclopedia of Integer Sequences).\n",
    "\n",
    "### Scope of the Experiment and Computational Cost\n",
    "\n",
    "This method is exhaustive, but its computational cost increases exponentially. We will therefore begin by validating our algorithm for orders `n` from 3 to 6. The table below illustrates the explosion in the number of cases to be processed.\n",
    "\n",
    "| Order (n) | Possible Edges (k) | Graphs to Test (2^k)  | Expected Unique Graphs (OEIS A000088) |\n",
    "| :-------- | :------------------- | :---------------------- | :-------------------------------------- |\n",
    "| 3         | 3                    | 8                       | 4                                       |\n",
    "| 4         | 6                    | 64                      | 11                                      |\n",
    "| 5         | 10                   | 1,024                   | 34                                      |\n",
    "| 6         | 15                   | 32,768                  | 156                                     |\n",
    "| 7* | 21                   | 2,097,152               | 1,044                                   |\n",
    "| 8* | 28                   | 268,435,456             | 12,005                                  |\n",
    "| 9* | 36                   | 68,719,476,736          | 274,668                                 |\n",
    "| 10*| 45                   | ~3.5 x 10^13            | 12,005,168                              |\n",
    "\n",
    "*Orders marked with an asterisk require considerable processing time.*\n",
    "\n"
   ]
  },
  {
   "cell_type": "markdown",
   "id": "f2f93518",
   "metadata": {},
   "source": [
    "## 5.1 Order 3"
   ]
  },
  {
   "cell_type": "code",
   "execution_count": 1,
   "id": "1a5daeef",
   "metadata": {},
   "outputs": [
    {
     "name": "stdout",
     "output_type": "stream",
     "text": [
      "Processing 8 graphs of order 3...\n",
      "g6:B_ sig:[{nc:1,n:[{nc:1,n:[{nc:1,rs:3,ll:2}]}]},{nc:1,n:[{nc:1,n:[{nc:1,rs:3,ll:2}]}]},{nc:0,fi:2,rs:1}]\n",
      "g6:BQ sig:[{nc:1,n:[{nc:1,n:[{nc:1,rs:3,ll:2}]}]},{nc:1,n:[{nc:1,n:[{nc:1,rs:3,ll:2}]}]},{nc:0,fi:2,rs:1}]\n",
      "g6:BS sig:[{nc:1,n:[{nc:1,n:[{nc:1,rs:3,ll:2}]}]},{nc:1,n:[{nc:1,n:[{nc:1,rs:3,ll:2}]}]},{nc:0,fi:2,rs:1}]\n",
      "g6:Bw sig:[{nc:2,n:[{nc:2,n:[{nc:2,rs:3,ll:2},{nc:2,n:[{nc:2,rs:4,ll:2},{nc:2,rs:4,ll:3}]}]},{nc:2,n:[{nc:2,rs:3,ll:2},{nc:2,n:[{nc:2,rs:4,ll:2},{nc:2,rs:4,ll:3}]}]}]},{nc:2,n:[{nc:2,n:[{nc:2,rs:3,ll:2},{nc:2,n:[{nc:2,rs:4,ll:2},{nc:2,rs:4,ll:3}]}]},{nc:2,n:[{nc:2,rs:3,ll:2},{nc:2,n:[{nc:2,rs:4,ll:2},{nc:2,rs:4,ll:3}]}]}]},{nc:2,n:[{nc:2,n:[{nc:2,rs:3,ll:2},{nc:2,n:[{nc:2,rs:4,ll:2},{nc:2,rs:4,ll:3}]}]},{nc:2,n:[{nc:2,rs:3,ll:2},{nc:2,n:[{nc:2,rs:4,ll:2},{nc:2,rs:4,ll:3}]}]}]}]\n",
      "g6:BR sig:[{nc:1,n:[{nc:1,n:[{nc:1,rs:3,ll:2}]}]},{nc:1,n:[{nc:1,n:[{nc:1,rs:3,ll:2}]}]},{nc:0,fi:2,rs:1}]\n",
      "g6:Bi sig:[{nc:2,fi:0,rs:1},{nc:1,n:[{nc:2,fi:0,rs:1}]},{nc:1,n:[{nc:2,fi:0,rs:1}]}]\n",
      "g6:Bq sig:[{nc:2,fi:0,rs:1},{nc:1,n:[{nc:2,fi:0,rs:1}]},{nc:1,n:[{nc:2,fi:0,rs:1}]}]\n",
      "g6:B~ sig:[{nc:2,n:[{nc:2,n:[{nc:2,rs:3,ll:2},{nc:2,n:[{nc:2,rs:4,ll:2},{nc:2,rs:4,ll:3}]}]},{nc:2,n:[{nc:2,rs:3,ll:2},{nc:2,n:[{nc:2,rs:4,ll:2},{nc:2,rs:4,ll:3}]}]}]},{nc:2,n:[{nc:2,n:[{nc:2,rs:3,ll:2},{nc:2,n:[{nc:2,rs:4,ll:2},{nc:2,rs:4,ll:3}]}]},{nc:2,n:[{nc:2,rs:3,ll:2},{nc:2,n:[{nc:2,rs:4,ll:2},{nc:2,rs:4,ll:3}]}]}]},{nc:2,n:[{nc:2,n:[{nc:2,rs:3,ll:2},{nc:2,n:[{nc:2,rs:4,ll:2},{nc:2,rs:4,ll:3}]}]},{nc:2,n:[{nc:2,rs:3,ll:2},{nc:2,n:[{nc:2,rs:4,ll:2},{nc:2,rs:4,ll:3}]}]}]}]\n",
      "--- Results for n=3 ---\n",
      "❌ We expect 4 unique signatures and got 3\n"
     ]
    }
   ],
   "source": [
    "from collections import defaultdict\n",
    "from utils import get_signature, check\n",
    "\n",
    "# The 8 possible labeled graphs of order 3\n",
    "graphs_order_3_g6 = [\n",
    "    'B_',  # 0 edges (1 graph)\n",
    "    'BQ', 'BS', 'Bw',  # 1 edge (3 graphs)\n",
    "    'BR', 'Bi', 'Bq',  # 2 edges (3 graphs)\n",
    "    'B~'   # 3 edges (1 graph)\n",
    "]\n",
    "\n",
    "# Dictionary to store the results: {signature: [list_of_g6_strings]}\n",
    "signature_groups = defaultdict(list)\n",
    "\n",
    "print(f\"Processing {len(graphs_order_3_g6)} graphs of order 3...\")\n",
    "\n",
    "# Loop through all 8 graphs\n",
    "for g6 in graphs_order_3_g6:\n",
    "    gs = get_signature(g6)\n",
    "    compact_signature = gs.sig()\n",
    "    signature_groups[compact_signature].append(g6)\n",
    "    print(f\"g6:{g6} sig:{compact_signature}\")\n",
    "\n",
    "# --- Analysis of Results ---\n",
    "\n",
    "num_unique_found = len(signature_groups)\n",
    "num_expected = 4  # From OEIS A000088 for n=3\n",
    "\n",
    "print(\"--- Results for n=3 ---\")\n",
    "\n",
    "check(\n",
    "    f\"We expect {num_expected} unique signatures and got {num_unique_found}\", num_unique_found == num_expected)"
   ]
  },
  {
   "cell_type": "code",
   "execution_count": null,
   "id": "8a83b582",
   "metadata": {},
   "outputs": [],
   "source": []
  }
 ],
 "metadata": {
  "kernelspec": {
   "display_name": "3.12.0",
   "language": "python",
   "name": "python3"
  },
  "language_info": {
   "codemirror_mode": {
    "name": "ipython",
    "version": 3
   },
   "file_extension": ".py",
   "mimetype": "text/x-python",
   "name": "python",
   "nbconvert_exporter": "python",
   "pygments_lexer": "ipython3",
   "version": "3.12.0"
  }
 },
 "nbformat": 4,
 "nbformat_minor": 5
}
