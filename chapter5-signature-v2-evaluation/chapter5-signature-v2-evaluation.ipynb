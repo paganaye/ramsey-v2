{
 "cells": [
  {
   "cell_type": "markdown",
   "id": "ae858aa9",
   "metadata": {},
   "source": [
    "# Chapter 5: Brute-Force Algorithm Validation\n",
    "\n",
    "## Introduction\n",
    "In this chapter, we will subject our signature algorithm to a rigorous validation test. The objective is to verify if it can correctly discriminate between all graph structures for a given order `n` by checking it against established mathematical results.\n",
    "\n",
    "### The Fundamental Hypothesis\n",
    "\n",
    "A canonical signature algorithm is correct if and only if it meets two fundamental conditions:\n",
    "1.  **Consistency**: It must assign the same signature to two graphs that are structurally identical (*isomorphic*).\n",
    "2.  **Uniqueness**: It must assign different signatures to two graphs that are structurally different (*non-isomorphic*).\n",
    "\n",
    "### Testing Methodology\n",
    "\n",
    "Rather than starting with a pre-filtered list of unique graphs, we will adopt a \"brute-force\" approach that tests both conditions simultaneously. This method is more comprehensive as it makes no initial assumptions about the graphs.\n",
    "\n",
    "The process is as follows:\n",
    "1.  For a given order `n`, we determine the number of possible edges, `k = n * (n - 1) / 2`.\n",
    "2.  We generate all **`2^k`** possible labeled graphs. This set contains every possible combination of edges between the `n` vertices.\n",
    "3.  For each of these graphs, we calculate its canonical signature using our algorithm.\n",
    "4.  We use a `set` to count the number of unique signatures obtained at the end of the process.\n",
    "\n",
    "### Validation Criterion\n",
    "\n",
    "The test is considered a **success** if the number of unique signatures we discover is exactly equal to the known number of non-isomorphic graphs for order `n`. This reference value is provided by the **OEIS A000088** sequence (On-Line Encyclopedia of Integer Sequences).\n",
    "\n",
    "### Scope of the Experiment and Computational Cost\n",
    "\n",
    "This method is exhaustive, but its computational cost increases exponentially. We will therefore begin by validating our algorithm for orders `n` from 3 to 6. The table below illustrates the explosion in the number of cases to be processed.\n",
    "\n",
    "| Order (n) | Possible Edges (k) | Graphs to Test (2^k)  | Expected Unique Graphs (OEIS A000088) |\n",
    "| :-------- | :------------------- | :---------------------- | :-------------------------------------- |\n",
    "| 3         | 3                    | 8                       | 4                                       |\n",
    "| 4         | 6                    | 64                      | 11                                      |\n",
    "| 5         | 10                   | 1,024                   | 34                                      |\n",
    "| 6         | 15                   | 32,768                  | 156                                     |\n",
    "| 7* | 21                   | 2,097,152               | 1,044                                   |\n",
    "| 8* | 28                   | 268,435,456             | 12,005                                  |\n",
    "| 9* | 36                   | 68,719,476,736          | 274,668                                 |\n",
    "| 10*| 45                   | ~3.5 x 10^13            | 12,005,168                              |\n",
    "\n",
    "*Orders marked with an asterisk require considerable processing time.*\n",
    "\n"
   ]
  },
  {
   "cell_type": "markdown",
   "id": "f2f93518",
   "metadata": {},
   "source": [
    "## 5.1 Order 3"
   ]
  },
  {
   "cell_type": "code",
   "execution_count": 21,
   "id": "1a5daeef",
   "metadata": {},
   "outputs": [
    {
     "name": "stdout",
     "output_type": "stream",
     "text": [
      "Processing 8 graphs of order 3...\n",
      "g6:B? sig:[{nc:0},{nc:0},{nc:0}]\n",
      "g6:BQ sig:[{nc:1,n:[{nc:1,n:[{nc:1,ll:2}]}]},{nc:1,n:[{nc:1,n:[{nc:1,ll:2}]}]},{nc:0,fi:2,rs:1}]\n",
      "g6:BS sig:[{nc:1,n:[{nc:1,n:[{nc:1,ll:2}]}]},{nc:1,n:[{nc:1,n:[{nc:1,ll:2}]}]},{nc:0,fi:2,rs:1}]\n",
      "g6:Bw sig:[{nc:2,n:[{nc:2,n:[{nc:2,ll:2},{nc:2,n:[{nc:2,ll:2},{nc:2,ll:3}]}]},{nc:2,n:[{nc:2,ll:2},{nc:2,n:[{nc:2,ll:2},{nc:2,ll:3}]}]}]},{nc:2,n:[{nc:2,n:[{nc:2,ll:2},{nc:2,n:[{nc:2,ll:2},{nc:2,ll:3}]}]},{nc:2,n:[{nc:2,ll:2},{nc:2,n:[{nc:2,ll:2},{nc:2,ll:3}]}]}]},{nc:2,n:[{nc:2,n:[{nc:2,ll:2},{nc:2,n:[{nc:2,ll:2},{nc:2,ll:3}]}]},{nc:2,n:[{nc:2,ll:2},{nc:2,n:[{nc:2,ll:2},{nc:2,ll:3}]}]}]}]\n",
      "g6:BR sig:[{nc:1,n:[{nc:1,n:[{nc:1,ll:2}]}]},{nc:1,n:[{nc:1,n:[{nc:1,ll:2}]}]},{nc:0,fi:2,rs:1}]\n",
      "g6:Bi sig:[{nc:2,fi:0,rs:1},{nc:1,n:[{nc:2,fi:0,rs:1}]},{nc:1,n:[{nc:2,fi:0,rs:1}]}]\n",
      "g6:Bq sig:[{nc:2,fi:0,rs:1},{nc:1,n:[{nc:2,fi:0,rs:1}]},{nc:1,n:[{nc:2,fi:0,rs:1}]}]\n",
      "g6:B~ sig:[{nc:2,n:[{nc:2,n:[{nc:2,ll:2},{nc:2,n:[{nc:2,ll:2},{nc:2,ll:3}]}]},{nc:2,n:[{nc:2,ll:2},{nc:2,n:[{nc:2,ll:2},{nc:2,ll:3}]}]}]},{nc:2,n:[{nc:2,n:[{nc:2,ll:2},{nc:2,n:[{nc:2,ll:2},{nc:2,ll:3}]}]},{nc:2,n:[{nc:2,ll:2},{nc:2,n:[{nc:2,ll:2},{nc:2,ll:3}]}]}]},{nc:2,n:[{nc:2,n:[{nc:2,ll:2},{nc:2,n:[{nc:2,ll:2},{nc:2,ll:3}]}]},{nc:2,n:[{nc:2,ll:2},{nc:2,n:[{nc:2,ll:2},{nc:2,ll:3}]}]}]}]\n",
      "--- Results for n=3 ---\n",
      "✅ We expect 4 unique signatures and got 4\n"
     ]
    }
   ],
   "source": [
    "from collections import defaultdict\n",
    "from utils import get_signature, check\n",
    "\n",
    "# The 8 possible labeled graphs of order 3\n",
    "graphs_order_3_g6 = [\n",
    "    'B?',  # 0 edges (1 graph)\n",
    "    'BQ', 'BS', 'Bw',  # 1 edge (3 graphs)\n",
    "    'BR', 'Bi', 'Bq',  # 2 edges (3 graphs)\n",
    "    'B~'   # 3 edges (1 graph)\n",
    "]\n",
    "\n",
    "# Dictionary to store the results: {signature: [list_of_g6_strings]}\n",
    "signature_groups = defaultdict(list)\n",
    "\n",
    "print(f\"Processing {len(graphs_order_3_g6)} graphs of order 3...\")\n",
    "\n",
    "# Loop through all 8 graphs\n",
    "for g6 in graphs_order_3_g6:\n",
    "    gs = get_signature(g6)\n",
    "    compact_signature = gs.sig()\n",
    "    signature_groups[compact_signature].append(g6)\n",
    "    print(f\"g6:{g6} sig:{compact_signature}\")\n",
    "\n",
    "# --- Analysis of Results ---\n",
    "\n",
    "num_unique_found = len(signature_groups)\n",
    "num_expected = 4  # From OEIS A000088 for n=3\n",
    "\n",
    "print(\"--- Results for n=3 ---\")\n",
    "\n",
    "check(\n",
    "    f\"We expect {num_expected} unique signatures and got {num_unique_found}\", num_unique_found == num_expected)"
   ]
  },
  {
   "cell_type": "markdown",
   "id": "763aae9e",
   "metadata": {},
   "source": [
    "## 5.2 Order 4"
   ]
  },
  {
   "cell_type": "code",
   "execution_count": 22,
   "id": "8a83b582",
   "metadata": {},
   "outputs": [
    {
     "name": "stdout",
     "output_type": "stream",
     "text": [
      "✅ We expect 11 unique signatures and got 11\n",
      "Signature Group 1: [{nc:0},{nc:0},{nc:0},{nc:0}] -> Count: 1\n",
      "Signature Group 2: [{nc:1,n:[{nc:1,n:[{nc:1,ll:2}]}]},{nc:1,n:[{nc:1,n:[{nc:1,ll:2}]}]},{nc:0},{nc:0}] -> Count: 6\n",
      "Signature Group 3: [{nc:1,n:[{nc:1,n:[{nc:1,ll:2}]}]},{nc:1,n:[{nc:1,n:[{nc:1,ll:2}]}]},{nc:1,n:[{nc:1,n:[{nc:1,ll:2}]}]},{nc:1,n:[{nc:1,n:[{nc:1,ll:2}]}]}] -> Count: 3\n",
      "Signature Group 4: [{nc:2,fi:0,rs:1},{nc:1,n:[{nc:2,fi:0,rs:1}]},{nc:1,n:[{nc:2,fi:0,rs:1}]},{nc:0,fi:3,rs:1}] -> Count: 12\n",
      "Signature Group 5: [{nc:2,n:[{nc:2,n:[{nc:2,ll:2},{nc:1,n:[{nc:2,ll:2}]}]},{nc:1,n:[{nc:2,ll:2}]}]},{nc:2,n:[{nc:2,n:[{nc:2,ll:2},{nc:1,n:[{nc:2,ll:2}]}]},{nc:1,n:[{nc:2,ll:2}]}]},{nc:1,n:[{nc:2,n:[{nc:2,n:[{nc:2,ll:2},{nc:1,n:[{nc:2,ll:2}]}]},{nc:1,ll:2}]}]},{nc:1,n:[{nc:2,n:[{nc:2,n:[{nc:2,ll:2},{nc:1,n:[{nc:2,ll:2}]}]},{nc:1,ll:2}]}]}] -> Count: 12\n",
      "Signature Group 6: [{nc:2,n:[{nc:2,n:[{nc:2,ll:2},{nc:2,n:[{nc:2,ll:2},{nc:2,ll:3}]}]},{nc:2,n:[{nc:2,ll:2},{nc:2,n:[{nc:2,ll:2},{nc:2,ll:3}]}]}]},{nc:2,n:[{nc:2,n:[{nc:2,ll:2},{nc:2,n:[{nc:2,ll:2},{nc:2,ll:3}]}]},{nc:2,n:[{nc:2,ll:2},{nc:2,n:[{nc:2,ll:2},{nc:2,ll:3}]}]}]},{nc:2,n:[{nc:2,n:[{nc:2,ll:2},{nc:2,n:[{nc:2,ll:2},{nc:2,ll:3}]}]},{nc:2,n:[{nc:2,ll:2},{nc:2,n:[{nc:2,ll:2},{nc:2,ll:3}]}]}]},{nc:0,fi:3,rs:1}] -> Count: 4\n",
      "Signature Group 7: [{nc:2,n:[{nc:2,n:[{nc:2,ll:2},{nc:2,n:[{nc:2,ll:2},{nc:2,n:[{nc:2,ll:2},{nc:2,ll:4}]}]}]},{nc:2,n:[{nc:2,ll:2},{nc:2,n:[{nc:2,ll:2},{nc:2,n:[{nc:2,ll:2},{nc:2,ll:4}]}]}]}]},{nc:2,n:[{nc:2,n:[{nc:2,ll:2},{nc:2,n:[{nc:2,ll:2},{nc:2,n:[{nc:2,ll:2},{nc:2,ll:4}]}]}]},{nc:2,n:[{nc:2,ll:2},{nc:2,n:[{nc:2,ll:2},{nc:2,n:[{nc:2,ll:2},{nc:2,ll:4}]}]}]}]},{nc:2,n:[{nc:2,n:[{nc:2,ll:2},{nc:2,n:[{nc:2,ll:2},{nc:2,n:[{nc:2,ll:2},{nc:2,ll:4}]}]}]},{nc:2,n:[{nc:2,ll:2},{nc:2,n:[{nc:2,ll:2},{nc:2,n:[{nc:2,ll:2},{nc:2,ll:4}]}]}]}]},{nc:2,n:[{nc:2,n:[{nc:2,ll:2},{nc:2,n:[{nc:2,ll:2},{nc:2,n:[{nc:2,ll:2},{nc:2,ll:4}]}]}]},{nc:2,n:[{nc:2,ll:2},{nc:2,n:[{nc:2,ll:2},{nc:2,n:[{nc:2,ll:2},{nc:2,ll:4}]}]}]}]}] -> Count: 3\n",
      "Signature Group 8: [{nc:3,fi:0,rs:1},{nc:1,n:[{nc:3,fi:0,rs:1}]},{nc:1,n:[{nc:3,fi:0,rs:1}]},{nc:1,n:[{nc:3,fi:0,rs:1}]}] -> Count: 4\n",
      "Signature Group 9: [{nc:3,fi:0,rs:1},{nc:2,n:[{nc:3,fi:0,rs:1},{nc:2,n:[{nc:3,fi:0,rs:1},{nc:2,ll:2}]}]},{nc:2,n:[{nc:3,fi:0,rs:1},{nc:2,n:[{nc:3,fi:0,rs:1},{nc:2,ll:2}]}]},{nc:1,fi:3,rs:1}] -> Count: 12\n",
      "Signature Group 10: [{nc:3,n:[{nc:3,n:[{nc:3,ll:2},{nc:2,n:[{nc:3,ll:2},{nc:3,ll:3}]},{nc:2,n:[{nc:3,ll:2},{nc:3,ll:3}]}]},{nc:2,n:[{nc:3,ll:2},{nc:3,n:[{nc:3,ll:3},{nc:2,ll:2},{nc:2,n:[{nc:3,ll:2},{nc:3,ll:4}]}]}]},{nc:2,n:[{nc:3,ll:2},{nc:3,n:[{nc:3,ll:3},{nc:2,ll:2},{nc:2,n:[{nc:3,ll:2},{nc:3,ll:4}]}]}]}]},{nc:3,n:[{nc:3,n:[{nc:3,ll:2},{nc:2,n:[{nc:3,ll:2},{nc:3,ll:3}]},{nc:2,n:[{nc:3,ll:2},{nc:3,ll:3}]}]},{nc:2,n:[{nc:3,ll:2},{nc:3,n:[{nc:3,ll:3},{nc:2,ll:2},{nc:2,n:[{nc:3,ll:2},{nc:3,ll:4}]}]}]},{nc:2,n:[{nc:3,ll:2},{nc:3,n:[{nc:3,ll:3},{nc:2,ll:2},{nc:2,n:[{nc:3,ll:2},{nc:3,ll:4}]}]}]}]},{nc:2,n:[{nc:3,n:[{nc:3,n:[{nc:3,ll:2},{nc:2,ll:3},{nc:2,n:[{nc:3,ll:2},{nc:3,ll:3}]}]},{nc:2,ll:2},{nc:2,n:[{nc:3,ll:2},{nc:3,n:[{nc:3,ll:3},{nc:2,ll:2},{nc:2,ll:4}]}]}]},{nc:3,n:[{nc:3,n:[{nc:3,ll:2},{nc:2,ll:3},{nc:2,n:[{nc:3,ll:2},{nc:3,ll:3}]}]},{nc:2,ll:2},{nc:2,n:[{nc:3,ll:2},{nc:3,n:[{nc:3,ll:3},{nc:2,ll:2},{nc:2,ll:4}]}]}]}]},{nc:2,n:[{nc:3,n:[{nc:3,n:[{nc:3,ll:2},{nc:2,ll:3},{nc:2,n:[{nc:3,ll:2},{nc:3,ll:3}]}]},{nc:2,ll:2},{nc:2,n:[{nc:3,ll:2},{nc:3,n:[{nc:3,ll:3},{nc:2,ll:2},{nc:2,ll:4}]}]}]},{nc:3,n:[{nc:3,n:[{nc:3,ll:2},{nc:2,ll:3},{nc:2,n:[{nc:3,ll:2},{nc:3,ll:3}]}]},{nc:2,ll:2},{nc:2,n:[{nc:3,ll:2},{nc:3,n:[{nc:3,ll:3},{nc:2,ll:2},{nc:2,ll:4}]}]}]}]}] -> Count: 6\n",
      "Signature Group 11: [{nc:3,n:[{nc:3,n:[{nc:3,ll:2},{nc:3,n:[{nc:3,ll:2},{nc:3,ll:3},{nc:3,n:[{nc:3,ll:2},{nc:3,ll:3},{nc:3,ll:4}]}]},{nc:3,n:[{nc:3,ll:2},{nc:3,ll:3},{nc:3,n:[{nc:3,ll:2},{nc:3,ll:3},{nc:3,ll:4}]}]}]},{nc:3,n:[{nc:3,ll:2},{nc:3,n:[{nc:3,ll:2},{nc:3,ll:3},{nc:3,n:[{nc:3,ll:2},{nc:3,ll:3},{nc:3,ll:4}]}]},{nc:3,n:[{nc:3,ll:2},{nc:3,ll:3},{nc:3,n:[{nc:3,ll:2},{nc:3,ll:3},{nc:3,ll:4}]}]}]},{nc:3,n:[{nc:3,ll:2},{nc:3,n:[{nc:3,ll:2},{nc:3,ll:3},{nc:3,n:[{nc:3,ll:2},{nc:3,ll:3},{nc:3,ll:4}]}]},{nc:3,n:[{nc:3,ll:2},{nc:3,ll:3},{nc:3,n:[{nc:3,ll:2},{nc:3,ll:3},{nc:3,ll:4}]}]}]}]},{nc:3,n:[{nc:3,n:[{nc:3,ll:2},{nc:3,n:[{nc:3,ll:2},{nc:3,ll:3},{nc:3,n:[{nc:3,ll:2},{nc:3,ll:3},{nc:3,ll:4}]}]},{nc:3,n:[{nc:3,ll:2},{nc:3,ll:3},{nc:3,n:[{nc:3,ll:2},{nc:3,ll:3},{nc:3,ll:4}]}]}]},{nc:3,n:[{nc:3,ll:2},{nc:3,n:[{nc:3,ll:2},{nc:3,ll:3},{nc:3,n:[{nc:3,ll:2},{nc:3,ll:3},{nc:3,ll:4}]}]},{nc:3,n:[{nc:3,ll:2},{nc:3,ll:3},{nc:3,n:[{nc:3,ll:2},{nc:3,ll:3},{nc:3,ll:4}]}]}]},{nc:3,n:[{nc:3,ll:2},{nc:3,n:[{nc:3,ll:2},{nc:3,ll:3},{nc:3,n:[{nc:3,ll:2},{nc:3,ll:3},{nc:3,ll:4}]}]},{nc:3,n:[{nc:3,ll:2},{nc:3,ll:3},{nc:3,n:[{nc:3,ll:2},{nc:3,ll:3},{nc:3,ll:4}]}]}]}]},{nc:3,n:[{nc:3,n:[{nc:3,ll:2},{nc:3,n:[{nc:3,ll:2},{nc:3,ll:3},{nc:3,n:[{nc:3,ll:2},{nc:3,ll:3},{nc:3,ll:4}]}]},{nc:3,n:[{nc:3,ll:2},{nc:3,ll:3},{nc:3,n:[{nc:3,ll:2},{nc:3,ll:3},{nc:3,ll:4}]}]}]},{nc:3,n:[{nc:3,ll:2},{nc:3,n:[{nc:3,ll:2},{nc:3,ll:3},{nc:3,n:[{nc:3,ll:2},{nc:3,ll:3},{nc:3,ll:4}]}]},{nc:3,n:[{nc:3,ll:2},{nc:3,ll:3},{nc:3,n:[{nc:3,ll:2},{nc:3,ll:3},{nc:3,ll:4}]}]}]},{nc:3,n:[{nc:3,ll:2},{nc:3,n:[{nc:3,ll:2},{nc:3,ll:3},{nc:3,n:[{nc:3,ll:2},{nc:3,ll:3},{nc:3,ll:4}]}]},{nc:3,n:[{nc:3,ll:2},{nc:3,ll:3},{nc:3,n:[{nc:3,ll:2},{nc:3,ll:3},{nc:3,ll:4}]}]}]}]},{nc:3,n:[{nc:3,n:[{nc:3,ll:2},{nc:3,n:[{nc:3,ll:2},{nc:3,ll:3},{nc:3,n:[{nc:3,ll:2},{nc:3,ll:3},{nc:3,ll:4}]}]},{nc:3,n:[{nc:3,ll:2},{nc:3,ll:3},{nc:3,n:[{nc:3,ll:2},{nc:3,ll:3},{nc:3,ll:4}]}]}]},{nc:3,n:[{nc:3,ll:2},{nc:3,n:[{nc:3,ll:2},{nc:3,ll:3},{nc:3,n:[{nc:3,ll:2},{nc:3,ll:3},{nc:3,ll:4}]}]},{nc:3,n:[{nc:3,ll:2},{nc:3,ll:3},{nc:3,n:[{nc:3,ll:2},{nc:3,ll:3},{nc:3,ll:4}]}]}]},{nc:3,n:[{nc:3,ll:2},{nc:3,n:[{nc:3,ll:2},{nc:3,ll:3},{nc:3,n:[{nc:3,ll:2},{nc:3,ll:3},{nc:3,ll:4}]}]},{nc:3,n:[{nc:3,ll:2},{nc:3,ll:3},{nc:3,n:[{nc:3,ll:2},{nc:3,ll:3},{nc:3,ll:4}]}]}]}]}] -> Count: 1\n"
     ]
    }
   ],
   "source": [
    "import itertools\n",
    "import networkx as nx\n",
    "\n",
    "\n",
    "def test_order(order_to_test, num_expected, print_groups):\n",
    "    nodes_n = list(range(order_to_test))\n",
    "\n",
    "    possible_edges = list(itertools.combinations(nodes_n, 2))\n",
    "    signature_groups = defaultdict(int)\n",
    "    graphs_generated_count = 0\n",
    "    total_graphs_to_generate = 2**len(possible_edges)\n",
    "\n",
    "    modulo = 2500\n",
    "    while total_graphs_to_generate / modulo > 100:\n",
    "        modulo *= 10\n",
    "\n",
    "    for num_edges in range(len(possible_edges) + 1):\n",
    "        for edge_combo in itertools.combinations(possible_edges, num_edges):\n",
    "            current_nx_graph = nx.Graph()\n",
    "            current_nx_graph.add_nodes_from(nodes_n)\n",
    "            current_nx_graph.add_edges_from(list(edge_combo))\n",
    "            graphs_generated_count += 1\n",
    "            gs = get_signature(current_nx_graph)\n",
    "            compact_signature_for_graph = gs.sig()\n",
    "            signature_groups[compact_signature_for_graph] += 1\n",
    "            if (graphs_generated_count % modulo == 0):\n",
    "                print(f\"[{(100 * graphs_generated_count) // total_graphs_to_generate}%] Found {len(signature_groups)} unique signatures out of {num_expected}\")\n",
    "\n",
    "    num_unique_found_n4 = len(signature_groups)\n",
    "    check(\n",
    "        f\"We expect {num_expected} unique signatures and got {num_unique_found_n4}\", num_unique_found_n4 == num_expected\n",
    "    )\n",
    "    if print_groups:\n",
    "        for i, (sig_str, count_value) in enumerate(sorted(signature_groups.items())): \n",
    "            print(\n",
    "                f\"Signature Group {i+1}: {sig_str} -> Count: {count_value}\"\n",
    "            )\n",
    "\n",
    "test_order(4, num_expected=11, print_groups=True)"
   ]
  },
  {
   "cell_type": "markdown",
   "id": "2412e76d",
   "metadata": {},
   "source": []
  },
  {
   "cell_type": "markdown",
   "id": "061c125d",
   "metadata": {},
   "source": [
    "## 5.3 Order 5"
   ]
  },
  {
   "cell_type": "code",
   "execution_count": 23,
   "id": "5b9b35da",
   "metadata": {},
   "outputs": [
    {
     "name": "stdout",
     "output_type": "stream",
     "text": [
      "✅ We expect 34 unique signatures and got 34\n",
      "Signature Group 1: [{nc:0},{nc:0},{nc:0},{nc:0},{nc:0}] -> Count: 1\n",
      "Signature Group 2: [{nc:1,n:[{nc:1,n:[{nc:1,ll:2}]}]},{nc:1,n:[{nc:1,n:[{nc:1,ll:2}]}]},{nc:0},{nc:0},{nc:0}] -> Count: 10\n",
      "Signature Group 3: [{nc:1,n:[{nc:1,n:[{nc:1,ll:2}]}]},{nc:1,n:[{nc:1,n:[{nc:1,ll:2}]}]},{nc:1,n:[{nc:1,n:[{nc:1,ll:2}]}]},{nc:1,n:[{nc:1,n:[{nc:1,ll:2}]}]},{nc:0,fi:4,rs:1}] -> Count: 15\n",
      "Signature Group 4: [{nc:2,fi:0,rs:1},{nc:1,n:[{nc:2,fi:0,rs:1}]},{nc:1,n:[{nc:2,fi:0,rs:1}]},{nc:0},{nc:0}] -> Count: 30\n",
      "Signature Group 5: [{nc:2,fi:0,rs:1},{nc:1,n:[{nc:2,fi:0,rs:1}]},{nc:1,n:[{nc:2,fi:0,rs:1}]},{nc:1,n:[{nc:1,n:[{nc:1,ll:2}]}]},{nc:1,n:[{nc:1,n:[{nc:1,ll:2}]}]}] -> Count: 30\n",
      "Signature Group 6: [{nc:2,fi:0,rs:3,n:[{nc:2},{nc:2}]},{nc:2,n:[{nc:2,n:[{nc:2,ll:2},{nc:2,n:[{nc:2,ll:2},{nc:1,n:[{nc:2,ll:2}]}]}]},{nc:1,n:[{nc:2,ll:2}]}]},{nc:2,n:[{nc:2,n:[{nc:2,ll:2},{nc:2,n:[{nc:2,ll:2},{nc:1,n:[{nc:2,ll:2}]}]}]},{nc:1,n:[{nc:2,ll:2}]}]},{nc:1,n:[{nc:2,n:[{nc:2,fi:0,rs:3},{nc:1,ll:2}]}]},{nc:1,n:[{nc:2,n:[{nc:2,fi:0,rs:3},{nc:1,ll:2}]}]}] -> Count: 60\n",
      "Signature Group 7: [{nc:2,n:[{nc:2,n:[{nc:2,ll:2},{nc:1,n:[{nc:2,ll:2}]}]},{nc:1,n:[{nc:2,ll:2}]}]},{nc:2,n:[{nc:2,n:[{nc:2,ll:2},{nc:1,n:[{nc:2,ll:2}]}]},{nc:1,n:[{nc:2,ll:2}]}]},{nc:1,n:[{nc:2,n:[{nc:2,n:[{nc:2,ll:2},{nc:1,n:[{nc:2,ll:2}]}]},{nc:1,ll:2}]}]},{nc:1,n:[{nc:2,n:[{nc:2,n:[{nc:2,ll:2},{nc:1,n:[{nc:2,ll:2}]}]},{nc:1,ll:2}]}]},{nc:0,fi:4,rs:1}] -> Count: 60\n",
      "Signature Group 8: [{nc:2,n:[{nc:2,n:[{nc:2,ll:2},{nc:2,n:[{nc:2,ll:2},{nc:2,ll:3}]}]},{nc:2,n:[{nc:2,ll:2},{nc:2,n:[{nc:2,ll:2},{nc:2,ll:3}]}]}]},{nc:2,n:[{nc:2,n:[{nc:2,ll:2},{nc:2,n:[{nc:2,ll:2},{nc:2,ll:3}]}]},{nc:2,n:[{nc:2,ll:2},{nc:2,n:[{nc:2,ll:2},{nc:2,ll:3}]}]}]},{nc:2,n:[{nc:2,n:[{nc:2,ll:2},{nc:2,n:[{nc:2,ll:2},{nc:2,ll:3}]}]},{nc:2,n:[{nc:2,ll:2},{nc:2,n:[{nc:2,ll:2},{nc:2,ll:3}]}]}]},{nc:0},{nc:0}] -> Count: 10\n",
      "Signature Group 9: [{nc:2,n:[{nc:2,n:[{nc:2,ll:2},{nc:2,n:[{nc:2,ll:2},{nc:2,ll:3}]}]},{nc:2,n:[{nc:2,ll:2},{nc:2,n:[{nc:2,ll:2},{nc:2,ll:3}]}]}]},{nc:2,n:[{nc:2,n:[{nc:2,ll:2},{nc:2,n:[{nc:2,ll:2},{nc:2,ll:3}]}]},{nc:2,n:[{nc:2,ll:2},{nc:2,n:[{nc:2,ll:2},{nc:2,ll:3}]}]}]},{nc:2,n:[{nc:2,n:[{nc:2,ll:2},{nc:2,n:[{nc:2,ll:2},{nc:2,ll:3}]}]},{nc:2,n:[{nc:2,ll:2},{nc:2,n:[{nc:2,ll:2},{nc:2,ll:3}]}]}]},{nc:1,n:[{nc:1,n:[{nc:1,ll:2}]}]},{nc:1,n:[{nc:1,n:[{nc:1,ll:2}]}]}] -> Count: 10\n",
      "Signature Group 10: [{nc:2,n:[{nc:2,n:[{nc:2,ll:2},{nc:2,n:[{nc:2,ll:2},{nc:2,n:[{nc:2,ll:2},{nc:2,ll:4}]}]}]},{nc:2,n:[{nc:2,ll:2},{nc:2,n:[{nc:2,ll:2},{nc:2,n:[{nc:2,ll:2},{nc:2,ll:4}]}]}]}]},{nc:2,n:[{nc:2,n:[{nc:2,ll:2},{nc:2,n:[{nc:2,ll:2},{nc:2,n:[{nc:2,ll:2},{nc:2,ll:4}]}]}]},{nc:2,n:[{nc:2,ll:2},{nc:2,n:[{nc:2,ll:2},{nc:2,n:[{nc:2,ll:2},{nc:2,ll:4}]}]}]}]},{nc:2,n:[{nc:2,n:[{nc:2,ll:2},{nc:2,n:[{nc:2,ll:2},{nc:2,n:[{nc:2,ll:2},{nc:2,ll:4}]}]}]},{nc:2,n:[{nc:2,ll:2},{nc:2,n:[{nc:2,ll:2},{nc:2,n:[{nc:2,ll:2},{nc:2,ll:4}]}]}]}]},{nc:2,n:[{nc:2,n:[{nc:2,ll:2},{nc:2,n:[{nc:2,ll:2},{nc:2,n:[{nc:2,ll:2},{nc:2,ll:4}]}]}]},{nc:2,n:[{nc:2,ll:2},{nc:2,n:[{nc:2,ll:2},{nc:2,n:[{nc:2,ll:2},{nc:2,ll:4}]}]}]}]},{nc:0,fi:4,rs:1}] -> Count: 15\n",
      "Signature Group 11: [{nc:2,n:[{nc:2,n:[{nc:2,ll:2},{nc:2,n:[{nc:2,ll:2},{nc:2,n:[{nc:2,ll:2},{nc:2,n:[{nc:2,ll:2},{nc:2,ll:5}]}]}]}]},{nc:2,n:[{nc:2,ll:2},{nc:2,n:[{nc:2,ll:2},{nc:2,n:[{nc:2,ll:2},{nc:2,n:[{nc:2,ll:2},{nc:2,ll:5}]}]}]}]}]},{nc:2,n:[{nc:2,n:[{nc:2,ll:2},{nc:2,n:[{nc:2,ll:2},{nc:2,n:[{nc:2,ll:2},{nc:2,n:[{nc:2,ll:2},{nc:2,ll:5}]}]}]}]},{nc:2,n:[{nc:2,ll:2},{nc:2,n:[{nc:2,ll:2},{nc:2,n:[{nc:2,ll:2},{nc:2,n:[{nc:2,ll:2},{nc:2,ll:5}]}]}]}]}]},{nc:2,n:[{nc:2,n:[{nc:2,ll:2},{nc:2,n:[{nc:2,ll:2},{nc:2,n:[{nc:2,ll:2},{nc:2,n:[{nc:2,ll:2},{nc:2,ll:5}]}]}]}]},{nc:2,n:[{nc:2,ll:2},{nc:2,n:[{nc:2,ll:2},{nc:2,n:[{nc:2,ll:2},{nc:2,n:[{nc:2,ll:2},{nc:2,ll:5}]}]}]}]}]},{nc:2,n:[{nc:2,n:[{nc:2,ll:2},{nc:2,n:[{nc:2,ll:2},{nc:2,n:[{nc:2,ll:2},{nc:2,n:[{nc:2,ll:2},{nc:2,ll:5}]}]}]}]},{nc:2,n:[{nc:2,ll:2},{nc:2,n:[{nc:2,ll:2},{nc:2,n:[{nc:2,ll:2},{nc:2,n:[{nc:2,ll:2},{nc:2,ll:5}]}]}]}]}]},{nc:2,n:[{nc:2,n:[{nc:2,ll:2},{nc:2,n:[{nc:2,ll:2},{nc:2,n:[{nc:2,ll:2},{nc:2,n:[{nc:2,ll:2},{nc:2,ll:5}]}]}]}]},{nc:2,n:[{nc:2,ll:2},{nc:2,n:[{nc:2,ll:2},{nc:2,n:[{nc:2,ll:2},{nc:2,n:[{nc:2,ll:2},{nc:2,ll:5}]}]}]}]}]}] -> Count: 12\n",
      "Signature Group 12: [{nc:3,fi:0,rs:1},{nc:1,n:[{nc:3,fi:0,rs:1}]},{nc:1,n:[{nc:3,fi:0,rs:1}]},{nc:1,n:[{nc:3,fi:0,rs:1}]},{nc:0,fi:4,rs:1}] -> Count: 20\n",
      "Signature Group 13: [{nc:3,fi:0,rs:1},{nc:2,fi:1,rs:1},{nc:1,fi:4,rs:3,n:[{nc:2,fi:1,rs:1}]},{nc:1,n:[{nc:3,fi:0,rs:1}]},{nc:1,n:[{nc:3,fi:0,rs:1}]}] -> Count: 60\n",
      "Signature Group 14: [{nc:3,fi:0,rs:1},{nc:2,fi:3,rs:3,n:[{nc:2},{nc:2}]},{nc:2,n:[{nc:3,fi:0,rs:1},{nc:2,n:[{nc:2,ll:2},{nc:2,n:[{nc:3,fi:0,rs:1},{nc:2,ll:2}]}]}]},{nc:2,n:[{nc:3,fi:0,rs:1},{nc:2,n:[{nc:2,ll:2},{nc:2,n:[{nc:3,fi:0,rs:1},{nc:2,ll:2}]}]}]},{nc:1,fi:4,rs:1}] -> Count: 60\n",
      "Signature Group 15: [{nc:3,fi:0,rs:1},{nc:2,fi:3,rs:3,n:[{nc:3,fi:0,rs:1},{nc:1,fi:4,rs:1}]},{nc:2,n:[{nc:3,fi:0,rs:1},{nc:2,n:[{nc:3,fi:0,rs:1},{nc:2,ll:2}]}]},{nc:2,n:[{nc:3,fi:0,rs:1},{nc:2,n:[{nc:3,fi:0,rs:1},{nc:2,ll:2}]}]},{nc:1,fi:4,rs:1}] -> Count: 60\n",
      "Signature Group 16: [{nc:3,fi:0,rs:1},{nc:2,n:[{nc:3,fi:0,rs:1},{nc:2,n:[{nc:3,fi:0,rs:1},{nc:2,ll:2}]}]},{nc:2,n:[{nc:3,fi:0,rs:1},{nc:2,n:[{nc:3,fi:0,rs:1},{nc:2,ll:2}]}]},{nc:1,fi:3,rs:1},{nc:0,fi:4,rs:1}] -> Count: 60\n",
      "Signature Group 17: [{nc:3,fi:2,rs:3,n:[{nc:3},{nc:3},{nc:1,fi:4,rs:1}]},{nc:3,n:[{nc:3,n:[{nc:3,fi:2,rs:3},{nc:3,ll:2},{nc:2,fi:3,rs:1}]},{nc:3,n:[{nc:3,ll:2},{nc:3,n:[{nc:3,ll:2},{nc:3,ll:3},{nc:2,fi:3,rs:1}]},{nc:1,fi:4,rs:1}]},{nc:2,fi:3,rs:1}]},{nc:3,n:[{nc:3,n:[{nc:3,fi:2,rs:3},{nc:3,ll:2},{nc:2,fi:3,rs:1}]},{nc:3,n:[{nc:3,ll:2},{nc:3,n:[{nc:3,ll:2},{nc:3,ll:3},{nc:2,fi:3,rs:1}]},{nc:1,fi:4,rs:1}]},{nc:2,fi:3,rs:1}]},{nc:2,fi:3,rs:1},{nc:1,fi:4,rs:1}] -> Count: 60\n",
      "Signature Group 18: [{nc:3,n:[{nc:2,n:[{nc:3,ll:2},{nc:3,n:[{nc:2,ll:2},{nc:2,n:[{nc:3,ll:2},{nc:3,ll:4}]},{nc:2,n:[{nc:3,ll:2},{nc:3,ll:4}]}]}]},{nc:2,n:[{nc:3,ll:2},{nc:3,n:[{nc:2,ll:2},{nc:2,n:[{nc:3,ll:2},{nc:3,ll:4}]},{nc:2,n:[{nc:3,ll:2},{nc:3,ll:4}]}]}]},{nc:2,n:[{nc:3,ll:2},{nc:3,n:[{nc:2,ll:2},{nc:2,n:[{nc:3,ll:2},{nc:3,ll:4}]},{nc:2,n:[{nc:3,ll:2},{nc:3,ll:4}]}]}]}]},{nc:3,n:[{nc:2,n:[{nc:3,ll:2},{nc:3,n:[{nc:2,ll:2},{nc:2,n:[{nc:3,ll:2},{nc:3,ll:4}]},{nc:2,n:[{nc:3,ll:2},{nc:3,ll:4}]}]}]},{nc:2,n:[{nc:3,ll:2},{nc:3,n:[{nc:2,ll:2},{nc:2,n:[{nc:3,ll:2},{nc:3,ll:4}]},{nc:2,n:[{nc:3,ll:2},{nc:3,ll:4}]}]}]},{nc:2,n:[{nc:3,ll:2},{nc:3,n:[{nc:2,ll:2},{nc:2,n:[{nc:3,ll:2},{nc:3,ll:4}]},{nc:2,n:[{nc:3,ll:2},{nc:3,ll:4}]}]}]}]},{nc:2,n:[{nc:3,n:[{nc:2,ll:2},{nc:2,n:[{nc:3,ll:2},{nc:3,n:[{nc:2,ll:2},{nc:2,ll:4},{nc:2,n:[{nc:3,ll:2},{nc:3,ll:4}]}]}]},{nc:2,n:[{nc:3,ll:2},{nc:3,n:[{nc:2,ll:2},{nc:2,ll:4},{nc:2,n:[{nc:3,ll:2},{nc:3,ll:4}]}]}]}]},{nc:3,n:[{nc:2,ll:2},{nc:2,n:[{nc:3,ll:2},{nc:3,n:[{nc:2,ll:2},{nc:2,ll:4},{nc:2,n:[{nc:3,ll:2},{nc:3,ll:4}]}]}]},{nc:2,n:[{nc:3,ll:2},{nc:3,n:[{nc:2,ll:2},{nc:2,ll:4},{nc:2,n:[{nc:3,ll:2},{nc:3,ll:4}]}]}]}]}]},{nc:2,n:[{nc:3,n:[{nc:2,ll:2},{nc:2,n:[{nc:3,ll:2},{nc:3,n:[{nc:2,ll:2},{nc:2,ll:4},{nc:2,n:[{nc:3,ll:2},{nc:3,ll:4}]}]}]},{nc:2,n:[{nc:3,ll:2},{nc:3,n:[{nc:2,ll:2},{nc:2,ll:4},{nc:2,n:[{nc:3,ll:2},{nc:3,ll:4}]}]}]}]},{nc:3,n:[{nc:2,ll:2},{nc:2,n:[{nc:3,ll:2},{nc:3,n:[{nc:2,ll:2},{nc:2,ll:4},{nc:2,n:[{nc:3,ll:2},{nc:3,ll:4}]}]}]},{nc:2,n:[{nc:3,ll:2},{nc:3,n:[{nc:2,ll:2},{nc:2,ll:4},{nc:2,n:[{nc:3,ll:2},{nc:3,ll:4}]}]}]}]}]},{nc:2,n:[{nc:3,n:[{nc:2,ll:2},{nc:2,n:[{nc:3,ll:2},{nc:3,n:[{nc:2,ll:2},{nc:2,ll:4},{nc:2,n:[{nc:3,ll:2},{nc:3,ll:4}]}]}]},{nc:2,n:[{nc:3,ll:2},{nc:3,n:[{nc:2,ll:2},{nc:2,ll:4},{nc:2,n:[{nc:3,ll:2},{nc:3,ll:4}]}]}]}]},{nc:3,n:[{nc:2,ll:2},{nc:2,n:[{nc:3,ll:2},{nc:3,n:[{nc:2,ll:2},{nc:2,ll:4},{nc:2,n:[{nc:3,ll:2},{nc:3,ll:4}]}]}]},{nc:2,n:[{nc:3,ll:2},{nc:3,n:[{nc:2,ll:2},{nc:2,ll:4},{nc:2,n:[{nc:3,ll:2},{nc:3,ll:4}]}]}]}]}]}] -> Count: 10\n",
      "Signature Group 19: [{nc:3,n:[{nc:3,n:[{nc:3,ll:2},{nc:2,fi:2,rs:1},{nc:1,n:[{nc:3,ll:2}]}]},{nc:2,fi:2,rs:1},{nc:1,n:[{nc:3,ll:2}]}]},{nc:3,n:[{nc:3,n:[{nc:3,ll:2},{nc:2,fi:2,rs:1},{nc:1,n:[{nc:3,ll:2}]}]},{nc:2,fi:2,rs:1},{nc:1,n:[{nc:3,ll:2}]}]},{nc:2,fi:2,rs:1},{nc:1,n:[{nc:3,n:[{nc:3,n:[{nc:3,ll:2},{nc:2,fi:2,rs:1},{nc:1,n:[{nc:3,ll:2}]}]},{nc:2,fi:2,rs:1},{nc:1,ll:2}]}]},{nc:1,n:[{nc:3,n:[{nc:3,n:[{nc:3,ll:2},{nc:2,fi:2,rs:1},{nc:1,n:[{nc:3,ll:2}]}]},{nc:2,fi:2,rs:1},{nc:1,ll:2}]}]}] -> Count: 60\n",
      "Signature Group 20: [{nc:3,n:[{nc:3,n:[{nc:3,ll:2},{nc:2,fi:2,rs:3},{nc:2,n:[{nc:3,ll:2},{nc:2,n:[{nc:3,ll:4},{nc:2,ll:2}]}]}]},{nc:2,n:[{nc:3,ll:2},{nc:3,n:[{nc:3,ll:3},{nc:2,ll:2},{nc:2,n:[{nc:3,ll:2},{nc:2,n:[{nc:3,ll:5},{nc:2,ll:2}]}]}]}]},{nc:2,n:[{nc:3,ll:2},{nc:2,n:[{nc:3,n:[{nc:3,ll:4},{nc:2,fi:2,rs:3},{nc:2,ll:2}]},{nc:2,ll:2}]}]}]},{nc:3,n:[{nc:3,n:[{nc:3,ll:2},{nc:2,fi:2,rs:3},{nc:2,n:[{nc:3,ll:2},{nc:2,n:[{nc:3,ll:4},{nc:2,ll:2}]}]}]},{nc:2,n:[{nc:3,ll:2},{nc:3,n:[{nc:3,ll:3},{nc:2,ll:2},{nc:2,n:[{nc:3,ll:2},{nc:2,n:[{nc:3,ll:5},{nc:2,ll:2}]}]}]}]},{nc:2,n:[{nc:3,ll:2},{nc:2,n:[{nc:3,n:[{nc:3,ll:4},{nc:2,fi:2,rs:3},{nc:2,ll:2}]},{nc:2,ll:2}]}]}]},{nc:2,fi:2,rs:3,n:[{nc:3},{nc:3}]},{nc:2,n:[{nc:3,n:[{nc:3,n:[{nc:3,ll:2},{nc:2,fi:2,rs:3},{nc:2,n:[{nc:3,ll:2},{nc:2,ll:4}]}]},{nc:2,fi:2,rs:3},{nc:2,ll:2}]},{nc:2,n:[{nc:3,n:[{nc:3,n:[{nc:3,ll:2},{nc:2,fi:2,rs:3},{nc:2,ll:4}]},{nc:2,fi:2,rs:3},{nc:2,ll:2}]},{nc:2,ll:2}]}]},{nc:2,n:[{nc:3,n:[{nc:3,n:[{nc:3,ll:2},{nc:2,fi:2,rs:3},{nc:2,n:[{nc:3,ll:2},{nc:2,ll:4}]}]},{nc:2,fi:2,rs:3},{nc:2,ll:2}]},{nc:2,n:[{nc:3,n:[{nc:3,n:[{nc:3,ll:2},{nc:2,fi:2,rs:3},{nc:2,ll:4}]},{nc:2,fi:2,rs:3},{nc:2,ll:2}]},{nc:2,ll:2}]}]}] -> Count: 60\n",
      "Signature Group 21: [{nc:3,n:[{nc:3,n:[{nc:3,ll:2},{nc:2,n:[{nc:3,ll:2},{nc:3,ll:3}]},{nc:2,n:[{nc:3,ll:2},{nc:3,ll:3}]}]},{nc:2,n:[{nc:3,ll:2},{nc:3,n:[{nc:3,ll:3},{nc:2,ll:2},{nc:2,n:[{nc:3,ll:2},{nc:3,ll:4}]}]}]},{nc:2,n:[{nc:3,ll:2},{nc:3,n:[{nc:3,ll:3},{nc:2,ll:2},{nc:2,n:[{nc:3,ll:2},{nc:3,ll:4}]}]}]}]},{nc:3,n:[{nc:3,n:[{nc:3,ll:2},{nc:2,n:[{nc:3,ll:2},{nc:3,ll:3}]},{nc:2,n:[{nc:3,ll:2},{nc:3,ll:3}]}]},{nc:2,n:[{nc:3,ll:2},{nc:3,n:[{nc:3,ll:3},{nc:2,ll:2},{nc:2,n:[{nc:3,ll:2},{nc:3,ll:4}]}]}]},{nc:2,n:[{nc:3,ll:2},{nc:3,n:[{nc:3,ll:3},{nc:2,ll:2},{nc:2,n:[{nc:3,ll:2},{nc:3,ll:4}]}]}]}]},{nc:2,n:[{nc:3,n:[{nc:3,n:[{nc:3,ll:2},{nc:2,ll:3},{nc:2,n:[{nc:3,ll:2},{nc:3,ll:3}]}]},{nc:2,ll:2},{nc:2,n:[{nc:3,ll:2},{nc:3,n:[{nc:3,ll:3},{nc:2,ll:2},{nc:2,ll:4}]}]}]},{nc:3,n:[{nc:3,n:[{nc:3,ll:2},{nc:2,ll:3},{nc:2,n:[{nc:3,ll:2},{nc:3,ll:3}]}]},{nc:2,ll:2},{nc:2,n:[{nc:3,ll:2},{nc:3,n:[{nc:3,ll:3},{nc:2,ll:2},{nc:2,ll:4}]}]}]}]},{nc:2,n:[{nc:3,n:[{nc:3,n:[{nc:3,ll:2},{nc:2,ll:3},{nc:2,n:[{nc:3,ll:2},{nc:3,ll:3}]}]},{nc:2,ll:2},{nc:2,n:[{nc:3,ll:2},{nc:3,n:[{nc:3,ll:3},{nc:2,ll:2},{nc:2,ll:4}]}]}]},{nc:3,n:[{nc:3,n:[{nc:3,ll:2},{nc:2,ll:3},{nc:2,n:[{nc:3,ll:2},{nc:3,ll:3}]}]},{nc:2,ll:2},{nc:2,n:[{nc:3,ll:2},{nc:3,n:[{nc:3,ll:3},{nc:2,ll:2},{nc:2,ll:4}]}]}]}]},{nc:0,fi:4,rs:1}] -> Count: 30\n",
      "Signature Group 22: [{nc:3,n:[{nc:3,n:[{nc:3,ll:2},{nc:3,n:[{nc:3,ll:2},{nc:3,ll:3},{nc:3,n:[{nc:3,ll:2},{nc:3,ll:3},{nc:2,fi:4,rs:1}]}]},{nc:3,n:[{nc:3,ll:2},{nc:3,n:[{nc:3,ll:2},{nc:3,ll:3},{nc:3,ll:4}]},{nc:2,fi:4,rs:1}]}]},{nc:3,n:[{nc:3,ll:2},{nc:3,n:[{nc:3,ll:2},{nc:3,ll:3},{nc:3,n:[{nc:3,ll:2},{nc:3,ll:3},{nc:2,fi:4,rs:1}]}]},{nc:3,n:[{nc:3,ll:2},{nc:3,n:[{nc:3,ll:2},{nc:3,ll:3},{nc:3,ll:4}]},{nc:2,fi:4,rs:1}]}]},{nc:2,fi:4,rs:1}]},{nc:3,n:[{nc:3,n:[{nc:3,ll:2},{nc:3,n:[{nc:3,ll:2},{nc:3,ll:3},{nc:3,n:[{nc:3,ll:2},{nc:3,ll:3},{nc:2,fi:4,rs:1}]}]},{nc:3,n:[{nc:3,ll:2},{nc:3,n:[{nc:3,ll:2},{nc:3,ll:3},{nc:3,ll:4}]},{nc:2,fi:4,rs:1}]}]},{nc:3,n:[{nc:3,ll:2},{nc:3,n:[{nc:3,ll:2},{nc:3,ll:3},{nc:3,n:[{nc:3,ll:2},{nc:3,ll:3},{nc:2,fi:4,rs:1}]}]},{nc:3,n:[{nc:3,ll:2},{nc:3,n:[{nc:3,ll:2},{nc:3,ll:3},{nc:3,ll:4}]},{nc:2,fi:4,rs:1}]}]},{nc:2,fi:4,rs:1}]},{nc:3,n:[{nc:3,n:[{nc:3,ll:2},{nc:3,n:[{nc:3,ll:2},{nc:3,ll:3},{nc:3,n:[{nc:3,ll:2},{nc:3,ll:4},{nc:2,fi:4,rs:1}]}]},{nc:2,fi:4,rs:1}]},{nc:3,n:[{nc:3,ll:2},{nc:3,n:[{nc:3,ll:2},{nc:3,ll:3},{nc:3,n:[{nc:3,ll:2},{nc:3,ll:4},{nc:2,fi:4,rs:1}]}]},{nc:2,fi:4,rs:1}]},{nc:3,n:[{nc:3,ll:2},{nc:3,n:[{nc:3,ll:2},{nc:3,ll:3},{nc:2,fi:4,rs:1}]},{nc:3,n:[{nc:3,ll:2},{nc:3,ll:3},{nc:2,fi:4,rs:1}]}]}]},{nc:3,n:[{nc:3,n:[{nc:3,ll:2},{nc:3,n:[{nc:3,ll:2},{nc:3,ll:3},{nc:3,n:[{nc:3,ll:2},{nc:3,ll:4},{nc:2,fi:4,rs:1}]}]},{nc:2,fi:4,rs:1}]},{nc:3,n:[{nc:3,ll:2},{nc:3,n:[{nc:3,ll:2},{nc:3,ll:3},{nc:3,n:[{nc:3,ll:2},{nc:3,ll:4},{nc:2,fi:4,rs:1}]}]},{nc:2,fi:4,rs:1}]},{nc:3,n:[{nc:3,ll:2},{nc:3,n:[{nc:3,ll:2},{nc:3,ll:3},{nc:2,fi:4,rs:1}]},{nc:3,n:[{nc:3,ll:2},{nc:3,ll:3},{nc:2,fi:4,rs:1}]}]}]},{nc:2,fi:4,rs:1}] -> Count: 30\n",
      "Signature Group 23: [{nc:3,n:[{nc:3,n:[{nc:3,ll:2},{nc:3,n:[{nc:3,ll:2},{nc:3,ll:3},{nc:3,n:[{nc:3,ll:2},{nc:3,ll:3},{nc:3,ll:4}]}]},{nc:3,n:[{nc:3,ll:2},{nc:3,ll:3},{nc:3,n:[{nc:3,ll:2},{nc:3,ll:3},{nc:3,ll:4}]}]}]},{nc:3,n:[{nc:3,ll:2},{nc:3,n:[{nc:3,ll:2},{nc:3,ll:3},{nc:3,n:[{nc:3,ll:2},{nc:3,ll:3},{nc:3,ll:4}]}]},{nc:3,n:[{nc:3,ll:2},{nc:3,ll:3},{nc:3,n:[{nc:3,ll:2},{nc:3,ll:3},{nc:3,ll:4}]}]}]},{nc:3,n:[{nc:3,ll:2},{nc:3,n:[{nc:3,ll:2},{nc:3,ll:3},{nc:3,n:[{nc:3,ll:2},{nc:3,ll:3},{nc:3,ll:4}]}]},{nc:3,n:[{nc:3,ll:2},{nc:3,ll:3},{nc:3,n:[{nc:3,ll:2},{nc:3,ll:3},{nc:3,ll:4}]}]}]}]},{nc:3,n:[{nc:3,n:[{nc:3,ll:2},{nc:3,n:[{nc:3,ll:2},{nc:3,ll:3},{nc:3,n:[{nc:3,ll:2},{nc:3,ll:3},{nc:3,ll:4}]}]},{nc:3,n:[{nc:3,ll:2},{nc:3,ll:3},{nc:3,n:[{nc:3,ll:2},{nc:3,ll:3},{nc:3,ll:4}]}]}]},{nc:3,n:[{nc:3,ll:2},{nc:3,n:[{nc:3,ll:2},{nc:3,ll:3},{nc:3,n:[{nc:3,ll:2},{nc:3,ll:3},{nc:3,ll:4}]}]},{nc:3,n:[{nc:3,ll:2},{nc:3,ll:3},{nc:3,n:[{nc:3,ll:2},{nc:3,ll:3},{nc:3,ll:4}]}]}]},{nc:3,n:[{nc:3,ll:2},{nc:3,n:[{nc:3,ll:2},{nc:3,ll:3},{nc:3,n:[{nc:3,ll:2},{nc:3,ll:3},{nc:3,ll:4}]}]},{nc:3,n:[{nc:3,ll:2},{nc:3,ll:3},{nc:3,n:[{nc:3,ll:2},{nc:3,ll:3},{nc:3,ll:4}]}]}]}]},{nc:3,n:[{nc:3,n:[{nc:3,ll:2},{nc:3,n:[{nc:3,ll:2},{nc:3,ll:3},{nc:3,n:[{nc:3,ll:2},{nc:3,ll:3},{nc:3,ll:4}]}]},{nc:3,n:[{nc:3,ll:2},{nc:3,ll:3},{nc:3,n:[{nc:3,ll:2},{nc:3,ll:3},{nc:3,ll:4}]}]}]},{nc:3,n:[{nc:3,ll:2},{nc:3,n:[{nc:3,ll:2},{nc:3,ll:3},{nc:3,n:[{nc:3,ll:2},{nc:3,ll:3},{nc:3,ll:4}]}]},{nc:3,n:[{nc:3,ll:2},{nc:3,ll:3},{nc:3,n:[{nc:3,ll:2},{nc:3,ll:3},{nc:3,ll:4}]}]}]},{nc:3,n:[{nc:3,ll:2},{nc:3,n:[{nc:3,ll:2},{nc:3,ll:3},{nc:3,n:[{nc:3,ll:2},{nc:3,ll:3},{nc:3,ll:4}]}]},{nc:3,n:[{nc:3,ll:2},{nc:3,ll:3},{nc:3,n:[{nc:3,ll:2},{nc:3,ll:3},{nc:3,ll:4}]}]}]}]},{nc:3,n:[{nc:3,n:[{nc:3,ll:2},{nc:3,n:[{nc:3,ll:2},{nc:3,ll:3},{nc:3,n:[{nc:3,ll:2},{nc:3,ll:3},{nc:3,ll:4}]}]},{nc:3,n:[{nc:3,ll:2},{nc:3,ll:3},{nc:3,n:[{nc:3,ll:2},{nc:3,ll:3},{nc:3,ll:4}]}]}]},{nc:3,n:[{nc:3,ll:2},{nc:3,n:[{nc:3,ll:2},{nc:3,ll:3},{nc:3,n:[{nc:3,ll:2},{nc:3,ll:3},{nc:3,ll:4}]}]},{nc:3,n:[{nc:3,ll:2},{nc:3,ll:3},{nc:3,n:[{nc:3,ll:2},{nc:3,ll:3},{nc:3,ll:4}]}]}]},{nc:3,n:[{nc:3,ll:2},{nc:3,n:[{nc:3,ll:2},{nc:3,ll:3},{nc:3,n:[{nc:3,ll:2},{nc:3,ll:3},{nc:3,ll:4}]}]},{nc:3,n:[{nc:3,ll:2},{nc:3,ll:3},{nc:3,n:[{nc:3,ll:2},{nc:3,ll:3},{nc:3,ll:4}]}]}]}]},{nc:0,fi:4,rs:1}] -> Count: 5\n",
      "Signature Group 24: [{nc:4,fi:0,rs:1},{nc:1,n:[{nc:4,fi:0,rs:1}]},{nc:1,n:[{nc:4,fi:0,rs:1}]},{nc:1,n:[{nc:4,fi:0,rs:1}]},{nc:1,n:[{nc:4,fi:0,rs:1}]}] -> Count: 5\n",
      "Signature Group 25: [{nc:4,fi:0,rs:1},{nc:2,n:[{nc:4,fi:0,rs:1},{nc:2,n:[{nc:4,fi:0,rs:1},{nc:2,ll:2}]}]},{nc:2,n:[{nc:4,fi:0,rs:1},{nc:2,n:[{nc:4,fi:0,rs:1},{nc:2,ll:2}]}]},{nc:1,n:[{nc:4,fi:0,rs:1}]},{nc:1,n:[{nc:4,fi:0,rs:1}]}] -> Count: 30\n",
      "Signature Group 26: [{nc:4,fi:0,rs:1},{nc:2,n:[{nc:4,fi:0,rs:1},{nc:2,n:[{nc:4,fi:0,rs:1},{nc:2,ll:2}]}]},{nc:2,n:[{nc:4,fi:0,rs:1},{nc:2,n:[{nc:4,fi:0,rs:1},{nc:2,ll:2}]}]},{nc:2,n:[{nc:4,fi:0,rs:1},{nc:2,n:[{nc:4,fi:0,rs:1},{nc:2,ll:2}]}]},{nc:2,n:[{nc:4,fi:0,rs:1},{nc:2,n:[{nc:4,fi:0,rs:1},{nc:2,ll:2}]}]}] -> Count: 15\n",
      "Signature Group 27: [{nc:4,fi:0,rs:1},{nc:3,fi:1,rs:1},{nc:2,n:[{nc:4,fi:0,rs:1},{nc:3,fi:1,rs:1}]},{nc:2,n:[{nc:4,fi:0,rs:1},{nc:3,fi:1,rs:1}]},{nc:1,fi:4,rs:1}] -> Count: 60\n",
      "Signature Group 28: [{nc:4,fi:0,rs:1},{nc:3,n:[{nc:4,fi:0,rs:1},{nc:3,n:[{nc:4,fi:0,rs:1},{nc:3,ll:2},{nc:2,n:[{nc:4,fi:0,rs:1},{nc:3,ll:2}]}]},{nc:2,n:[{nc:4,fi:0,rs:1},{nc:3,ll:2}]}]},{nc:3,n:[{nc:4,fi:0,rs:1},{nc:3,n:[{nc:4,fi:0,rs:1},{nc:3,ll:2},{nc:2,n:[{nc:4,fi:0,rs:1},{nc:3,ll:2}]}]},{nc:2,n:[{nc:4,fi:0,rs:1},{nc:3,ll:2}]}]},{nc:2,n:[{nc:4,fi:0,rs:1},{nc:3,n:[{nc:4,fi:0,rs:1},{nc:3,n:[{nc:4,fi:0,rs:1},{nc:3,ll:2},{nc:2,n:[{nc:4,fi:0,rs:1},{nc:3,ll:2}]}]},{nc:2,ll:2}]}]},{nc:2,n:[{nc:4,fi:0,rs:1},{nc:3,n:[{nc:4,fi:0,rs:1},{nc:3,n:[{nc:4,fi:0,rs:1},{nc:3,ll:2},{nc:2,n:[{nc:4,fi:0,rs:1},{nc:3,ll:2}]}]},{nc:2,ll:2}]}]}] -> Count: 60\n",
      "Signature Group 29: [{nc:4,fi:0,rs:1},{nc:3,n:[{nc:4,fi:0,rs:1},{nc:3,n:[{nc:4,fi:0,rs:1},{nc:3,ll:2},{nc:3,n:[{nc:4,fi:0,rs:1},{nc:3,ll:2},{nc:3,ll:3}]}]},{nc:3,n:[{nc:4,fi:0,rs:1},{nc:3,ll:2},{nc:3,n:[{nc:4,fi:0,rs:1},{nc:3,ll:2},{nc:3,ll:3}]}]}]},{nc:3,n:[{nc:4,fi:0,rs:1},{nc:3,n:[{nc:4,fi:0,rs:1},{nc:3,ll:2},{nc:3,n:[{nc:4,fi:0,rs:1},{nc:3,ll:2},{nc:3,ll:3}]}]},{nc:3,n:[{nc:4,fi:0,rs:1},{nc:3,ll:2},{nc:3,n:[{nc:4,fi:0,rs:1},{nc:3,ll:2},{nc:3,ll:3}]}]}]},{nc:3,n:[{nc:4,fi:0,rs:1},{nc:3,n:[{nc:4,fi:0,rs:1},{nc:3,ll:2},{nc:3,n:[{nc:4,fi:0,rs:1},{nc:3,ll:2},{nc:3,ll:3}]}]},{nc:3,n:[{nc:4,fi:0,rs:1},{nc:3,ll:2},{nc:3,n:[{nc:4,fi:0,rs:1},{nc:3,ll:2},{nc:3,ll:3}]}]}]},{nc:1,fi:4,rs:1}] -> Count: 20\n",
      "Signature Group 30: [{nc:4,fi:0,rs:1},{nc:3,n:[{nc:4,fi:0,rs:1},{nc:3,n:[{nc:4,fi:0,rs:1},{nc:3,ll:2},{nc:3,n:[{nc:4,fi:0,rs:1},{nc:3,ll:2},{nc:3,n:[{nc:4,fi:0,rs:1},{nc:3,ll:2},{nc:3,ll:4}]}]}]},{nc:3,n:[{nc:4,fi:0,rs:1},{nc:3,ll:2},{nc:3,n:[{nc:4,fi:0,rs:1},{nc:3,ll:2},{nc:3,n:[{nc:4,fi:0,rs:1},{nc:3,ll:2},{nc:3,ll:4}]}]}]}]},{nc:3,n:[{nc:4,fi:0,rs:1},{nc:3,n:[{nc:4,fi:0,rs:1},{nc:3,ll:2},{nc:3,n:[{nc:4,fi:0,rs:1},{nc:3,ll:2},{nc:3,n:[{nc:4,fi:0,rs:1},{nc:3,ll:2},{nc:3,ll:4}]}]}]},{nc:3,n:[{nc:4,fi:0,rs:1},{nc:3,ll:2},{nc:3,n:[{nc:4,fi:0,rs:1},{nc:3,ll:2},{nc:3,n:[{nc:4,fi:0,rs:1},{nc:3,ll:2},{nc:3,ll:4}]}]}]}]},{nc:3,n:[{nc:4,fi:0,rs:1},{nc:3,n:[{nc:4,fi:0,rs:1},{nc:3,ll:2},{nc:3,n:[{nc:4,fi:0,rs:1},{nc:3,ll:2},{nc:3,n:[{nc:4,fi:0,rs:1},{nc:3,ll:2},{nc:3,ll:4}]}]}]},{nc:3,n:[{nc:4,fi:0,rs:1},{nc:3,ll:2},{nc:3,n:[{nc:4,fi:0,rs:1},{nc:3,ll:2},{nc:3,n:[{nc:4,fi:0,rs:1},{nc:3,ll:2},{nc:3,ll:4}]}]}]}]},{nc:3,n:[{nc:4,fi:0,rs:1},{nc:3,n:[{nc:4,fi:0,rs:1},{nc:3,ll:2},{nc:3,n:[{nc:4,fi:0,rs:1},{nc:3,ll:2},{nc:3,n:[{nc:4,fi:0,rs:1},{nc:3,ll:2},{nc:3,ll:4}]}]}]},{nc:3,n:[{nc:4,fi:0,rs:1},{nc:3,ll:2},{nc:3,n:[{nc:4,fi:0,rs:1},{nc:3,ll:2},{nc:3,n:[{nc:4,fi:0,rs:1},{nc:3,ll:2},{nc:3,ll:4}]}]}]}]}] -> Count: 15\n",
      "Signature Group 31: [{nc:4,n:[{nc:4,n:[{nc:4,ll:2},{nc:2,n:[{nc:4,ll:2},{nc:4,ll:3}]},{nc:2,n:[{nc:4,ll:2},{nc:4,ll:3}]},{nc:2,n:[{nc:4,ll:2},{nc:4,ll:3}]}]},{nc:2,n:[{nc:4,ll:2},{nc:4,n:[{nc:4,ll:3},{nc:2,ll:2},{nc:2,n:[{nc:4,ll:2},{nc:4,ll:4}]},{nc:2,n:[{nc:4,ll:2},{nc:4,ll:4}]}]}]},{nc:2,n:[{nc:4,ll:2},{nc:4,n:[{nc:4,ll:3},{nc:2,ll:2},{nc:2,n:[{nc:4,ll:2},{nc:4,ll:4}]},{nc:2,n:[{nc:4,ll:2},{nc:4,ll:4}]}]}]},{nc:2,n:[{nc:4,ll:2},{nc:4,n:[{nc:4,ll:3},{nc:2,ll:2},{nc:2,n:[{nc:4,ll:2},{nc:4,ll:4}]},{nc:2,n:[{nc:4,ll:2},{nc:4,ll:4}]}]}]}]},{nc:4,n:[{nc:4,n:[{nc:4,ll:2},{nc:2,n:[{nc:4,ll:2},{nc:4,ll:3}]},{nc:2,n:[{nc:4,ll:2},{nc:4,ll:3}]},{nc:2,n:[{nc:4,ll:2},{nc:4,ll:3}]}]},{nc:2,n:[{nc:4,ll:2},{nc:4,n:[{nc:4,ll:3},{nc:2,ll:2},{nc:2,n:[{nc:4,ll:2},{nc:4,ll:4}]},{nc:2,n:[{nc:4,ll:2},{nc:4,ll:4}]}]}]},{nc:2,n:[{nc:4,ll:2},{nc:4,n:[{nc:4,ll:3},{nc:2,ll:2},{nc:2,n:[{nc:4,ll:2},{nc:4,ll:4}]},{nc:2,n:[{nc:4,ll:2},{nc:4,ll:4}]}]}]},{nc:2,n:[{nc:4,ll:2},{nc:4,n:[{nc:4,ll:3},{nc:2,ll:2},{nc:2,n:[{nc:4,ll:2},{nc:4,ll:4}]},{nc:2,n:[{nc:4,ll:2},{nc:4,ll:4}]}]}]}]},{nc:2,n:[{nc:4,n:[{nc:4,n:[{nc:4,ll:2},{nc:2,ll:3},{nc:2,n:[{nc:4,ll:2},{nc:4,ll:3}]},{nc:2,n:[{nc:4,ll:2},{nc:4,ll:3}]}]},{nc:2,ll:2},{nc:2,n:[{nc:4,ll:2},{nc:4,n:[{nc:4,ll:3},{nc:2,ll:2},{nc:2,ll:4},{nc:2,n:[{nc:4,ll:2},{nc:4,ll:4}]}]}]},{nc:2,n:[{nc:4,ll:2},{nc:4,n:[{nc:4,ll:3},{nc:2,ll:2},{nc:2,ll:4},{nc:2,n:[{nc:4,ll:2},{nc:4,ll:4}]}]}]}]},{nc:4,n:[{nc:4,n:[{nc:4,ll:2},{nc:2,ll:3},{nc:2,n:[{nc:4,ll:2},{nc:4,ll:3}]},{nc:2,n:[{nc:4,ll:2},{nc:4,ll:3}]}]},{nc:2,ll:2},{nc:2,n:[{nc:4,ll:2},{nc:4,n:[{nc:4,ll:3},{nc:2,ll:2},{nc:2,ll:4},{nc:2,n:[{nc:4,ll:2},{nc:4,ll:4}]}]}]},{nc:2,n:[{nc:4,ll:2},{nc:4,n:[{nc:4,ll:3},{nc:2,ll:2},{nc:2,ll:4},{nc:2,n:[{nc:4,ll:2},{nc:4,ll:4}]}]}]}]}]},{nc:2,n:[{nc:4,n:[{nc:4,n:[{nc:4,ll:2},{nc:2,ll:3},{nc:2,n:[{nc:4,ll:2},{nc:4,ll:3}]},{nc:2,n:[{nc:4,ll:2},{nc:4,ll:3}]}]},{nc:2,ll:2},{nc:2,n:[{nc:4,ll:2},{nc:4,n:[{nc:4,ll:3},{nc:2,ll:2},{nc:2,ll:4},{nc:2,n:[{nc:4,ll:2},{nc:4,ll:4}]}]}]},{nc:2,n:[{nc:4,ll:2},{nc:4,n:[{nc:4,ll:3},{nc:2,ll:2},{nc:2,ll:4},{nc:2,n:[{nc:4,ll:2},{nc:4,ll:4}]}]}]}]},{nc:4,n:[{nc:4,n:[{nc:4,ll:2},{nc:2,ll:3},{nc:2,n:[{nc:4,ll:2},{nc:4,ll:3}]},{nc:2,n:[{nc:4,ll:2},{nc:4,ll:3}]}]},{nc:2,ll:2},{nc:2,n:[{nc:4,ll:2},{nc:4,n:[{nc:4,ll:3},{nc:2,ll:2},{nc:2,ll:4},{nc:2,n:[{nc:4,ll:2},{nc:4,ll:4}]}]}]},{nc:2,n:[{nc:4,ll:2},{nc:4,n:[{nc:4,ll:3},{nc:2,ll:2},{nc:2,ll:4},{nc:2,n:[{nc:4,ll:2},{nc:4,ll:4}]}]}]}]}]},{nc:2,n:[{nc:4,n:[{nc:4,n:[{nc:4,ll:2},{nc:2,ll:3},{nc:2,n:[{nc:4,ll:2},{nc:4,ll:3}]},{nc:2,n:[{nc:4,ll:2},{nc:4,ll:3}]}]},{nc:2,ll:2},{nc:2,n:[{nc:4,ll:2},{nc:4,n:[{nc:4,ll:3},{nc:2,ll:2},{nc:2,ll:4},{nc:2,n:[{nc:4,ll:2},{nc:4,ll:4}]}]}]},{nc:2,n:[{nc:4,ll:2},{nc:4,n:[{nc:4,ll:3},{nc:2,ll:2},{nc:2,ll:4},{nc:2,n:[{nc:4,ll:2},{nc:4,ll:4}]}]}]}]},{nc:4,n:[{nc:4,n:[{nc:4,ll:2},{nc:2,ll:3},{nc:2,n:[{nc:4,ll:2},{nc:4,ll:3}]},{nc:2,n:[{nc:4,ll:2},{nc:4,ll:3}]}]},{nc:2,ll:2},{nc:2,n:[{nc:4,ll:2},{nc:4,n:[{nc:4,ll:3},{nc:2,ll:2},{nc:2,ll:4},{nc:2,n:[{nc:4,ll:2},{nc:4,ll:4}]}]}]},{nc:2,n:[{nc:4,ll:2},{nc:4,n:[{nc:4,ll:3},{nc:2,ll:2},{nc:2,ll:4},{nc:2,n:[{nc:4,ll:2},{nc:4,ll:4}]}]}]}]}]}] -> Count: 10\n",
      "Signature Group 32: [{nc:4,n:[{nc:4,n:[{nc:4,ll:2},{nc:3,n:[{nc:4,ll:2},{nc:4,ll:3},{nc:3,n:[{nc:4,ll:3},{nc:4,ll:4},{nc:3,ll:2}]}]},{nc:3,n:[{nc:4,ll:2},{nc:4,ll:3},{nc:3,n:[{nc:4,ll:3},{nc:4,ll:4},{nc:3,ll:2}]}]},{nc:2,fi:4,rs:1}]},{nc:3,n:[{nc:4,ll:2},{nc:4,n:[{nc:4,ll:3},{nc:3,ll:2},{nc:3,n:[{nc:4,ll:2},{nc:4,ll:4},{nc:3,ll:3}]},{nc:2,fi:4,rs:1}]},{nc:3,n:[{nc:4,ll:3},{nc:4,n:[{nc:4,ll:4},{nc:3,ll:2},{nc:3,ll:3},{nc:2,fi:4,rs:1}]},{nc:3,ll:2}]}]},{nc:3,n:[{nc:4,ll:2},{nc:4,n:[{nc:4,ll:3},{nc:3,ll:2},{nc:3,n:[{nc:4,ll:2},{nc:4,ll:4},{nc:3,ll:3}]},{nc:2,fi:4,rs:1}]},{nc:3,n:[{nc:4,ll:3},{nc:4,n:[{nc:4,ll:4},{nc:3,ll:2},{nc:3,ll:3},{nc:2,fi:4,rs:1}]},{nc:3,ll:2}]}]},{nc:2,fi:4,rs:1}]},{nc:4,n:[{nc:4,n:[{nc:4,ll:2},{nc:3,n:[{nc:4,ll:2},{nc:4,ll:3},{nc:3,n:[{nc:4,ll:3},{nc:4,ll:4},{nc:3,ll:2}]}]},{nc:3,n:[{nc:4,ll:2},{nc:4,ll:3},{nc:3,n:[{nc:4,ll:3},{nc:4,ll:4},{nc:3,ll:2}]}]},{nc:2,fi:4,rs:1}]},{nc:3,n:[{nc:4,ll:2},{nc:4,n:[{nc:4,ll:3},{nc:3,ll:2},{nc:3,n:[{nc:4,ll:2},{nc:4,ll:4},{nc:3,ll:3}]},{nc:2,fi:4,rs:1}]},{nc:3,n:[{nc:4,ll:3},{nc:4,n:[{nc:4,ll:4},{nc:3,ll:2},{nc:3,ll:3},{nc:2,fi:4,rs:1}]},{nc:3,ll:2}]}]},{nc:3,n:[{nc:4,ll:2},{nc:4,n:[{nc:4,ll:3},{nc:3,ll:2},{nc:3,n:[{nc:4,ll:2},{nc:4,ll:4},{nc:3,ll:3}]},{nc:2,fi:4,rs:1}]},{nc:3,n:[{nc:4,ll:3},{nc:4,n:[{nc:4,ll:4},{nc:3,ll:2},{nc:3,ll:3},{nc:2,fi:4,rs:1}]},{nc:3,ll:2}]}]},{nc:2,fi:4,rs:1}]},{nc:3,n:[{nc:4,n:[{nc:4,n:[{nc:4,ll:2},{nc:3,ll:3},{nc:3,n:[{nc:4,ll:2},{nc:4,ll:3},{nc:3,ll:4}]},{nc:2,fi:4,rs:1}]},{nc:3,ll:2},{nc:3,n:[{nc:4,ll:2},{nc:4,n:[{nc:4,ll:3},{nc:3,ll:2},{nc:3,ll:4},{nc:2,fi:4,rs:1}]},{nc:3,ll:3}]},{nc:2,fi:4,rs:1}]},{nc:4,n:[{nc:4,n:[{nc:4,ll:2},{nc:3,ll:3},{nc:3,n:[{nc:4,ll:2},{nc:4,ll:3},{nc:3,ll:4}]},{nc:2,fi:4,rs:1}]},{nc:3,ll:2},{nc:3,n:[{nc:4,ll:2},{nc:4,n:[{nc:4,ll:3},{nc:3,ll:2},{nc:3,ll:4},{nc:2,fi:4,rs:1}]},{nc:3,ll:3}]},{nc:2,fi:4,rs:1}]},{nc:3,n:[{nc:4,n:[{nc:4,n:[{nc:4,ll:2},{nc:3,ll:3},{nc:3,ll:4},{nc:2,fi:4,rs:1}]},{nc:3,ll:2},{nc:3,ll:3},{nc:2,fi:4,rs:1}]},{nc:4,n:[{nc:4,n:[{nc:4,ll:2},{nc:3,ll:3},{nc:3,ll:4},{nc:2,fi:4,rs:1}]},{nc:3,ll:2},{nc:3,ll:3},{nc:2,fi:4,rs:1}]},{nc:3,ll:2}]}]},{nc:3,n:[{nc:4,n:[{nc:4,n:[{nc:4,ll:2},{nc:3,ll:3},{nc:3,n:[{nc:4,ll:2},{nc:4,ll:3},{nc:3,ll:4}]},{nc:2,fi:4,rs:1}]},{nc:3,ll:2},{nc:3,n:[{nc:4,ll:2},{nc:4,n:[{nc:4,ll:3},{nc:3,ll:2},{nc:3,ll:4},{nc:2,fi:4,rs:1}]},{nc:3,ll:3}]},{nc:2,fi:4,rs:1}]},{nc:4,n:[{nc:4,n:[{nc:4,ll:2},{nc:3,ll:3},{nc:3,n:[{nc:4,ll:2},{nc:4,ll:3},{nc:3,ll:4}]},{nc:2,fi:4,rs:1}]},{nc:3,ll:2},{nc:3,n:[{nc:4,ll:2},{nc:4,n:[{nc:4,ll:3},{nc:3,ll:2},{nc:3,ll:4},{nc:2,fi:4,rs:1}]},{nc:3,ll:3}]},{nc:2,fi:4,rs:1}]},{nc:3,n:[{nc:4,n:[{nc:4,n:[{nc:4,ll:2},{nc:3,ll:3},{nc:3,ll:4},{nc:2,fi:4,rs:1}]},{nc:3,ll:2},{nc:3,ll:3},{nc:2,fi:4,rs:1}]},{nc:4,n:[{nc:4,n:[{nc:4,ll:2},{nc:3,ll:3},{nc:3,ll:4},{nc:2,fi:4,rs:1}]},{nc:3,ll:2},{nc:3,ll:3},{nc:2,fi:4,rs:1}]},{nc:3,ll:2}]}]},{nc:2,fi:4,rs:1}] -> Count: 30\n",
      "Signature Group 33: [{nc:4,n:[{nc:4,n:[{nc:4,ll:2},{nc:4,n:[{nc:4,ll:2},{nc:4,ll:3},{nc:3,n:[{nc:4,ll:2},{nc:4,ll:3},{nc:4,ll:4}]},{nc:3,n:[{nc:4,ll:2},{nc:4,ll:3},{nc:4,ll:4}]}]},{nc:3,n:[{nc:4,ll:2},{nc:4,ll:3},{nc:4,n:[{nc:4,ll:3},{nc:4,ll:4},{nc:3,ll:2},{nc:3,n:[{nc:4,ll:2},{nc:4,ll:4},{nc:4,ll:5}]}]}]},{nc:3,n:[{nc:4,ll:2},{nc:4,ll:3},{nc:4,n:[{nc:4,ll:3},{nc:4,ll:4},{nc:3,ll:2},{nc:3,n:[{nc:4,ll:2},{nc:4,ll:4},{nc:4,ll:5}]}]}]}]},{nc:4,n:[{nc:4,ll:2},{nc:4,n:[{nc:4,ll:2},{nc:4,ll:3},{nc:3,n:[{nc:4,ll:2},{nc:4,ll:3},{nc:4,ll:4}]},{nc:3,n:[{nc:4,ll:2},{nc:4,ll:3},{nc:4,ll:4}]}]},{nc:3,n:[{nc:4,ll:2},{nc:4,ll:3},{nc:4,n:[{nc:4,ll:3},{nc:4,ll:4},{nc:3,ll:2},{nc:3,n:[{nc:4,ll:2},{nc:4,ll:4},{nc:4,ll:5}]}]}]},{nc:3,n:[{nc:4,ll:2},{nc:4,ll:3},{nc:4,n:[{nc:4,ll:3},{nc:4,ll:4},{nc:3,ll:2},{nc:3,n:[{nc:4,ll:2},{nc:4,ll:4},{nc:4,ll:5}]}]}]}]},{nc:3,n:[{nc:4,ll:2},{nc:4,n:[{nc:4,ll:3},{nc:4,n:[{nc:4,ll:2},{nc:4,ll:4},{nc:3,ll:3},{nc:3,n:[{nc:4,ll:2},{nc:4,ll:3},{nc:4,ll:5}]}]},{nc:3,ll:2},{nc:3,n:[{nc:4,ll:2},{nc:4,ll:4},{nc:4,n:[{nc:4,ll:3},{nc:4,ll:5},{nc:3,ll:2},{nc:3,ll:4}]}]}]},{nc:4,n:[{nc:4,ll:3},{nc:4,n:[{nc:4,ll:2},{nc:4,ll:4},{nc:3,ll:3},{nc:3,n:[{nc:4,ll:2},{nc:4,ll:3},{nc:4,ll:5}]}]},{nc:3,ll:2},{nc:3,n:[{nc:4,ll:2},{nc:4,ll:4},{nc:4,n:[{nc:4,ll:3},{nc:4,ll:5},{nc:3,ll:2},{nc:3,ll:4}]}]}]}]},{nc:3,n:[{nc:4,ll:2},{nc:4,n:[{nc:4,ll:3},{nc:4,n:[{nc:4,ll:2},{nc:4,ll:4},{nc:3,ll:3},{nc:3,n:[{nc:4,ll:2},{nc:4,ll:3},{nc:4,ll:5}]}]},{nc:3,ll:2},{nc:3,n:[{nc:4,ll:2},{nc:4,ll:4},{nc:4,n:[{nc:4,ll:3},{nc:4,ll:5},{nc:3,ll:2},{nc:3,ll:4}]}]}]},{nc:4,n:[{nc:4,ll:3},{nc:4,n:[{nc:4,ll:2},{nc:4,ll:4},{nc:3,ll:3},{nc:3,n:[{nc:4,ll:2},{nc:4,ll:3},{nc:4,ll:5}]}]},{nc:3,ll:2},{nc:3,n:[{nc:4,ll:2},{nc:4,ll:4},{nc:4,n:[{nc:4,ll:3},{nc:4,ll:5},{nc:3,ll:2},{nc:3,ll:4}]}]}]}]}]},{nc:4,n:[{nc:4,n:[{nc:4,ll:2},{nc:4,n:[{nc:4,ll:2},{nc:4,ll:3},{nc:3,n:[{nc:4,ll:2},{nc:4,ll:3},{nc:4,ll:4}]},{nc:3,n:[{nc:4,ll:2},{nc:4,ll:3},{nc:4,ll:4}]}]},{nc:3,n:[{nc:4,ll:2},{nc:4,ll:3},{nc:4,n:[{nc:4,ll:3},{nc:4,ll:4},{nc:3,ll:2},{nc:3,n:[{nc:4,ll:2},{nc:4,ll:4},{nc:4,ll:5}]}]}]},{nc:3,n:[{nc:4,ll:2},{nc:4,ll:3},{nc:4,n:[{nc:4,ll:3},{nc:4,ll:4},{nc:3,ll:2},{nc:3,n:[{nc:4,ll:2},{nc:4,ll:4},{nc:4,ll:5}]}]}]}]},{nc:4,n:[{nc:4,ll:2},{nc:4,n:[{nc:4,ll:2},{nc:4,ll:3},{nc:3,n:[{nc:4,ll:2},{nc:4,ll:3},{nc:4,ll:4}]},{nc:3,n:[{nc:4,ll:2},{nc:4,ll:3},{nc:4,ll:4}]}]},{nc:3,n:[{nc:4,ll:2},{nc:4,ll:3},{nc:4,n:[{nc:4,ll:3},{nc:4,ll:4},{nc:3,ll:2},{nc:3,n:[{nc:4,ll:2},{nc:4,ll:4},{nc:4,ll:5}]}]}]},{nc:3,n:[{nc:4,ll:2},{nc:4,ll:3},{nc:4,n:[{nc:4,ll:3},{nc:4,ll:4},{nc:3,ll:2},{nc:3,n:[{nc:4,ll:2},{nc:4,ll:4},{nc:4,ll:5}]}]}]}]},{nc:3,n:[{nc:4,ll:2},{nc:4,n:[{nc:4,ll:3},{nc:4,n:[{nc:4,ll:2},{nc:4,ll:4},{nc:3,ll:3},{nc:3,n:[{nc:4,ll:2},{nc:4,ll:3},{nc:4,ll:5}]}]},{nc:3,ll:2},{nc:3,n:[{nc:4,ll:2},{nc:4,ll:4},{nc:4,n:[{nc:4,ll:3},{nc:4,ll:5},{nc:3,ll:2},{nc:3,ll:4}]}]}]},{nc:4,n:[{nc:4,ll:3},{nc:4,n:[{nc:4,ll:2},{nc:4,ll:4},{nc:3,ll:3},{nc:3,n:[{nc:4,ll:2},{nc:4,ll:3},{nc:4,ll:5}]}]},{nc:3,ll:2},{nc:3,n:[{nc:4,ll:2},{nc:4,ll:4},{nc:4,n:[{nc:4,ll:3},{nc:4,ll:5},{nc:3,ll:2},{nc:3,ll:4}]}]}]}]},{nc:3,n:[{nc:4,ll:2},{nc:4,n:[{nc:4,ll:3},{nc:4,n:[{nc:4,ll:2},{nc:4,ll:4},{nc:3,ll:3},{nc:3,n:[{nc:4,ll:2},{nc:4,ll:3},{nc:4,ll:5}]}]},{nc:3,ll:2},{nc:3,n:[{nc:4,ll:2},{nc:4,ll:4},{nc:4,n:[{nc:4,ll:3},{nc:4,ll:5},{nc:3,ll:2},{nc:3,ll:4}]}]}]},{nc:4,n:[{nc:4,ll:3},{nc:4,n:[{nc:4,ll:2},{nc:4,ll:4},{nc:3,ll:3},{nc:3,n:[{nc:4,ll:2},{nc:4,ll:3},{nc:4,ll:5}]}]},{nc:3,ll:2},{nc:3,n:[{nc:4,ll:2},{nc:4,ll:4},{nc:4,n:[{nc:4,ll:3},{nc:4,ll:5},{nc:3,ll:2},{nc:3,ll:4}]}]}]}]}]},{nc:4,n:[{nc:4,n:[{nc:4,ll:2},{nc:4,n:[{nc:4,ll:2},{nc:4,ll:3},{nc:3,n:[{nc:4,ll:2},{nc:4,ll:3},{nc:4,ll:4}]},{nc:3,n:[{nc:4,ll:2},{nc:4,ll:3},{nc:4,ll:4}]}]},{nc:3,n:[{nc:4,ll:2},{nc:4,ll:3},{nc:4,n:[{nc:4,ll:3},{nc:4,ll:4},{nc:3,ll:2},{nc:3,n:[{nc:4,ll:2},{nc:4,ll:4},{nc:4,ll:5}]}]}]},{nc:3,n:[{nc:4,ll:2},{nc:4,ll:3},{nc:4,n:[{nc:4,ll:3},{nc:4,ll:4},{nc:3,ll:2},{nc:3,n:[{nc:4,ll:2},{nc:4,ll:4},{nc:4,ll:5}]}]}]}]},{nc:4,n:[{nc:4,ll:2},{nc:4,n:[{nc:4,ll:2},{nc:4,ll:3},{nc:3,n:[{nc:4,ll:2},{nc:4,ll:3},{nc:4,ll:4}]},{nc:3,n:[{nc:4,ll:2},{nc:4,ll:3},{nc:4,ll:4}]}]},{nc:3,n:[{nc:4,ll:2},{nc:4,ll:3},{nc:4,n:[{nc:4,ll:3},{nc:4,ll:4},{nc:3,ll:2},{nc:3,n:[{nc:4,ll:2},{nc:4,ll:4},{nc:4,ll:5}]}]}]},{nc:3,n:[{nc:4,ll:2},{nc:4,ll:3},{nc:4,n:[{nc:4,ll:3},{nc:4,ll:4},{nc:3,ll:2},{nc:3,n:[{nc:4,ll:2},{nc:4,ll:4},{nc:4,ll:5}]}]}]}]},{nc:3,n:[{nc:4,ll:2},{nc:4,n:[{nc:4,ll:3},{nc:4,n:[{nc:4,ll:2},{nc:4,ll:4},{nc:3,ll:3},{nc:3,n:[{nc:4,ll:2},{nc:4,ll:3},{nc:4,ll:5}]}]},{nc:3,ll:2},{nc:3,n:[{nc:4,ll:2},{nc:4,ll:4},{nc:4,n:[{nc:4,ll:3},{nc:4,ll:5},{nc:3,ll:2},{nc:3,ll:4}]}]}]},{nc:4,n:[{nc:4,ll:3},{nc:4,n:[{nc:4,ll:2},{nc:4,ll:4},{nc:3,ll:3},{nc:3,n:[{nc:4,ll:2},{nc:4,ll:3},{nc:4,ll:5}]}]},{nc:3,ll:2},{nc:3,n:[{nc:4,ll:2},{nc:4,ll:4},{nc:4,n:[{nc:4,ll:3},{nc:4,ll:5},{nc:3,ll:2},{nc:3,ll:4}]}]}]}]},{nc:3,n:[{nc:4,ll:2},{nc:4,n:[{nc:4,ll:3},{nc:4,n:[{nc:4,ll:2},{nc:4,ll:4},{nc:3,ll:3},{nc:3,n:[{nc:4,ll:2},{nc:4,ll:3},{nc:4,ll:5}]}]},{nc:3,ll:2},{nc:3,n:[{nc:4,ll:2},{nc:4,ll:4},{nc:4,n:[{nc:4,ll:3},{nc:4,ll:5},{nc:3,ll:2},{nc:3,ll:4}]}]}]},{nc:4,n:[{nc:4,ll:3},{nc:4,n:[{nc:4,ll:2},{nc:4,ll:4},{nc:3,ll:3},{nc:3,n:[{nc:4,ll:2},{nc:4,ll:3},{nc:4,ll:5}]}]},{nc:3,ll:2},{nc:3,n:[{nc:4,ll:2},{nc:4,ll:4},{nc:4,n:[{nc:4,ll:3},{nc:4,ll:5},{nc:3,ll:2},{nc:3,ll:4}]}]}]}]}]},{nc:3,n:[{nc:4,n:[{nc:4,n:[{nc:4,ll:2},{nc:4,n:[{nc:4,ll:2},{nc:4,ll:3},{nc:3,ll:4},{nc:3,n:[{nc:4,ll:2},{nc:4,ll:3},{nc:4,ll:4}]}]},{nc:3,ll:3},{nc:3,n:[{nc:4,ll:2},{nc:4,ll:3},{nc:4,n:[{nc:4,ll:3},{nc:4,ll:4},{nc:3,ll:2},{nc:3,ll:5}]}]}]},{nc:4,n:[{nc:4,ll:2},{nc:4,n:[{nc:4,ll:2},{nc:4,ll:3},{nc:3,ll:4},{nc:3,n:[{nc:4,ll:2},{nc:4,ll:3},{nc:4,ll:4}]}]},{nc:3,ll:3},{nc:3,n:[{nc:4,ll:2},{nc:4,ll:3},{nc:4,n:[{nc:4,ll:3},{nc:4,ll:4},{nc:3,ll:2},{nc:3,ll:5}]}]}]},{nc:3,ll:2},{nc:3,n:[{nc:4,ll:2},{nc:4,n:[{nc:4,ll:3},{nc:4,n:[{nc:4,ll:2},{nc:4,ll:4},{nc:3,ll:3},{nc:3,ll:5}]},{nc:3,ll:2},{nc:3,ll:4}]},{nc:4,n:[{nc:4,ll:3},{nc:4,n:[{nc:4,ll:2},{nc:4,ll:4},{nc:3,ll:3},{nc:3,ll:5}]},{nc:3,ll:2},{nc:3,ll:4}]}]}]},{nc:4,n:[{nc:4,n:[{nc:4,ll:2},{nc:4,n:[{nc:4,ll:2},{nc:4,ll:3},{nc:3,ll:4},{nc:3,n:[{nc:4,ll:2},{nc:4,ll:3},{nc:4,ll:4}]}]},{nc:3,ll:3},{nc:3,n:[{nc:4,ll:2},{nc:4,ll:3},{nc:4,n:[{nc:4,ll:3},{nc:4,ll:4},{nc:3,ll:2},{nc:3,ll:5}]}]}]},{nc:4,n:[{nc:4,ll:2},{nc:4,n:[{nc:4,ll:2},{nc:4,ll:3},{nc:3,ll:4},{nc:3,n:[{nc:4,ll:2},{nc:4,ll:3},{nc:4,ll:4}]}]},{nc:3,ll:3},{nc:3,n:[{nc:4,ll:2},{nc:4,ll:3},{nc:4,n:[{nc:4,ll:3},{nc:4,ll:4},{nc:3,ll:2},{nc:3,ll:5}]}]}]},{nc:3,ll:2},{nc:3,n:[{nc:4,ll:2},{nc:4,n:[{nc:4,ll:3},{nc:4,n:[{nc:4,ll:2},{nc:4,ll:4},{nc:3,ll:3},{nc:3,ll:5}]},{nc:3,ll:2},{nc:3,ll:4}]},{nc:4,n:[{nc:4,ll:3},{nc:4,n:[{nc:4,ll:2},{nc:4,ll:4},{nc:3,ll:3},{nc:3,ll:5}]},{nc:3,ll:2},{nc:3,ll:4}]}]}]},{nc:4,n:[{nc:4,n:[{nc:4,ll:2},{nc:4,n:[{nc:4,ll:2},{nc:4,ll:3},{nc:3,ll:4},{nc:3,n:[{nc:4,ll:2},{nc:4,ll:3},{nc:4,ll:4}]}]},{nc:3,ll:3},{nc:3,n:[{nc:4,ll:2},{nc:4,ll:3},{nc:4,n:[{nc:4,ll:3},{nc:4,ll:4},{nc:3,ll:2},{nc:3,ll:5}]}]}]},{nc:4,n:[{nc:4,ll:2},{nc:4,n:[{nc:4,ll:2},{nc:4,ll:3},{nc:3,ll:4},{nc:3,n:[{nc:4,ll:2},{nc:4,ll:3},{nc:4,ll:4}]}]},{nc:3,ll:3},{nc:3,n:[{nc:4,ll:2},{nc:4,ll:3},{nc:4,n:[{nc:4,ll:3},{nc:4,ll:4},{nc:3,ll:2},{nc:3,ll:5}]}]}]},{nc:3,ll:2},{nc:3,n:[{nc:4,ll:2},{nc:4,n:[{nc:4,ll:3},{nc:4,n:[{nc:4,ll:2},{nc:4,ll:4},{nc:3,ll:3},{nc:3,ll:5}]},{nc:3,ll:2},{nc:3,ll:4}]},{nc:4,n:[{nc:4,ll:3},{nc:4,n:[{nc:4,ll:2},{nc:4,ll:4},{nc:3,ll:3},{nc:3,ll:5}]},{nc:3,ll:2},{nc:3,ll:4}]}]}]}]},{nc:3,n:[{nc:4,n:[{nc:4,n:[{nc:4,ll:2},{nc:4,n:[{nc:4,ll:2},{nc:4,ll:3},{nc:3,ll:4},{nc:3,n:[{nc:4,ll:2},{nc:4,ll:3},{nc:4,ll:4}]}]},{nc:3,ll:3},{nc:3,n:[{nc:4,ll:2},{nc:4,ll:3},{nc:4,n:[{nc:4,ll:3},{nc:4,ll:4},{nc:3,ll:2},{nc:3,ll:5}]}]}]},{nc:4,n:[{nc:4,ll:2},{nc:4,n:[{nc:4,ll:2},{nc:4,ll:3},{nc:3,ll:4},{nc:3,n:[{nc:4,ll:2},{nc:4,ll:3},{nc:4,ll:4}]}]},{nc:3,ll:3},{nc:3,n:[{nc:4,ll:2},{nc:4,ll:3},{nc:4,n:[{nc:4,ll:3},{nc:4,ll:4},{nc:3,ll:2},{nc:3,ll:5}]}]}]},{nc:3,ll:2},{nc:3,n:[{nc:4,ll:2},{nc:4,n:[{nc:4,ll:3},{nc:4,n:[{nc:4,ll:2},{nc:4,ll:4},{nc:3,ll:3},{nc:3,ll:5}]},{nc:3,ll:2},{nc:3,ll:4}]},{nc:4,n:[{nc:4,ll:3},{nc:4,n:[{nc:4,ll:2},{nc:4,ll:4},{nc:3,ll:3},{nc:3,ll:5}]},{nc:3,ll:2},{nc:3,ll:4}]}]}]},{nc:4,n:[{nc:4,n:[{nc:4,ll:2},{nc:4,n:[{nc:4,ll:2},{nc:4,ll:3},{nc:3,ll:4},{nc:3,n:[{nc:4,ll:2},{nc:4,ll:3},{nc:4,ll:4}]}]},{nc:3,ll:3},{nc:3,n:[{nc:4,ll:2},{nc:4,ll:3},{nc:4,n:[{nc:4,ll:3},{nc:4,ll:4},{nc:3,ll:2},{nc:3,ll:5}]}]}]},{nc:4,n:[{nc:4,ll:2},{nc:4,n:[{nc:4,ll:2},{nc:4,ll:3},{nc:3,ll:4},{nc:3,n:[{nc:4,ll:2},{nc:4,ll:3},{nc:4,ll:4}]}]},{nc:3,ll:3},{nc:3,n:[{nc:4,ll:2},{nc:4,ll:3},{nc:4,n:[{nc:4,ll:3},{nc:4,ll:4},{nc:3,ll:2},{nc:3,ll:5}]}]}]},{nc:3,ll:2},{nc:3,n:[{nc:4,ll:2},{nc:4,n:[{nc:4,ll:3},{nc:4,n:[{nc:4,ll:2},{nc:4,ll:4},{nc:3,ll:3},{nc:3,ll:5}]},{nc:3,ll:2},{nc:3,ll:4}]},{nc:4,n:[{nc:4,ll:3},{nc:4,n:[{nc:4,ll:2},{nc:4,ll:4},{nc:3,ll:3},{nc:3,ll:5}]},{nc:3,ll:2},{nc:3,ll:4}]}]}]},{nc:4,n:[{nc:4,n:[{nc:4,ll:2},{nc:4,n:[{nc:4,ll:2},{nc:4,ll:3},{nc:3,ll:4},{nc:3,n:[{nc:4,ll:2},{nc:4,ll:3},{nc:4,ll:4}]}]},{nc:3,ll:3},{nc:3,n:[{nc:4,ll:2},{nc:4,ll:3},{nc:4,n:[{nc:4,ll:3},{nc:4,ll:4},{nc:3,ll:2},{nc:3,ll:5}]}]}]},{nc:4,n:[{nc:4,ll:2},{nc:4,n:[{nc:4,ll:2},{nc:4,ll:3},{nc:3,ll:4},{nc:3,n:[{nc:4,ll:2},{nc:4,ll:3},{nc:4,ll:4}]}]},{nc:3,ll:3},{nc:3,n:[{nc:4,ll:2},{nc:4,ll:3},{nc:4,n:[{nc:4,ll:3},{nc:4,ll:4},{nc:3,ll:2},{nc:3,ll:5}]}]}]},{nc:3,ll:2},{nc:3,n:[{nc:4,ll:2},{nc:4,n:[{nc:4,ll:3},{nc:4,n:[{nc:4,ll:2},{nc:4,ll:4},{nc:3,ll:3},{nc:3,ll:5}]},{nc:3,ll:2},{nc:3,ll:4}]},{nc:4,n:[{nc:4,ll:3},{nc:4,n:[{nc:4,ll:2},{nc:4,ll:4},{nc:3,ll:3},{nc:3,ll:5}]},{nc:3,ll:2},{nc:3,ll:4}]}]}]}]}] -> Count: 10\n",
      "Signature Group 34: [{nc:4,n:[{nc:4,n:[{nc:4,ll:2},{nc:4,n:[{nc:4,ll:2},{nc:4,ll:3},{nc:4,n:[{nc:4,ll:2},{nc:4,ll:3},{nc:4,ll:4},{nc:4,n:[{nc:4,ll:2},{nc:4,ll:3},{nc:4,ll:4},{nc:4,ll:5}]}]},{nc:4,n:[{nc:4,ll:2},{nc:4,ll:3},{nc:4,ll:4},{nc:4,n:[{nc:4,ll:2},{nc:4,ll:3},{nc:4,ll:4},{nc:4,ll:5}]}]}]},{nc:4,n:[{nc:4,ll:2},{nc:4,ll:3},{nc:4,n:[{nc:4,ll:2},{nc:4,ll:3},{nc:4,ll:4},{nc:4,n:[{nc:4,ll:2},{nc:4,ll:3},{nc:4,ll:4},{nc:4,ll:5}]}]},{nc:4,n:[{nc:4,ll:2},{nc:4,ll:3},{nc:4,ll:4},{nc:4,n:[{nc:4,ll:2},{nc:4,ll:3},{nc:4,ll:4},{nc:4,ll:5}]}]}]},{nc:4,n:[{nc:4,ll:2},{nc:4,ll:3},{nc:4,n:[{nc:4,ll:2},{nc:4,ll:3},{nc:4,ll:4},{nc:4,n:[{nc:4,ll:2},{nc:4,ll:3},{nc:4,ll:4},{nc:4,ll:5}]}]},{nc:4,n:[{nc:4,ll:2},{nc:4,ll:3},{nc:4,ll:4},{nc:4,n:[{nc:4,ll:2},{nc:4,ll:3},{nc:4,ll:4},{nc:4,ll:5}]}]}]}]},{nc:4,n:[{nc:4,ll:2},{nc:4,n:[{nc:4,ll:2},{nc:4,ll:3},{nc:4,n:[{nc:4,ll:2},{nc:4,ll:3},{nc:4,ll:4},{nc:4,n:[{nc:4,ll:2},{nc:4,ll:3},{nc:4,ll:4},{nc:4,ll:5}]}]},{nc:4,n:[{nc:4,ll:2},{nc:4,ll:3},{nc:4,ll:4},{nc:4,n:[{nc:4,ll:2},{nc:4,ll:3},{nc:4,ll:4},{nc:4,ll:5}]}]}]},{nc:4,n:[{nc:4,ll:2},{nc:4,ll:3},{nc:4,n:[{nc:4,ll:2},{nc:4,ll:3},{nc:4,ll:4},{nc:4,n:[{nc:4,ll:2},{nc:4,ll:3},{nc:4,ll:4},{nc:4,ll:5}]}]},{nc:4,n:[{nc:4,ll:2},{nc:4,ll:3},{nc:4,ll:4},{nc:4,n:[{nc:4,ll:2},{nc:4,ll:3},{nc:4,ll:4},{nc:4,ll:5}]}]}]},{nc:4,n:[{nc:4,ll:2},{nc:4,ll:3},{nc:4,n:[{nc:4,ll:2},{nc:4,ll:3},{nc:4,ll:4},{nc:4,n:[{nc:4,ll:2},{nc:4,ll:3},{nc:4,ll:4},{nc:4,ll:5}]}]},{nc:4,n:[{nc:4,ll:2},{nc:4,ll:3},{nc:4,ll:4},{nc:4,n:[{nc:4,ll:2},{nc:4,ll:3},{nc:4,ll:4},{nc:4,ll:5}]}]}]}]},{nc:4,n:[{nc:4,ll:2},{nc:4,n:[{nc:4,ll:2},{nc:4,ll:3},{nc:4,n:[{nc:4,ll:2},{nc:4,ll:3},{nc:4,ll:4},{nc:4,n:[{nc:4,ll:2},{nc:4,ll:3},{nc:4,ll:4},{nc:4,ll:5}]}]},{nc:4,n:[{nc:4,ll:2},{nc:4,ll:3},{nc:4,ll:4},{nc:4,n:[{nc:4,ll:2},{nc:4,ll:3},{nc:4,ll:4},{nc:4,ll:5}]}]}]},{nc:4,n:[{nc:4,ll:2},{nc:4,ll:3},{nc:4,n:[{nc:4,ll:2},{nc:4,ll:3},{nc:4,ll:4},{nc:4,n:[{nc:4,ll:2},{nc:4,ll:3},{nc:4,ll:4},{nc:4,ll:5}]}]},{nc:4,n:[{nc:4,ll:2},{nc:4,ll:3},{nc:4,ll:4},{nc:4,n:[{nc:4,ll:2},{nc:4,ll:3},{nc:4,ll:4},{nc:4,ll:5}]}]}]},{nc:4,n:[{nc:4,ll:2},{nc:4,ll:3},{nc:4,n:[{nc:4,ll:2},{nc:4,ll:3},{nc:4,ll:4},{nc:4,n:[{nc:4,ll:2},{nc:4,ll:3},{nc:4,ll:4},{nc:4,ll:5}]}]},{nc:4,n:[{nc:4,ll:2},{nc:4,ll:3},{nc:4,ll:4},{nc:4,n:[{nc:4,ll:2},{nc:4,ll:3},{nc:4,ll:4},{nc:4,ll:5}]}]}]}]},{nc:4,n:[{nc:4,ll:2},{nc:4,n:[{nc:4,ll:2},{nc:4,ll:3},{nc:4,n:[{nc:4,ll:2},{nc:4,ll:3},{nc:4,ll:4},{nc:4,n:[{nc:4,ll:2},{nc:4,ll:3},{nc:4,ll:4},{nc:4,ll:5}]}]},{nc:4,n:[{nc:4,ll:2},{nc:4,ll:3},{nc:4,ll:4},{nc:4,n:[{nc:4,ll:2},{nc:4,ll:3},{nc:4,ll:4},{nc:4,ll:5}]}]}]},{nc:4,n:[{nc:4,ll:2},{nc:4,ll:3},{nc:4,n:[{nc:4,ll:2},{nc:4,ll:3},{nc:4,ll:4},{nc:4,n:[{nc:4,ll:2},{nc:4,ll:3},{nc:4,ll:4},{nc:4,ll:5}]}]},{nc:4,n:[{nc:4,ll:2},{nc:4,ll:3},{nc:4,ll:4},{nc:4,n:[{nc:4,ll:2},{nc:4,ll:3},{nc:4,ll:4},{nc:4,ll:5}]}]}]},{nc:4,n:[{nc:4,ll:2},{nc:4,ll:3},{nc:4,n:[{nc:4,ll:2},{nc:4,ll:3},{nc:4,ll:4},{nc:4,n:[{nc:4,ll:2},{nc:4,ll:3},{nc:4,ll:4},{nc:4,ll:5}]}]},{nc:4,n:[{nc:4,ll:2},{nc:4,ll:3},{nc:4,ll:4},{nc:4,n:[{nc:4,ll:2},{nc:4,ll:3},{nc:4,ll:4},{nc:4,ll:5}]}]}]}]}]},{nc:4,n:[{nc:4,n:[{nc:4,ll:2},{nc:4,n:[{nc:4,ll:2},{nc:4,ll:3},{nc:4,n:[{nc:4,ll:2},{nc:4,ll:3},{nc:4,ll:4},{nc:4,n:[{nc:4,ll:2},{nc:4,ll:3},{nc:4,ll:4},{nc:4,ll:5}]}]},{nc:4,n:[{nc:4,ll:2},{nc:4,ll:3},{nc:4,ll:4},{nc:4,n:[{nc:4,ll:2},{nc:4,ll:3},{nc:4,ll:4},{nc:4,ll:5}]}]}]},{nc:4,n:[{nc:4,ll:2},{nc:4,ll:3},{nc:4,n:[{nc:4,ll:2},{nc:4,ll:3},{nc:4,ll:4},{nc:4,n:[{nc:4,ll:2},{nc:4,ll:3},{nc:4,ll:4},{nc:4,ll:5}]}]},{nc:4,n:[{nc:4,ll:2},{nc:4,ll:3},{nc:4,ll:4},{nc:4,n:[{nc:4,ll:2},{nc:4,ll:3},{nc:4,ll:4},{nc:4,ll:5}]}]}]},{nc:4,n:[{nc:4,ll:2},{nc:4,ll:3},{nc:4,n:[{nc:4,ll:2},{nc:4,ll:3},{nc:4,ll:4},{nc:4,n:[{nc:4,ll:2},{nc:4,ll:3},{nc:4,ll:4},{nc:4,ll:5}]}]},{nc:4,n:[{nc:4,ll:2},{nc:4,ll:3},{nc:4,ll:4},{nc:4,n:[{nc:4,ll:2},{nc:4,ll:3},{nc:4,ll:4},{nc:4,ll:5}]}]}]}]},{nc:4,n:[{nc:4,ll:2},{nc:4,n:[{nc:4,ll:2},{nc:4,ll:3},{nc:4,n:[{nc:4,ll:2},{nc:4,ll:3},{nc:4,ll:4},{nc:4,n:[{nc:4,ll:2},{nc:4,ll:3},{nc:4,ll:4},{nc:4,ll:5}]}]},{nc:4,n:[{nc:4,ll:2},{nc:4,ll:3},{nc:4,ll:4},{nc:4,n:[{nc:4,ll:2},{nc:4,ll:3},{nc:4,ll:4},{nc:4,ll:5}]}]}]},{nc:4,n:[{nc:4,ll:2},{nc:4,ll:3},{nc:4,n:[{nc:4,ll:2},{nc:4,ll:3},{nc:4,ll:4},{nc:4,n:[{nc:4,ll:2},{nc:4,ll:3},{nc:4,ll:4},{nc:4,ll:5}]}]},{nc:4,n:[{nc:4,ll:2},{nc:4,ll:3},{nc:4,ll:4},{nc:4,n:[{nc:4,ll:2},{nc:4,ll:3},{nc:4,ll:4},{nc:4,ll:5}]}]}]},{nc:4,n:[{nc:4,ll:2},{nc:4,ll:3},{nc:4,n:[{nc:4,ll:2},{nc:4,ll:3},{nc:4,ll:4},{nc:4,n:[{nc:4,ll:2},{nc:4,ll:3},{nc:4,ll:4},{nc:4,ll:5}]}]},{nc:4,n:[{nc:4,ll:2},{nc:4,ll:3},{nc:4,ll:4},{nc:4,n:[{nc:4,ll:2},{nc:4,ll:3},{nc:4,ll:4},{nc:4,ll:5}]}]}]}]},{nc:4,n:[{nc:4,ll:2},{nc:4,n:[{nc:4,ll:2},{nc:4,ll:3},{nc:4,n:[{nc:4,ll:2},{nc:4,ll:3},{nc:4,ll:4},{nc:4,n:[{nc:4,ll:2},{nc:4,ll:3},{nc:4,ll:4},{nc:4,ll:5}]}]},{nc:4,n:[{nc:4,ll:2},{nc:4,ll:3},{nc:4,ll:4},{nc:4,n:[{nc:4,ll:2},{nc:4,ll:3},{nc:4,ll:4},{nc:4,ll:5}]}]}]},{nc:4,n:[{nc:4,ll:2},{nc:4,ll:3},{nc:4,n:[{nc:4,ll:2},{nc:4,ll:3},{nc:4,ll:4},{nc:4,n:[{nc:4,ll:2},{nc:4,ll:3},{nc:4,ll:4},{nc:4,ll:5}]}]},{nc:4,n:[{nc:4,ll:2},{nc:4,ll:3},{nc:4,ll:4},{nc:4,n:[{nc:4,ll:2},{nc:4,ll:3},{nc:4,ll:4},{nc:4,ll:5}]}]}]},{nc:4,n:[{nc:4,ll:2},{nc:4,ll:3},{nc:4,n:[{nc:4,ll:2},{nc:4,ll:3},{nc:4,ll:4},{nc:4,n:[{nc:4,ll:2},{nc:4,ll:3},{nc:4,ll:4},{nc:4,ll:5}]}]},{nc:4,n:[{nc:4,ll:2},{nc:4,ll:3},{nc:4,ll:4},{nc:4,n:[{nc:4,ll:2},{nc:4,ll:3},{nc:4,ll:4},{nc:4,ll:5}]}]}]}]},{nc:4,n:[{nc:4,ll:2},{nc:4,n:[{nc:4,ll:2},{nc:4,ll:3},{nc:4,n:[{nc:4,ll:2},{nc:4,ll:3},{nc:4,ll:4},{nc:4,n:[{nc:4,ll:2},{nc:4,ll:3},{nc:4,ll:4},{nc:4,ll:5}]}]},{nc:4,n:[{nc:4,ll:2},{nc:4,ll:3},{nc:4,ll:4},{nc:4,n:[{nc:4,ll:2},{nc:4,ll:3},{nc:4,ll:4},{nc:4,ll:5}]}]}]},{nc:4,n:[{nc:4,ll:2},{nc:4,ll:3},{nc:4,n:[{nc:4,ll:2},{nc:4,ll:3},{nc:4,ll:4},{nc:4,n:[{nc:4,ll:2},{nc:4,ll:3},{nc:4,ll:4},{nc:4,ll:5}]}]},{nc:4,n:[{nc:4,ll:2},{nc:4,ll:3},{nc:4,ll:4},{nc:4,n:[{nc:4,ll:2},{nc:4,ll:3},{nc:4,ll:4},{nc:4,ll:5}]}]}]},{nc:4,n:[{nc:4,ll:2},{nc:4,ll:3},{nc:4,n:[{nc:4,ll:2},{nc:4,ll:3},{nc:4,ll:4},{nc:4,n:[{nc:4,ll:2},{nc:4,ll:3},{nc:4,ll:4},{nc:4,ll:5}]}]},{nc:4,n:[{nc:4,ll:2},{nc:4,ll:3},{nc:4,ll:4},{nc:4,n:[{nc:4,ll:2},{nc:4,ll:3},{nc:4,ll:4},{nc:4,ll:5}]}]}]}]}]},{nc:4,n:[{nc:4,n:[{nc:4,ll:2},{nc:4,n:[{nc:4,ll:2},{nc:4,ll:3},{nc:4,n:[{nc:4,ll:2},{nc:4,ll:3},{nc:4,ll:4},{nc:4,n:[{nc:4,ll:2},{nc:4,ll:3},{nc:4,ll:4},{nc:4,ll:5}]}]},{nc:4,n:[{nc:4,ll:2},{nc:4,ll:3},{nc:4,ll:4},{nc:4,n:[{nc:4,ll:2},{nc:4,ll:3},{nc:4,ll:4},{nc:4,ll:5}]}]}]},{nc:4,n:[{nc:4,ll:2},{nc:4,ll:3},{nc:4,n:[{nc:4,ll:2},{nc:4,ll:3},{nc:4,ll:4},{nc:4,n:[{nc:4,ll:2},{nc:4,ll:3},{nc:4,ll:4},{nc:4,ll:5}]}]},{nc:4,n:[{nc:4,ll:2},{nc:4,ll:3},{nc:4,ll:4},{nc:4,n:[{nc:4,ll:2},{nc:4,ll:3},{nc:4,ll:4},{nc:4,ll:5}]}]}]},{nc:4,n:[{nc:4,ll:2},{nc:4,ll:3},{nc:4,n:[{nc:4,ll:2},{nc:4,ll:3},{nc:4,ll:4},{nc:4,n:[{nc:4,ll:2},{nc:4,ll:3},{nc:4,ll:4},{nc:4,ll:5}]}]},{nc:4,n:[{nc:4,ll:2},{nc:4,ll:3},{nc:4,ll:4},{nc:4,n:[{nc:4,ll:2},{nc:4,ll:3},{nc:4,ll:4},{nc:4,ll:5}]}]}]}]},{nc:4,n:[{nc:4,ll:2},{nc:4,n:[{nc:4,ll:2},{nc:4,ll:3},{nc:4,n:[{nc:4,ll:2},{nc:4,ll:3},{nc:4,ll:4},{nc:4,n:[{nc:4,ll:2},{nc:4,ll:3},{nc:4,ll:4},{nc:4,ll:5}]}]},{nc:4,n:[{nc:4,ll:2},{nc:4,ll:3},{nc:4,ll:4},{nc:4,n:[{nc:4,ll:2},{nc:4,ll:3},{nc:4,ll:4},{nc:4,ll:5}]}]}]},{nc:4,n:[{nc:4,ll:2},{nc:4,ll:3},{nc:4,n:[{nc:4,ll:2},{nc:4,ll:3},{nc:4,ll:4},{nc:4,n:[{nc:4,ll:2},{nc:4,ll:3},{nc:4,ll:4},{nc:4,ll:5}]}]},{nc:4,n:[{nc:4,ll:2},{nc:4,ll:3},{nc:4,ll:4},{nc:4,n:[{nc:4,ll:2},{nc:4,ll:3},{nc:4,ll:4},{nc:4,ll:5}]}]}]},{nc:4,n:[{nc:4,ll:2},{nc:4,ll:3},{nc:4,n:[{nc:4,ll:2},{nc:4,ll:3},{nc:4,ll:4},{nc:4,n:[{nc:4,ll:2},{nc:4,ll:3},{nc:4,ll:4},{nc:4,ll:5}]}]},{nc:4,n:[{nc:4,ll:2},{nc:4,ll:3},{nc:4,ll:4},{nc:4,n:[{nc:4,ll:2},{nc:4,ll:3},{nc:4,ll:4},{nc:4,ll:5}]}]}]}]},{nc:4,n:[{nc:4,ll:2},{nc:4,n:[{nc:4,ll:2},{nc:4,ll:3},{nc:4,n:[{nc:4,ll:2},{nc:4,ll:3},{nc:4,ll:4},{nc:4,n:[{nc:4,ll:2},{nc:4,ll:3},{nc:4,ll:4},{nc:4,ll:5}]}]},{nc:4,n:[{nc:4,ll:2},{nc:4,ll:3},{nc:4,ll:4},{nc:4,n:[{nc:4,ll:2},{nc:4,ll:3},{nc:4,ll:4},{nc:4,ll:5}]}]}]},{nc:4,n:[{nc:4,ll:2},{nc:4,ll:3},{nc:4,n:[{nc:4,ll:2},{nc:4,ll:3},{nc:4,ll:4},{nc:4,n:[{nc:4,ll:2},{nc:4,ll:3},{nc:4,ll:4},{nc:4,ll:5}]}]},{nc:4,n:[{nc:4,ll:2},{nc:4,ll:3},{nc:4,ll:4},{nc:4,n:[{nc:4,ll:2},{nc:4,ll:3},{nc:4,ll:4},{nc:4,ll:5}]}]}]},{nc:4,n:[{nc:4,ll:2},{nc:4,ll:3},{nc:4,n:[{nc:4,ll:2},{nc:4,ll:3},{nc:4,ll:4},{nc:4,n:[{nc:4,ll:2},{nc:4,ll:3},{nc:4,ll:4},{nc:4,ll:5}]}]},{nc:4,n:[{nc:4,ll:2},{nc:4,ll:3},{nc:4,ll:4},{nc:4,n:[{nc:4,ll:2},{nc:4,ll:3},{nc:4,ll:4},{nc:4,ll:5}]}]}]}]},{nc:4,n:[{nc:4,ll:2},{nc:4,n:[{nc:4,ll:2},{nc:4,ll:3},{nc:4,n:[{nc:4,ll:2},{nc:4,ll:3},{nc:4,ll:4},{nc:4,n:[{nc:4,ll:2},{nc:4,ll:3},{nc:4,ll:4},{nc:4,ll:5}]}]},{nc:4,n:[{nc:4,ll:2},{nc:4,ll:3},{nc:4,ll:4},{nc:4,n:[{nc:4,ll:2},{nc:4,ll:3},{nc:4,ll:4},{nc:4,ll:5}]}]}]},{nc:4,n:[{nc:4,ll:2},{nc:4,ll:3},{nc:4,n:[{nc:4,ll:2},{nc:4,ll:3},{nc:4,ll:4},{nc:4,n:[{nc:4,ll:2},{nc:4,ll:3},{nc:4,ll:4},{nc:4,ll:5}]}]},{nc:4,n:[{nc:4,ll:2},{nc:4,ll:3},{nc:4,ll:4},{nc:4,n:[{nc:4,ll:2},{nc:4,ll:3},{nc:4,ll:4},{nc:4,ll:5}]}]}]},{nc:4,n:[{nc:4,ll:2},{nc:4,ll:3},{nc:4,n:[{nc:4,ll:2},{nc:4,ll:3},{nc:4,ll:4},{nc:4,n:[{nc:4,ll:2},{nc:4,ll:3},{nc:4,ll:4},{nc:4,ll:5}]}]},{nc:4,n:[{nc:4,ll:2},{nc:4,ll:3},{nc:4,ll:4},{nc:4,n:[{nc:4,ll:2},{nc:4,ll:3},{nc:4,ll:4},{nc:4,ll:5}]}]}]}]}]},{nc:4,n:[{nc:4,n:[{nc:4,ll:2},{nc:4,n:[{nc:4,ll:2},{nc:4,ll:3},{nc:4,n:[{nc:4,ll:2},{nc:4,ll:3},{nc:4,ll:4},{nc:4,n:[{nc:4,ll:2},{nc:4,ll:3},{nc:4,ll:4},{nc:4,ll:5}]}]},{nc:4,n:[{nc:4,ll:2},{nc:4,ll:3},{nc:4,ll:4},{nc:4,n:[{nc:4,ll:2},{nc:4,ll:3},{nc:4,ll:4},{nc:4,ll:5}]}]}]},{nc:4,n:[{nc:4,ll:2},{nc:4,ll:3},{nc:4,n:[{nc:4,ll:2},{nc:4,ll:3},{nc:4,ll:4},{nc:4,n:[{nc:4,ll:2},{nc:4,ll:3},{nc:4,ll:4},{nc:4,ll:5}]}]},{nc:4,n:[{nc:4,ll:2},{nc:4,ll:3},{nc:4,ll:4},{nc:4,n:[{nc:4,ll:2},{nc:4,ll:3},{nc:4,ll:4},{nc:4,ll:5}]}]}]},{nc:4,n:[{nc:4,ll:2},{nc:4,ll:3},{nc:4,n:[{nc:4,ll:2},{nc:4,ll:3},{nc:4,ll:4},{nc:4,n:[{nc:4,ll:2},{nc:4,ll:3},{nc:4,ll:4},{nc:4,ll:5}]}]},{nc:4,n:[{nc:4,ll:2},{nc:4,ll:3},{nc:4,ll:4},{nc:4,n:[{nc:4,ll:2},{nc:4,ll:3},{nc:4,ll:4},{nc:4,ll:5}]}]}]}]},{nc:4,n:[{nc:4,ll:2},{nc:4,n:[{nc:4,ll:2},{nc:4,ll:3},{nc:4,n:[{nc:4,ll:2},{nc:4,ll:3},{nc:4,ll:4},{nc:4,n:[{nc:4,ll:2},{nc:4,ll:3},{nc:4,ll:4},{nc:4,ll:5}]}]},{nc:4,n:[{nc:4,ll:2},{nc:4,ll:3},{nc:4,ll:4},{nc:4,n:[{nc:4,ll:2},{nc:4,ll:3},{nc:4,ll:4},{nc:4,ll:5}]}]}]},{nc:4,n:[{nc:4,ll:2},{nc:4,ll:3},{nc:4,n:[{nc:4,ll:2},{nc:4,ll:3},{nc:4,ll:4},{nc:4,n:[{nc:4,ll:2},{nc:4,ll:3},{nc:4,ll:4},{nc:4,ll:5}]}]},{nc:4,n:[{nc:4,ll:2},{nc:4,ll:3},{nc:4,ll:4},{nc:4,n:[{nc:4,ll:2},{nc:4,ll:3},{nc:4,ll:4},{nc:4,ll:5}]}]}]},{nc:4,n:[{nc:4,ll:2},{nc:4,ll:3},{nc:4,n:[{nc:4,ll:2},{nc:4,ll:3},{nc:4,ll:4},{nc:4,n:[{nc:4,ll:2},{nc:4,ll:3},{nc:4,ll:4},{nc:4,ll:5}]}]},{nc:4,n:[{nc:4,ll:2},{nc:4,ll:3},{nc:4,ll:4},{nc:4,n:[{nc:4,ll:2},{nc:4,ll:3},{nc:4,ll:4},{nc:4,ll:5}]}]}]}]},{nc:4,n:[{nc:4,ll:2},{nc:4,n:[{nc:4,ll:2},{nc:4,ll:3},{nc:4,n:[{nc:4,ll:2},{nc:4,ll:3},{nc:4,ll:4},{nc:4,n:[{nc:4,ll:2},{nc:4,ll:3},{nc:4,ll:4},{nc:4,ll:5}]}]},{nc:4,n:[{nc:4,ll:2},{nc:4,ll:3},{nc:4,ll:4},{nc:4,n:[{nc:4,ll:2},{nc:4,ll:3},{nc:4,ll:4},{nc:4,ll:5}]}]}]},{nc:4,n:[{nc:4,ll:2},{nc:4,ll:3},{nc:4,n:[{nc:4,ll:2},{nc:4,ll:3},{nc:4,ll:4},{nc:4,n:[{nc:4,ll:2},{nc:4,ll:3},{nc:4,ll:4},{nc:4,ll:5}]}]},{nc:4,n:[{nc:4,ll:2},{nc:4,ll:3},{nc:4,ll:4},{nc:4,n:[{nc:4,ll:2},{nc:4,ll:3},{nc:4,ll:4},{nc:4,ll:5}]}]}]},{nc:4,n:[{nc:4,ll:2},{nc:4,ll:3},{nc:4,n:[{nc:4,ll:2},{nc:4,ll:3},{nc:4,ll:4},{nc:4,n:[{nc:4,ll:2},{nc:4,ll:3},{nc:4,ll:4},{nc:4,ll:5}]}]},{nc:4,n:[{nc:4,ll:2},{nc:4,ll:3},{nc:4,ll:4},{nc:4,n:[{nc:4,ll:2},{nc:4,ll:3},{nc:4,ll:4},{nc:4,ll:5}]}]}]}]},{nc:4,n:[{nc:4,ll:2},{nc:4,n:[{nc:4,ll:2},{nc:4,ll:3},{nc:4,n:[{nc:4,ll:2},{nc:4,ll:3},{nc:4,ll:4},{nc:4,n:[{nc:4,ll:2},{nc:4,ll:3},{nc:4,ll:4},{nc:4,ll:5}]}]},{nc:4,n:[{nc:4,ll:2},{nc:4,ll:3},{nc:4,ll:4},{nc:4,n:[{nc:4,ll:2},{nc:4,ll:3},{nc:4,ll:4},{nc:4,ll:5}]}]}]},{nc:4,n:[{nc:4,ll:2},{nc:4,ll:3},{nc:4,n:[{nc:4,ll:2},{nc:4,ll:3},{nc:4,ll:4},{nc:4,n:[{nc:4,ll:2},{nc:4,ll:3},{nc:4,ll:4},{nc:4,ll:5}]}]},{nc:4,n:[{nc:4,ll:2},{nc:4,ll:3},{nc:4,ll:4},{nc:4,n:[{nc:4,ll:2},{nc:4,ll:3},{nc:4,ll:4},{nc:4,ll:5}]}]}]},{nc:4,n:[{nc:4,ll:2},{nc:4,ll:3},{nc:4,n:[{nc:4,ll:2},{nc:4,ll:3},{nc:4,ll:4},{nc:4,n:[{nc:4,ll:2},{nc:4,ll:3},{nc:4,ll:4},{nc:4,ll:5}]}]},{nc:4,n:[{nc:4,ll:2},{nc:4,ll:3},{nc:4,ll:4},{nc:4,n:[{nc:4,ll:2},{nc:4,ll:3},{nc:4,ll:4},{nc:4,ll:5}]}]}]}]}]},{nc:4,n:[{nc:4,n:[{nc:4,ll:2},{nc:4,n:[{nc:4,ll:2},{nc:4,ll:3},{nc:4,n:[{nc:4,ll:2},{nc:4,ll:3},{nc:4,ll:4},{nc:4,n:[{nc:4,ll:2},{nc:4,ll:3},{nc:4,ll:4},{nc:4,ll:5}]}]},{nc:4,n:[{nc:4,ll:2},{nc:4,ll:3},{nc:4,ll:4},{nc:4,n:[{nc:4,ll:2},{nc:4,ll:3},{nc:4,ll:4},{nc:4,ll:5}]}]}]},{nc:4,n:[{nc:4,ll:2},{nc:4,ll:3},{nc:4,n:[{nc:4,ll:2},{nc:4,ll:3},{nc:4,ll:4},{nc:4,n:[{nc:4,ll:2},{nc:4,ll:3},{nc:4,ll:4},{nc:4,ll:5}]}]},{nc:4,n:[{nc:4,ll:2},{nc:4,ll:3},{nc:4,ll:4},{nc:4,n:[{nc:4,ll:2},{nc:4,ll:3},{nc:4,ll:4},{nc:4,ll:5}]}]}]},{nc:4,n:[{nc:4,ll:2},{nc:4,ll:3},{nc:4,n:[{nc:4,ll:2},{nc:4,ll:3},{nc:4,ll:4},{nc:4,n:[{nc:4,ll:2},{nc:4,ll:3},{nc:4,ll:4},{nc:4,ll:5}]}]},{nc:4,n:[{nc:4,ll:2},{nc:4,ll:3},{nc:4,ll:4},{nc:4,n:[{nc:4,ll:2},{nc:4,ll:3},{nc:4,ll:4},{nc:4,ll:5}]}]}]}]},{nc:4,n:[{nc:4,ll:2},{nc:4,n:[{nc:4,ll:2},{nc:4,ll:3},{nc:4,n:[{nc:4,ll:2},{nc:4,ll:3},{nc:4,ll:4},{nc:4,n:[{nc:4,ll:2},{nc:4,ll:3},{nc:4,ll:4},{nc:4,ll:5}]}]},{nc:4,n:[{nc:4,ll:2},{nc:4,ll:3},{nc:4,ll:4},{nc:4,n:[{nc:4,ll:2},{nc:4,ll:3},{nc:4,ll:4},{nc:4,ll:5}]}]}]},{nc:4,n:[{nc:4,ll:2},{nc:4,ll:3},{nc:4,n:[{nc:4,ll:2},{nc:4,ll:3},{nc:4,ll:4},{nc:4,n:[{nc:4,ll:2},{nc:4,ll:3},{nc:4,ll:4},{nc:4,ll:5}]}]},{nc:4,n:[{nc:4,ll:2},{nc:4,ll:3},{nc:4,ll:4},{nc:4,n:[{nc:4,ll:2},{nc:4,ll:3},{nc:4,ll:4},{nc:4,ll:5}]}]}]},{nc:4,n:[{nc:4,ll:2},{nc:4,ll:3},{nc:4,n:[{nc:4,ll:2},{nc:4,ll:3},{nc:4,ll:4},{nc:4,n:[{nc:4,ll:2},{nc:4,ll:3},{nc:4,ll:4},{nc:4,ll:5}]}]},{nc:4,n:[{nc:4,ll:2},{nc:4,ll:3},{nc:4,ll:4},{nc:4,n:[{nc:4,ll:2},{nc:4,ll:3},{nc:4,ll:4},{nc:4,ll:5}]}]}]}]},{nc:4,n:[{nc:4,ll:2},{nc:4,n:[{nc:4,ll:2},{nc:4,ll:3},{nc:4,n:[{nc:4,ll:2},{nc:4,ll:3},{nc:4,ll:4},{nc:4,n:[{nc:4,ll:2},{nc:4,ll:3},{nc:4,ll:4},{nc:4,ll:5}]}]},{nc:4,n:[{nc:4,ll:2},{nc:4,ll:3},{nc:4,ll:4},{nc:4,n:[{nc:4,ll:2},{nc:4,ll:3},{nc:4,ll:4},{nc:4,ll:5}]}]}]},{nc:4,n:[{nc:4,ll:2},{nc:4,ll:3},{nc:4,n:[{nc:4,ll:2},{nc:4,ll:3},{nc:4,ll:4},{nc:4,n:[{nc:4,ll:2},{nc:4,ll:3},{nc:4,ll:4},{nc:4,ll:5}]}]},{nc:4,n:[{nc:4,ll:2},{nc:4,ll:3},{nc:4,ll:4},{nc:4,n:[{nc:4,ll:2},{nc:4,ll:3},{nc:4,ll:4},{nc:4,ll:5}]}]}]},{nc:4,n:[{nc:4,ll:2},{nc:4,ll:3},{nc:4,n:[{nc:4,ll:2},{nc:4,ll:3},{nc:4,ll:4},{nc:4,n:[{nc:4,ll:2},{nc:4,ll:3},{nc:4,ll:4},{nc:4,ll:5}]}]},{nc:4,n:[{nc:4,ll:2},{nc:4,ll:3},{nc:4,ll:4},{nc:4,n:[{nc:4,ll:2},{nc:4,ll:3},{nc:4,ll:4},{nc:4,ll:5}]}]}]}]},{nc:4,n:[{nc:4,ll:2},{nc:4,n:[{nc:4,ll:2},{nc:4,ll:3},{nc:4,n:[{nc:4,ll:2},{nc:4,ll:3},{nc:4,ll:4},{nc:4,n:[{nc:4,ll:2},{nc:4,ll:3},{nc:4,ll:4},{nc:4,ll:5}]}]},{nc:4,n:[{nc:4,ll:2},{nc:4,ll:3},{nc:4,ll:4},{nc:4,n:[{nc:4,ll:2},{nc:4,ll:3},{nc:4,ll:4},{nc:4,ll:5}]}]}]},{nc:4,n:[{nc:4,ll:2},{nc:4,ll:3},{nc:4,n:[{nc:4,ll:2},{nc:4,ll:3},{nc:4,ll:4},{nc:4,n:[{nc:4,ll:2},{nc:4,ll:3},{nc:4,ll:4},{nc:4,ll:5}]}]},{nc:4,n:[{nc:4,ll:2},{nc:4,ll:3},{nc:4,ll:4},{nc:4,n:[{nc:4,ll:2},{nc:4,ll:3},{nc:4,ll:4},{nc:4,ll:5}]}]}]},{nc:4,n:[{nc:4,ll:2},{nc:4,ll:3},{nc:4,n:[{nc:4,ll:2},{nc:4,ll:3},{nc:4,ll:4},{nc:4,n:[{nc:4,ll:2},{nc:4,ll:3},{nc:4,ll:4},{nc:4,ll:5}]}]},{nc:4,n:[{nc:4,ll:2},{nc:4,ll:3},{nc:4,ll:4},{nc:4,n:[{nc:4,ll:2},{nc:4,ll:3},{nc:4,ll:4},{nc:4,ll:5}]}]}]}]}]}] -> Count: 1\n"
     ]
    }
   ],
   "source": [
    "test_order(5, num_expected=34, print_groups=True)"
   ]
  },
  {
   "cell_type": "markdown",
   "id": "d786837d",
   "metadata": {},
   "source": [
    "## 5.4 Order 6"
   ]
  },
  {
   "cell_type": "code",
   "execution_count": 20,
   "id": "0bcb701c",
   "metadata": {},
   "outputs": [
    {
     "name": "stdout",
     "output_type": "stream",
     "text": [
      "[7%] Found 33 unique signatures out of 156\n",
      "[15%] Found 39 unique signatures out of 156\n",
      "[22%] Found 54 unique signatures out of 156\n",
      "[30%] Found 61 unique signatures out of 156\n",
      "[38%] Found 78 unique signatures out of 156\n",
      "[45%] Found 78 unique signatures out of 156\n",
      "[53%] Found 102 unique signatures out of 156\n",
      "[61%] Found 102 unique signatures out of 156\n",
      "[68%] Found 102 unique signatures out of 156\n",
      "[76%] Found 123 unique signatures out of 156\n",
      "[83%] Found 123 unique signatures out of 156\n",
      "[91%] Found 138 unique signatures out of 156\n",
      "[99%] Found 152 unique signatures out of 156\n",
      "✅ We expect 156 unique signatures and got 156\n"
     ]
    }
   ],
   "source": [
    "test_order(6, num_expected=156, print_groups=False)"
   ]
  },
  {
   "cell_type": "markdown",
   "id": "9fc96308",
   "metadata": {},
   "source": [
    "## 5.5 Order 7"
   ]
  },
  {
   "cell_type": "code",
   "execution_count": 24,
   "id": "4c77776b",
   "metadata": {},
   "outputs": [
    {
     "name": "stdout",
     "output_type": "stream",
     "text": [
      "[1%] Found 40 unique signatures out of 1044\n",
      "[2%] Found 81 unique signatures out of 1044\n",
      "[3%] Found 81 unique signatures out of 1044\n",
      "[4%] Found 146 unique signatures out of 1044\n",
      "[5%] Found 146 unique signatures out of 1044\n",
      "[7%] Found 146 unique signatures out of 1044\n",
      "[8%] Found 146 unique signatures out of 1044\n",
      "[9%] Found 204 unique signatures out of 1044\n",
      "[10%] Found 243 unique signatures out of 1044\n",
      "[11%] Found 243 unique signatures out of 1044\n",
      "[13%] Found 243 unique signatures out of 1044\n",
      "[14%] Found 243 unique signatures out of 1044\n",
      "[15%] Found 243 unique signatures out of 1044\n",
      "[16%] Found 243 unique signatures out of 1044\n",
      "[17%] Found 243 unique signatures out of 1044\n",
      "[19%] Found 243 unique signatures out of 1044\n",
      "[20%] Found 374 unique signatures out of 1044\n",
      "[21%] Found 374 unique signatures out of 1044\n",
      "[22%] Found 374 unique signatures out of 1044\n",
      "[23%] Found 374 unique signatures out of 1044\n",
      "[25%] Found 374 unique signatures out of 1044\n",
      "[26%] Found 374 unique signatures out of 1044\n",
      "[27%] Found 374 unique signatures out of 1044\n",
      "[28%] Found 374 unique signatures out of 1044\n",
      "[29%] Found 374 unique signatures out of 1044\n",
      "[30%] Found 374 unique signatures out of 1044\n",
      "[32%] Found 374 unique signatures out of 1044\n",
      "[33%] Found 433 unique signatures out of 1044\n",
      "[34%] Found 520 unique signatures out of 1044\n",
      "[35%] Found 521 unique signatures out of 1044\n",
      "[36%] Found 521 unique signatures out of 1044\n",
      "[38%] Found 521 unique signatures out of 1044\n",
      "[39%] Found 521 unique signatures out of 1044\n",
      "[40%] Found 521 unique signatures out of 1044\n",
      "[41%] Found 521 unique signatures out of 1044\n",
      "[42%] Found 521 unique signatures out of 1044\n",
      "[44%] Found 521 unique signatures out of 1044\n",
      "[45%] Found 521 unique signatures out of 1044\n",
      "[46%] Found 521 unique signatures out of 1044\n",
      "[47%] Found 521 unique signatures out of 1044\n",
      "[48%] Found 521 unique signatures out of 1044\n",
      "[50%] Found 536 unique signatures out of 1044\n",
      "[51%] Found 668 unique signatures out of 1044\n",
      "[52%] Found 668 unique signatures out of 1044\n",
      "[53%] Found 668 unique signatures out of 1044\n",
      "[54%] Found 668 unique signatures out of 1044\n",
      "[56%] Found 668 unique signatures out of 1044\n",
      "[57%] Found 668 unique signatures out of 1044\n",
      "[58%] Found 668 unique signatures out of 1044\n",
      "[59%] Found 668 unique signatures out of 1044\n",
      "[60%] Found 668 unique signatures out of 1044\n",
      "[61%] Found 668 unique signatures out of 1044\n",
      "[63%] Found 668 unique signatures out of 1044\n",
      "[64%] Found 668 unique signatures out of 1044\n",
      "[65%] Found 668 unique signatures out of 1044\n",
      "[66%] Found 668 unique signatures out of 1044\n",
      "[67%] Found 798 unique signatures out of 1044\n",
      "[69%] Found 799 unique signatures out of 1044\n",
      "[70%] Found 799 unique signatures out of 1044\n",
      "[71%] Found 799 unique signatures out of 1044\n",
      "[72%] Found 799 unique signatures out of 1044\n",
      "[73%] Found 799 unique signatures out of 1044\n",
      "[75%] Found 799 unique signatures out of 1044\n",
      "[76%] Found 799 unique signatures out of 1044\n",
      "[77%] Found 799 unique signatures out of 1044\n",
      "[78%] Found 799 unique signatures out of 1044\n",
      "[79%] Found 799 unique signatures out of 1044\n",
      "[81%] Found 823 unique signatures out of 1044\n",
      "[82%] Found 896 unique signatures out of 1044\n",
      "[83%] Found 896 unique signatures out of 1044\n",
      "[84%] Found 896 unique signatures out of 1044\n",
      "[85%] Found 896 unique signatures out of 1044\n",
      "[87%] Found 896 unique signatures out of 1044\n",
      "[88%] Found 896 unique signatures out of 1044\n",
      "[89%] Found 896 unique signatures out of 1044\n",
      "[90%] Found 920 unique signatures out of 1044\n",
      "[91%] Found 961 unique signatures out of 1044\n",
      "[92%] Found 961 unique signatures out of 1044\n",
      "[94%] Found 961 unique signatures out of 1044\n",
      "[95%] Found 961 unique signatures out of 1044\n",
      "[96%] Found 1002 unique signatures out of 1044\n",
      "[97%] Found 1002 unique signatures out of 1044\n",
      "[98%] Found 1023 unique signatures out of 1044\n",
      "❌ We expect 1044 unique signatures and got 1042\n"
     ]
    }
   ],
   "source": [
    "test_order(7, num_expected=1044, print_groups=False)"
   ]
  }
 ],
 "metadata": {
  "kernelspec": {
   "display_name": "3.12.0",
   "language": "python",
   "name": "python3"
  },
  "language_info": {
   "codemirror_mode": {
    "name": "ipython",
    "version": 3
   },
   "file_extension": ".py",
   "mimetype": "text/x-python",
   "name": "python",
   "nbconvert_exporter": "python",
   "pygments_lexer": "ipython3",
   "version": "3.12.0"
  }
 },
 "nbformat": 4,
 "nbformat_minor": 5
}
